{
 "cells": [
  {
   "cell_type": "markdown",
   "metadata": {
    "extensions": {
     "jupyter_dashboards": {
      "version": 1,
      "views": {
       "grid_default": {
        "col": 0,
        "height": 4,
        "hidden": false,
        "row": 0,
        "width": 4
       },
       "report_default": {
        "hidden": false
       }
      }
     }
    }
   },
   "source": [
    "# Project: Wrangling and Analyze Data"
   ]
  },
  {
   "cell_type": "markdown",
   "metadata": {},
   "source": [
    "## Data Gathering\n",
    "In the cell below, gather **all** three pieces of data for this project and load them in the notebook. **Note:** the methods required to gather each data are different.\n",
    "1. Directly download the WeRateDogs Twitter archive data (twitter_archive_enhanced.csv)"
   ]
  },
  {
   "cell_type": "code",
   "execution_count": 1,
   "metadata": {
    "extensions": {
     "jupyter_dashboards": {
      "version": 1,
      "views": {
       "grid_default": {
        "hidden": true
       },
       "report_default": {
        "hidden": true
       }
      }
     }
    }
   },
   "outputs": [],
   "source": [
    "import tweepy\n",
    "import pandas as pd\n",
    "import numpy as np\n",
    "import json\n",
    "import matplotlib.pyplot as plt\n",
    "%matplotlib inline\n",
    "import seaborn as sns\n",
    "import requests"
   ]
  },
  {
   "cell_type": "code",
   "execution_count": 2,
   "metadata": {},
   "outputs": [],
   "source": [
    "#Load the twitter archive into a Dataframe\n",
    "df_arch = pd.read_csv('twitter-archive-enhanced.csv')"
   ]
  },
  {
   "cell_type": "markdown",
   "metadata": {},
   "source": [
    "2. Use the Requests library to download the tweet image prediction (image_predictions.tsv)"
   ]
  },
  {
   "cell_type": "code",
   "execution_count": 3,
   "metadata": {},
   "outputs": [],
   "source": [
    "#load the image predictions file and write it to imaga-prediction.tsv using request method\n",
    "\n",
    "url = 'https://d17h27t6h515a5.cloudfront.net/topher/2017/August/599fd2ad_image-predictions/image-predictions.tsv'\n",
    "response = requests.get(url)\n",
    "\n",
    "with open ('image-predictions.tsv', mode='wb') as file:\n",
    "    file.write(response.content)\n"
   ]
  },
  {
   "cell_type": "code",
   "execution_count": 5,
   "metadata": {},
   "outputs": [],
   "source": [
    "#Load the image prediction file into Dataframe     \n",
    "image_pred_df = pd.read_csv('image-predictions.tsv',sep=\"\\t\")"
   ]
  },
  {
   "cell_type": "markdown",
   "metadata": {},
   "source": [
    "3. Use the Tweepy library to query additional data via the Twitter API (tweet_json.txt)"
   ]
  },
  {
   "cell_type": "code",
   "execution_count": null,
   "metadata": {
    "scrolled": false
   },
   "outputs": [],
   "source": [
    "import tweepy\n",
    "from tweepy import OAuthHandler\n",
    "from timeit import default_timer as timer\n",
    "\n",
    "# Query Twitter API for each tweet in the Twitter archive and save JSON in a text file\n",
    "# These are hidden to comply with Twitter's API terms and conditions\n",
    "consumer_key = 'HIDDEN'\n",
    "consumer_secret = 'HIDDEN'\n",
    "access_token = 'HIDDEN'\n",
    "access_secret = 'HIDDEN'\n",
    "\n",
    "auth = OAuthHandler(consumer_key, consumer_secret)\n",
    "auth.set_access_token(access_token, access_secret)\n",
    "\n",
    "api = tweepy.API(auth, wait_on_rate_limit=True)\n",
    "\n",
    "# NOTE TO STUDENT WITH MOBILE VERIFICATION ISSUES:\n",
    "# df is a DataFrame with the twitter_archive_enhanced.csv file. You may have to\n",
    "# change line 17 to match the name of your DataFrame with twitter_archive_enhanced.csv\n",
    "# NOTE TO REVIEWER: this student had mobile verification issues so the following\n",
    "# Twitter API code was sent to this student from a Udacity instructor\n",
    "# Tweet IDs for which to gather additional data via Twitter's API\n",
    "tweet_ids = df.tweet_id.values\n",
    "len(tweet_ids)\n",
    "\n",
    "# Query Twitter's API for JSON data for each tweet ID in the Twitter archive\n",
    "count = 0\n",
    "fails_dict = {}\n",
    "start = timer()\n",
    "# Save each tweet's returned JSON as a new line in a .txt file\n",
    "with open('tweet_json.txt', 'w') as outfile:\n",
    "    # This loop will likely take 20-30 minutes to run because of Twitter's rate limit\n",
    "    for tweet_id in tweet_ids:\n",
    "        count += 1\n",
    "        print(str(count) + \": \" + str(tweet_id))\n",
    "        try:\n",
    "            tweet = api.get_status(tweet_id, tweet_mode='extended')\n",
    "            print(\"Success\")\n",
    "            json.dump(tweet._json, outfile)\n",
    "            outfile.write('\\n')\n",
    "        except tweepy.TweepError as e:\n",
    "            print(\"Fail\")\n",
    "            fails_dict[tweet_id] = e\n",
    "            pass\n",
    "end = timer()\n",
    "print(end - start)\n",
    "print(fails_dict)"
   ]
  },
  {
   "cell_type": "code",
   "execution_count": 5,
   "metadata": {},
   "outputs": [],
   "source": [
    "# Read file line by line to create Dataframe\n",
    "tweets_data = []\n",
    "with open('tweet_json.txt', 'r') as file:\n",
    "    for line in file:\n",
    "# Appending the tweet data to a list of dictionary        \n",
    "        try:\n",
    "            tweet = json.loads(line)\n",
    "            tweets_data.append({'tweet_id': tweet['id'],\n",
    "                                'retweet_count': tweet['retweet_count'],\n",
    "                                'favorite_count': tweet['favorite_count']\n",
    "                                })\n",
    "\n",
    "            \n",
    "        except:\n",
    "            \n",
    "            continue\n",
    "            \n",
    "df_api = pd.DataFrame(tweets_data, columns=['tweet_id', 'retweet_count', 'favorite_count'])                "
   ]
  },
  {
   "cell_type": "markdown",
   "metadata": {
    "extensions": {
     "jupyter_dashboards": {
      "version": 1,
      "views": {
       "grid_default": {
        "col": 4,
        "height": 4,
        "hidden": false,
        "row": 28,
        "width": 4
       },
       "report_default": {
        "hidden": false
       }
      }
     }
    }
   },
   "source": [
    "## Assessing Data\n",
    "In this section, detect and document at least **eight (8) quality issues and two (2) tidiness issue**. You must use **both** visual assessment\n",
    "programmatic assessement to assess the data.\n",
    "\n",
    "**Note:** pay attention to the following key points when you access the data.\n",
    "\n",
    "* You only want original ratings (no retweets) that have images. Though there are 5000+ tweets in the dataset, not all are dog ratings and some are retweets.\n",
    "* Assessing and cleaning the entire dataset completely would require a lot of time, and is not necessary to practice and demonstrate your skills in data wrangling. Therefore, the requirements of this project are only to assess and clean at least 8 quality issues and at least 2 tidiness issues in this dataset.\n",
    "* The fact that the rating numerators are greater than the denominators does not need to be cleaned. This [unique rating system](http://knowyourmeme.com/memes/theyre-good-dogs-brent) is a big part of the popularity of WeRateDogs.\n",
    "* You do not need to gather the tweets beyond August 1st, 2017. You can, but note that you won't be able to gather the image predictions for these tweets since you don't have access to the algorithm used.\n",
    "\n"
   ]
  },
  {
   "cell_type": "code",
   "execution_count": 6,
   "metadata": {},
   "outputs": [
    {
     "data": {
      "text/html": [
       "<div>\n",
       "<style scoped>\n",
       "    .dataframe tbody tr th:only-of-type {\n",
       "        vertical-align: middle;\n",
       "    }\n",
       "\n",
       "    .dataframe tbody tr th {\n",
       "        vertical-align: top;\n",
       "    }\n",
       "\n",
       "    .dataframe thead th {\n",
       "        text-align: right;\n",
       "    }\n",
       "</style>\n",
       "<table border=\"1\" class=\"dataframe\">\n",
       "  <thead>\n",
       "    <tr style=\"text-align: right;\">\n",
       "      <th></th>\n",
       "      <th>tweet_id</th>\n",
       "      <th>in_reply_to_status_id</th>\n",
       "      <th>in_reply_to_user_id</th>\n",
       "      <th>timestamp</th>\n",
       "      <th>source</th>\n",
       "      <th>text</th>\n",
       "      <th>retweeted_status_id</th>\n",
       "      <th>retweeted_status_user_id</th>\n",
       "      <th>retweeted_status_timestamp</th>\n",
       "      <th>expanded_urls</th>\n",
       "      <th>rating_numerator</th>\n",
       "      <th>rating_denominator</th>\n",
       "      <th>name</th>\n",
       "      <th>doggo</th>\n",
       "      <th>floofer</th>\n",
       "      <th>pupper</th>\n",
       "      <th>puppo</th>\n",
       "    </tr>\n",
       "  </thead>\n",
       "  <tbody>\n",
       "    <tr>\n",
       "      <th>0</th>\n",
       "      <td>892420643555336193</td>\n",
       "      <td>NaN</td>\n",
       "      <td>NaN</td>\n",
       "      <td>2017-08-01 16:23:56 +0000</td>\n",
       "      <td>&lt;a href=\"http://twitter.com/download/iphone\" r...</td>\n",
       "      <td>This is Phineas. He's a mystical boy. Only eve...</td>\n",
       "      <td>NaN</td>\n",
       "      <td>NaN</td>\n",
       "      <td>NaN</td>\n",
       "      <td>https://twitter.com/dog_rates/status/892420643...</td>\n",
       "      <td>13</td>\n",
       "      <td>10</td>\n",
       "      <td>Phineas</td>\n",
       "      <td>None</td>\n",
       "      <td>None</td>\n",
       "      <td>None</td>\n",
       "      <td>None</td>\n",
       "    </tr>\n",
       "    <tr>\n",
       "      <th>1</th>\n",
       "      <td>892177421306343426</td>\n",
       "      <td>NaN</td>\n",
       "      <td>NaN</td>\n",
       "      <td>2017-08-01 00:17:27 +0000</td>\n",
       "      <td>&lt;a href=\"http://twitter.com/download/iphone\" r...</td>\n",
       "      <td>This is Tilly. She's just checking pup on you....</td>\n",
       "      <td>NaN</td>\n",
       "      <td>NaN</td>\n",
       "      <td>NaN</td>\n",
       "      <td>https://twitter.com/dog_rates/status/892177421...</td>\n",
       "      <td>13</td>\n",
       "      <td>10</td>\n",
       "      <td>Tilly</td>\n",
       "      <td>None</td>\n",
       "      <td>None</td>\n",
       "      <td>None</td>\n",
       "      <td>None</td>\n",
       "    </tr>\n",
       "    <tr>\n",
       "      <th>2</th>\n",
       "      <td>891815181378084864</td>\n",
       "      <td>NaN</td>\n",
       "      <td>NaN</td>\n",
       "      <td>2017-07-31 00:18:03 +0000</td>\n",
       "      <td>&lt;a href=\"http://twitter.com/download/iphone\" r...</td>\n",
       "      <td>This is Archie. He is a rare Norwegian Pouncin...</td>\n",
       "      <td>NaN</td>\n",
       "      <td>NaN</td>\n",
       "      <td>NaN</td>\n",
       "      <td>https://twitter.com/dog_rates/status/891815181...</td>\n",
       "      <td>12</td>\n",
       "      <td>10</td>\n",
       "      <td>Archie</td>\n",
       "      <td>None</td>\n",
       "      <td>None</td>\n",
       "      <td>None</td>\n",
       "      <td>None</td>\n",
       "    </tr>\n",
       "    <tr>\n",
       "      <th>3</th>\n",
       "      <td>891689557279858688</td>\n",
       "      <td>NaN</td>\n",
       "      <td>NaN</td>\n",
       "      <td>2017-07-30 15:58:51 +0000</td>\n",
       "      <td>&lt;a href=\"http://twitter.com/download/iphone\" r...</td>\n",
       "      <td>This is Darla. She commenced a snooze mid meal...</td>\n",
       "      <td>NaN</td>\n",
       "      <td>NaN</td>\n",
       "      <td>NaN</td>\n",
       "      <td>https://twitter.com/dog_rates/status/891689557...</td>\n",
       "      <td>13</td>\n",
       "      <td>10</td>\n",
       "      <td>Darla</td>\n",
       "      <td>None</td>\n",
       "      <td>None</td>\n",
       "      <td>None</td>\n",
       "      <td>None</td>\n",
       "    </tr>\n",
       "    <tr>\n",
       "      <th>4</th>\n",
       "      <td>891327558926688256</td>\n",
       "      <td>NaN</td>\n",
       "      <td>NaN</td>\n",
       "      <td>2017-07-29 16:00:24 +0000</td>\n",
       "      <td>&lt;a href=\"http://twitter.com/download/iphone\" r...</td>\n",
       "      <td>This is Franklin. He would like you to stop ca...</td>\n",
       "      <td>NaN</td>\n",
       "      <td>NaN</td>\n",
       "      <td>NaN</td>\n",
       "      <td>https://twitter.com/dog_rates/status/891327558...</td>\n",
       "      <td>12</td>\n",
       "      <td>10</td>\n",
       "      <td>Franklin</td>\n",
       "      <td>None</td>\n",
       "      <td>None</td>\n",
       "      <td>None</td>\n",
       "      <td>None</td>\n",
       "    </tr>\n",
       "  </tbody>\n",
       "</table>\n",
       "</div>"
      ],
      "text/plain": [
       "             tweet_id  in_reply_to_status_id  in_reply_to_user_id  \\\n",
       "0  892420643555336193                    NaN                  NaN   \n",
       "1  892177421306343426                    NaN                  NaN   \n",
       "2  891815181378084864                    NaN                  NaN   \n",
       "3  891689557279858688                    NaN                  NaN   \n",
       "4  891327558926688256                    NaN                  NaN   \n",
       "\n",
       "                   timestamp  \\\n",
       "0  2017-08-01 16:23:56 +0000   \n",
       "1  2017-08-01 00:17:27 +0000   \n",
       "2  2017-07-31 00:18:03 +0000   \n",
       "3  2017-07-30 15:58:51 +0000   \n",
       "4  2017-07-29 16:00:24 +0000   \n",
       "\n",
       "                                              source  \\\n",
       "0  <a href=\"http://twitter.com/download/iphone\" r...   \n",
       "1  <a href=\"http://twitter.com/download/iphone\" r...   \n",
       "2  <a href=\"http://twitter.com/download/iphone\" r...   \n",
       "3  <a href=\"http://twitter.com/download/iphone\" r...   \n",
       "4  <a href=\"http://twitter.com/download/iphone\" r...   \n",
       "\n",
       "                                                text  retweeted_status_id  \\\n",
       "0  This is Phineas. He's a mystical boy. Only eve...                  NaN   \n",
       "1  This is Tilly. She's just checking pup on you....                  NaN   \n",
       "2  This is Archie. He is a rare Norwegian Pouncin...                  NaN   \n",
       "3  This is Darla. She commenced a snooze mid meal...                  NaN   \n",
       "4  This is Franklin. He would like you to stop ca...                  NaN   \n",
       "\n",
       "   retweeted_status_user_id retweeted_status_timestamp  \\\n",
       "0                       NaN                        NaN   \n",
       "1                       NaN                        NaN   \n",
       "2                       NaN                        NaN   \n",
       "3                       NaN                        NaN   \n",
       "4                       NaN                        NaN   \n",
       "\n",
       "                                       expanded_urls  rating_numerator  \\\n",
       "0  https://twitter.com/dog_rates/status/892420643...                13   \n",
       "1  https://twitter.com/dog_rates/status/892177421...                13   \n",
       "2  https://twitter.com/dog_rates/status/891815181...                12   \n",
       "3  https://twitter.com/dog_rates/status/891689557...                13   \n",
       "4  https://twitter.com/dog_rates/status/891327558...                12   \n",
       "\n",
       "   rating_denominator      name doggo floofer pupper puppo  \n",
       "0                  10   Phineas  None    None   None  None  \n",
       "1                  10     Tilly  None    None   None  None  \n",
       "2                  10    Archie  None    None   None  None  \n",
       "3                  10     Darla  None    None   None  None  \n",
       "4                  10  Franklin  None    None   None  None  "
      ]
     },
     "execution_count": 6,
     "metadata": {},
     "output_type": "execute_result"
    }
   ],
   "source": [
    "df_arch.head()"
   ]
  },
  {
   "cell_type": "code",
   "execution_count": 7,
   "metadata": {},
   "outputs": [
    {
     "data": {
      "text/html": [
       "<div>\n",
       "<style scoped>\n",
       "    .dataframe tbody tr th:only-of-type {\n",
       "        vertical-align: middle;\n",
       "    }\n",
       "\n",
       "    .dataframe tbody tr th {\n",
       "        vertical-align: top;\n",
       "    }\n",
       "\n",
       "    .dataframe thead th {\n",
       "        text-align: right;\n",
       "    }\n",
       "</style>\n",
       "<table border=\"1\" class=\"dataframe\">\n",
       "  <thead>\n",
       "    <tr style=\"text-align: right;\">\n",
       "      <th></th>\n",
       "      <th>tweet_id</th>\n",
       "      <th>in_reply_to_status_id</th>\n",
       "      <th>in_reply_to_user_id</th>\n",
       "      <th>timestamp</th>\n",
       "      <th>source</th>\n",
       "      <th>text</th>\n",
       "      <th>retweeted_status_id</th>\n",
       "      <th>retweeted_status_user_id</th>\n",
       "      <th>retweeted_status_timestamp</th>\n",
       "      <th>expanded_urls</th>\n",
       "      <th>rating_numerator</th>\n",
       "      <th>rating_denominator</th>\n",
       "      <th>name</th>\n",
       "      <th>doggo</th>\n",
       "      <th>floofer</th>\n",
       "      <th>pupper</th>\n",
       "      <th>puppo</th>\n",
       "    </tr>\n",
       "  </thead>\n",
       "  <tbody>\n",
       "    <tr>\n",
       "      <th>2351</th>\n",
       "      <td>666049248165822465</td>\n",
       "      <td>NaN</td>\n",
       "      <td>NaN</td>\n",
       "      <td>2015-11-16 00:24:50 +0000</td>\n",
       "      <td>&lt;a href=\"http://twitter.com/download/iphone\" r...</td>\n",
       "      <td>Here we have a 1949 1st generation vulpix. Enj...</td>\n",
       "      <td>NaN</td>\n",
       "      <td>NaN</td>\n",
       "      <td>NaN</td>\n",
       "      <td>https://twitter.com/dog_rates/status/666049248...</td>\n",
       "      <td>5</td>\n",
       "      <td>10</td>\n",
       "      <td>None</td>\n",
       "      <td>None</td>\n",
       "      <td>None</td>\n",
       "      <td>None</td>\n",
       "      <td>None</td>\n",
       "    </tr>\n",
       "    <tr>\n",
       "      <th>2352</th>\n",
       "      <td>666044226329800704</td>\n",
       "      <td>NaN</td>\n",
       "      <td>NaN</td>\n",
       "      <td>2015-11-16 00:04:52 +0000</td>\n",
       "      <td>&lt;a href=\"http://twitter.com/download/iphone\" r...</td>\n",
       "      <td>This is a purebred Piers Morgan. Loves to Netf...</td>\n",
       "      <td>NaN</td>\n",
       "      <td>NaN</td>\n",
       "      <td>NaN</td>\n",
       "      <td>https://twitter.com/dog_rates/status/666044226...</td>\n",
       "      <td>6</td>\n",
       "      <td>10</td>\n",
       "      <td>a</td>\n",
       "      <td>None</td>\n",
       "      <td>None</td>\n",
       "      <td>None</td>\n",
       "      <td>None</td>\n",
       "    </tr>\n",
       "    <tr>\n",
       "      <th>2353</th>\n",
       "      <td>666033412701032449</td>\n",
       "      <td>NaN</td>\n",
       "      <td>NaN</td>\n",
       "      <td>2015-11-15 23:21:54 +0000</td>\n",
       "      <td>&lt;a href=\"http://twitter.com/download/iphone\" r...</td>\n",
       "      <td>Here is a very happy pup. Big fan of well-main...</td>\n",
       "      <td>NaN</td>\n",
       "      <td>NaN</td>\n",
       "      <td>NaN</td>\n",
       "      <td>https://twitter.com/dog_rates/status/666033412...</td>\n",
       "      <td>9</td>\n",
       "      <td>10</td>\n",
       "      <td>a</td>\n",
       "      <td>None</td>\n",
       "      <td>None</td>\n",
       "      <td>None</td>\n",
       "      <td>None</td>\n",
       "    </tr>\n",
       "    <tr>\n",
       "      <th>2354</th>\n",
       "      <td>666029285002620928</td>\n",
       "      <td>NaN</td>\n",
       "      <td>NaN</td>\n",
       "      <td>2015-11-15 23:05:30 +0000</td>\n",
       "      <td>&lt;a href=\"http://twitter.com/download/iphone\" r...</td>\n",
       "      <td>This is a western brown Mitsubishi terrier. Up...</td>\n",
       "      <td>NaN</td>\n",
       "      <td>NaN</td>\n",
       "      <td>NaN</td>\n",
       "      <td>https://twitter.com/dog_rates/status/666029285...</td>\n",
       "      <td>7</td>\n",
       "      <td>10</td>\n",
       "      <td>a</td>\n",
       "      <td>None</td>\n",
       "      <td>None</td>\n",
       "      <td>None</td>\n",
       "      <td>None</td>\n",
       "    </tr>\n",
       "    <tr>\n",
       "      <th>2355</th>\n",
       "      <td>666020888022790149</td>\n",
       "      <td>NaN</td>\n",
       "      <td>NaN</td>\n",
       "      <td>2015-11-15 22:32:08 +0000</td>\n",
       "      <td>&lt;a href=\"http://twitter.com/download/iphone\" r...</td>\n",
       "      <td>Here we have a Japanese Irish Setter. Lost eye...</td>\n",
       "      <td>NaN</td>\n",
       "      <td>NaN</td>\n",
       "      <td>NaN</td>\n",
       "      <td>https://twitter.com/dog_rates/status/666020888...</td>\n",
       "      <td>8</td>\n",
       "      <td>10</td>\n",
       "      <td>None</td>\n",
       "      <td>None</td>\n",
       "      <td>None</td>\n",
       "      <td>None</td>\n",
       "      <td>None</td>\n",
       "    </tr>\n",
       "  </tbody>\n",
       "</table>\n",
       "</div>"
      ],
      "text/plain": [
       "                tweet_id  in_reply_to_status_id  in_reply_to_user_id  \\\n",
       "2351  666049248165822465                    NaN                  NaN   \n",
       "2352  666044226329800704                    NaN                  NaN   \n",
       "2353  666033412701032449                    NaN                  NaN   \n",
       "2354  666029285002620928                    NaN                  NaN   \n",
       "2355  666020888022790149                    NaN                  NaN   \n",
       "\n",
       "                      timestamp  \\\n",
       "2351  2015-11-16 00:24:50 +0000   \n",
       "2352  2015-11-16 00:04:52 +0000   \n",
       "2353  2015-11-15 23:21:54 +0000   \n",
       "2354  2015-11-15 23:05:30 +0000   \n",
       "2355  2015-11-15 22:32:08 +0000   \n",
       "\n",
       "                                                 source  \\\n",
       "2351  <a href=\"http://twitter.com/download/iphone\" r...   \n",
       "2352  <a href=\"http://twitter.com/download/iphone\" r...   \n",
       "2353  <a href=\"http://twitter.com/download/iphone\" r...   \n",
       "2354  <a href=\"http://twitter.com/download/iphone\" r...   \n",
       "2355  <a href=\"http://twitter.com/download/iphone\" r...   \n",
       "\n",
       "                                                   text  retweeted_status_id  \\\n",
       "2351  Here we have a 1949 1st generation vulpix. Enj...                  NaN   \n",
       "2352  This is a purebred Piers Morgan. Loves to Netf...                  NaN   \n",
       "2353  Here is a very happy pup. Big fan of well-main...                  NaN   \n",
       "2354  This is a western brown Mitsubishi terrier. Up...                  NaN   \n",
       "2355  Here we have a Japanese Irish Setter. Lost eye...                  NaN   \n",
       "\n",
       "      retweeted_status_user_id retweeted_status_timestamp  \\\n",
       "2351                       NaN                        NaN   \n",
       "2352                       NaN                        NaN   \n",
       "2353                       NaN                        NaN   \n",
       "2354                       NaN                        NaN   \n",
       "2355                       NaN                        NaN   \n",
       "\n",
       "                                          expanded_urls  rating_numerator  \\\n",
       "2351  https://twitter.com/dog_rates/status/666049248...                 5   \n",
       "2352  https://twitter.com/dog_rates/status/666044226...                 6   \n",
       "2353  https://twitter.com/dog_rates/status/666033412...                 9   \n",
       "2354  https://twitter.com/dog_rates/status/666029285...                 7   \n",
       "2355  https://twitter.com/dog_rates/status/666020888...                 8   \n",
       "\n",
       "      rating_denominator  name doggo floofer pupper puppo  \n",
       "2351                  10  None  None    None   None  None  \n",
       "2352                  10     a  None    None   None  None  \n",
       "2353                  10     a  None    None   None  None  \n",
       "2354                  10     a  None    None   None  None  \n",
       "2355                  10  None  None    None   None  None  "
      ]
     },
     "execution_count": 7,
     "metadata": {},
     "output_type": "execute_result"
    }
   ],
   "source": [
    "df_arch.tail()"
   ]
  },
  {
   "cell_type": "code",
   "execution_count": 8,
   "metadata": {
    "scrolled": false
   },
   "outputs": [
    {
     "data": {
      "text/html": [
       "<div>\n",
       "<style scoped>\n",
       "    .dataframe tbody tr th:only-of-type {\n",
       "        vertical-align: middle;\n",
       "    }\n",
       "\n",
       "    .dataframe tbody tr th {\n",
       "        vertical-align: top;\n",
       "    }\n",
       "\n",
       "    .dataframe thead th {\n",
       "        text-align: right;\n",
       "    }\n",
       "</style>\n",
       "<table border=\"1\" class=\"dataframe\">\n",
       "  <thead>\n",
       "    <tr style=\"text-align: right;\">\n",
       "      <th></th>\n",
       "      <th>tweet_id</th>\n",
       "      <th>in_reply_to_status_id</th>\n",
       "      <th>in_reply_to_user_id</th>\n",
       "      <th>timestamp</th>\n",
       "      <th>source</th>\n",
       "      <th>text</th>\n",
       "      <th>retweeted_status_id</th>\n",
       "      <th>retweeted_status_user_id</th>\n",
       "      <th>retweeted_status_timestamp</th>\n",
       "      <th>expanded_urls</th>\n",
       "      <th>rating_numerator</th>\n",
       "      <th>rating_denominator</th>\n",
       "      <th>name</th>\n",
       "      <th>doggo</th>\n",
       "      <th>floofer</th>\n",
       "      <th>pupper</th>\n",
       "      <th>puppo</th>\n",
       "    </tr>\n",
       "  </thead>\n",
       "  <tbody>\n",
       "    <tr>\n",
       "      <th>762</th>\n",
       "      <td>778039087836069888</td>\n",
       "      <td>NaN</td>\n",
       "      <td>NaN</td>\n",
       "      <td>2016-09-20 01:12:28 +0000</td>\n",
       "      <td>&lt;a href=\"http://twitter.com/download/iphone\" r...</td>\n",
       "      <td>Evolution of a pupper yawn featuring Max. 12/1...</td>\n",
       "      <td>NaN</td>\n",
       "      <td>NaN</td>\n",
       "      <td>NaN</td>\n",
       "      <td>https://twitter.com/dog_rates/status/778039087...</td>\n",
       "      <td>12</td>\n",
       "      <td>10</td>\n",
       "      <td>None</td>\n",
       "      <td>None</td>\n",
       "      <td>None</td>\n",
       "      <td>pupper</td>\n",
       "      <td>None</td>\n",
       "    </tr>\n",
       "    <tr>\n",
       "      <th>1247</th>\n",
       "      <td>711652651650457602</td>\n",
       "      <td>NaN</td>\n",
       "      <td>NaN</td>\n",
       "      <td>2016-03-20 20:36:28 +0000</td>\n",
       "      <td>&lt;a href=\"http://twitter.com/download/iphone\" r...</td>\n",
       "      <td>This is Gary. He just wanted to say hi. 9/10 v...</td>\n",
       "      <td>NaN</td>\n",
       "      <td>NaN</td>\n",
       "      <td>NaN</td>\n",
       "      <td>https://twitter.com/dog_rates/status/711652651...</td>\n",
       "      <td>9</td>\n",
       "      <td>10</td>\n",
       "      <td>Gary</td>\n",
       "      <td>None</td>\n",
       "      <td>None</td>\n",
       "      <td>None</td>\n",
       "      <td>None</td>\n",
       "    </tr>\n",
       "    <tr>\n",
       "      <th>1238</th>\n",
       "      <td>712097430750289920</td>\n",
       "      <td>NaN</td>\n",
       "      <td>NaN</td>\n",
       "      <td>2016-03-22 02:03:52 +0000</td>\n",
       "      <td>&lt;a href=\"http://twitter.com/download/iphone\" r...</td>\n",
       "      <td>I can't even comprehend how confused this dog ...</td>\n",
       "      <td>NaN</td>\n",
       "      <td>NaN</td>\n",
       "      <td>NaN</td>\n",
       "      <td>https://twitter.com/dog_rates/status/712097430...</td>\n",
       "      <td>10</td>\n",
       "      <td>10</td>\n",
       "      <td>None</td>\n",
       "      <td>None</td>\n",
       "      <td>None</td>\n",
       "      <td>None</td>\n",
       "      <td>None</td>\n",
       "    </tr>\n",
       "    <tr>\n",
       "      <th>1313</th>\n",
       "      <td>706904523814649856</td>\n",
       "      <td>NaN</td>\n",
       "      <td>NaN</td>\n",
       "      <td>2016-03-07 18:09:06 +0000</td>\n",
       "      <td>&lt;a href=\"http://vine.co\" rel=\"nofollow\"&gt;Vine -...</td>\n",
       "      <td>Ever seen a dog pet another dog? Both 13/10 tr...</td>\n",
       "      <td>NaN</td>\n",
       "      <td>NaN</td>\n",
       "      <td>NaN</td>\n",
       "      <td>https://vine.co/v/iXQAm5Lrgrh</td>\n",
       "      <td>13</td>\n",
       "      <td>10</td>\n",
       "      <td>None</td>\n",
       "      <td>None</td>\n",
       "      <td>None</td>\n",
       "      <td>None</td>\n",
       "      <td>None</td>\n",
       "    </tr>\n",
       "    <tr>\n",
       "      <th>224</th>\n",
       "      <td>849336543269576704</td>\n",
       "      <td>NaN</td>\n",
       "      <td>NaN</td>\n",
       "      <td>2017-04-04 19:03:06 +0000</td>\n",
       "      <td>&lt;a href=\"http://twitter.com/download/iphone\" r...</td>\n",
       "      <td>At first I thought this was a dog because of t...</td>\n",
       "      <td>NaN</td>\n",
       "      <td>NaN</td>\n",
       "      <td>NaN</td>\n",
       "      <td>https://twitter.com/dog_rates/status/849336543...</td>\n",
       "      <td>11</td>\n",
       "      <td>10</td>\n",
       "      <td>None</td>\n",
       "      <td>None</td>\n",
       "      <td>None</td>\n",
       "      <td>None</td>\n",
       "      <td>None</td>\n",
       "    </tr>\n",
       "    <tr>\n",
       "      <th>1710</th>\n",
       "      <td>680583894916304897</td>\n",
       "      <td>NaN</td>\n",
       "      <td>NaN</td>\n",
       "      <td>2015-12-26 03:00:19 +0000</td>\n",
       "      <td>&lt;a href=\"http://twitter.com/download/iphone\" r...</td>\n",
       "      <td>This is Penny. Her tennis ball slowly rolled d...</td>\n",
       "      <td>NaN</td>\n",
       "      <td>NaN</td>\n",
       "      <td>NaN</td>\n",
       "      <td>https://twitter.com/dog_rates/status/680583894...</td>\n",
       "      <td>8</td>\n",
       "      <td>10</td>\n",
       "      <td>Penny</td>\n",
       "      <td>None</td>\n",
       "      <td>None</td>\n",
       "      <td>None</td>\n",
       "      <td>None</td>\n",
       "    </tr>\n",
       "    <tr>\n",
       "      <th>2240</th>\n",
       "      <td>667924896115245057</td>\n",
       "      <td>NaN</td>\n",
       "      <td>NaN</td>\n",
       "      <td>2015-11-21 04:37:59 +0000</td>\n",
       "      <td>&lt;a href=\"http://twitter.com/download/iphone\" r...</td>\n",
       "      <td>This is Jiminy. He has always wanted to be a c...</td>\n",
       "      <td>NaN</td>\n",
       "      <td>NaN</td>\n",
       "      <td>NaN</td>\n",
       "      <td>https://twitter.com/dog_rates/status/667924896...</td>\n",
       "      <td>9</td>\n",
       "      <td>10</td>\n",
       "      <td>Jiminy</td>\n",
       "      <td>None</td>\n",
       "      <td>None</td>\n",
       "      <td>None</td>\n",
       "      <td>None</td>\n",
       "    </tr>\n",
       "  </tbody>\n",
       "</table>\n",
       "</div>"
      ],
      "text/plain": [
       "                tweet_id  in_reply_to_status_id  in_reply_to_user_id  \\\n",
       "762   778039087836069888                    NaN                  NaN   \n",
       "1247  711652651650457602                    NaN                  NaN   \n",
       "1238  712097430750289920                    NaN                  NaN   \n",
       "1313  706904523814649856                    NaN                  NaN   \n",
       "224   849336543269576704                    NaN                  NaN   \n",
       "1710  680583894916304897                    NaN                  NaN   \n",
       "2240  667924896115245057                    NaN                  NaN   \n",
       "\n",
       "                      timestamp  \\\n",
       "762   2016-09-20 01:12:28 +0000   \n",
       "1247  2016-03-20 20:36:28 +0000   \n",
       "1238  2016-03-22 02:03:52 +0000   \n",
       "1313  2016-03-07 18:09:06 +0000   \n",
       "224   2017-04-04 19:03:06 +0000   \n",
       "1710  2015-12-26 03:00:19 +0000   \n",
       "2240  2015-11-21 04:37:59 +0000   \n",
       "\n",
       "                                                 source  \\\n",
       "762   <a href=\"http://twitter.com/download/iphone\" r...   \n",
       "1247  <a href=\"http://twitter.com/download/iphone\" r...   \n",
       "1238  <a href=\"http://twitter.com/download/iphone\" r...   \n",
       "1313  <a href=\"http://vine.co\" rel=\"nofollow\">Vine -...   \n",
       "224   <a href=\"http://twitter.com/download/iphone\" r...   \n",
       "1710  <a href=\"http://twitter.com/download/iphone\" r...   \n",
       "2240  <a href=\"http://twitter.com/download/iphone\" r...   \n",
       "\n",
       "                                                   text  retweeted_status_id  \\\n",
       "762   Evolution of a pupper yawn featuring Max. 12/1...                  NaN   \n",
       "1247  This is Gary. He just wanted to say hi. 9/10 v...                  NaN   \n",
       "1238  I can't even comprehend how confused this dog ...                  NaN   \n",
       "1313  Ever seen a dog pet another dog? Both 13/10 tr...                  NaN   \n",
       "224   At first I thought this was a dog because of t...                  NaN   \n",
       "1710  This is Penny. Her tennis ball slowly rolled d...                  NaN   \n",
       "2240  This is Jiminy. He has always wanted to be a c...                  NaN   \n",
       "\n",
       "      retweeted_status_user_id retweeted_status_timestamp  \\\n",
       "762                        NaN                        NaN   \n",
       "1247                       NaN                        NaN   \n",
       "1238                       NaN                        NaN   \n",
       "1313                       NaN                        NaN   \n",
       "224                        NaN                        NaN   \n",
       "1710                       NaN                        NaN   \n",
       "2240                       NaN                        NaN   \n",
       "\n",
       "                                          expanded_urls  rating_numerator  \\\n",
       "762   https://twitter.com/dog_rates/status/778039087...                12   \n",
       "1247  https://twitter.com/dog_rates/status/711652651...                 9   \n",
       "1238  https://twitter.com/dog_rates/status/712097430...                10   \n",
       "1313                      https://vine.co/v/iXQAm5Lrgrh                13   \n",
       "224   https://twitter.com/dog_rates/status/849336543...                11   \n",
       "1710  https://twitter.com/dog_rates/status/680583894...                 8   \n",
       "2240  https://twitter.com/dog_rates/status/667924896...                 9   \n",
       "\n",
       "      rating_denominator    name doggo floofer  pupper puppo  \n",
       "762                   10    None  None    None  pupper  None  \n",
       "1247                  10    Gary  None    None    None  None  \n",
       "1238                  10    None  None    None    None  None  \n",
       "1313                  10    None  None    None    None  None  \n",
       "224                   10    None  None    None    None  None  \n",
       "1710                  10   Penny  None    None    None  None  \n",
       "2240                  10  Jiminy  None    None    None  None  "
      ]
     },
     "execution_count": 8,
     "metadata": {},
     "output_type": "execute_result"
    }
   ],
   "source": [
    "df_arch.sample(7)"
   ]
  },
  {
   "cell_type": "code",
   "execution_count": 9,
   "metadata": {},
   "outputs": [
    {
     "data": {
      "text/plain": [
       "(2356, 17)"
      ]
     },
     "execution_count": 9,
     "metadata": {},
     "output_type": "execute_result"
    }
   ],
   "source": [
    "df_arch.shape"
   ]
  },
  {
   "cell_type": "code",
   "execution_count": 10,
   "metadata": {},
   "outputs": [
    {
     "name": "stdout",
     "output_type": "stream",
     "text": [
      "<class 'pandas.core.frame.DataFrame'>\n",
      "RangeIndex: 2356 entries, 0 to 2355\n",
      "Data columns (total 17 columns):\n",
      "tweet_id                      2356 non-null int64\n",
      "in_reply_to_status_id         78 non-null float64\n",
      "in_reply_to_user_id           78 non-null float64\n",
      "timestamp                     2356 non-null object\n",
      "source                        2356 non-null object\n",
      "text                          2356 non-null object\n",
      "retweeted_status_id           181 non-null float64\n",
      "retweeted_status_user_id      181 non-null float64\n",
      "retweeted_status_timestamp    181 non-null object\n",
      "expanded_urls                 2297 non-null object\n",
      "rating_numerator              2356 non-null int64\n",
      "rating_denominator            2356 non-null int64\n",
      "name                          2356 non-null object\n",
      "doggo                         2356 non-null object\n",
      "floofer                       2356 non-null object\n",
      "pupper                        2356 non-null object\n",
      "puppo                         2356 non-null object\n",
      "dtypes: float64(4), int64(3), object(10)\n",
      "memory usage: 313.0+ KB\n"
     ]
    }
   ],
   "source": [
    "df_arch.info()"
   ]
  },
  {
   "cell_type": "code",
   "execution_count": 11,
   "metadata": {},
   "outputs": [
    {
     "data": {
      "text/plain": [
       "0"
      ]
     },
     "execution_count": 11,
     "metadata": {},
     "output_type": "execute_result"
    }
   ],
   "source": [
    "# Checking for duplicate in the df_arch\n",
    "sum(df_arch.duplicated())"
   ]
  },
  {
   "cell_type": "code",
   "execution_count": 12,
   "metadata": {
    "scrolled": true
   },
   "outputs": [
    {
     "data": {
      "text/plain": [
       "181"
      ]
     },
     "execution_count": 12,
     "metadata": {},
     "output_type": "execute_result"
    }
   ],
   "source": [
    "# Checking number of retweet\n",
    "df_arch.retweeted_status_user_id.count()"
   ]
  },
  {
   "cell_type": "code",
   "execution_count": 13,
   "metadata": {},
   "outputs": [
    {
     "data": {
      "text/plain": [
       "0         2\n",
       "1         9\n",
       "2         9\n",
       "3        19\n",
       "4        17\n",
       "5        37\n",
       "6        32\n",
       "7        55\n",
       "8       102\n",
       "9       158\n",
       "10      461\n",
       "11      464\n",
       "12      558\n",
       "13      351\n",
       "14       54\n",
       "15        2\n",
       "17        1\n",
       "20        1\n",
       "24        1\n",
       "26        1\n",
       "27        1\n",
       "44        1\n",
       "45        1\n",
       "50        1\n",
       "60        1\n",
       "75        2\n",
       "80        1\n",
       "84        1\n",
       "88        1\n",
       "99        1\n",
       "121       1\n",
       "143       1\n",
       "144       1\n",
       "165       1\n",
       "182       1\n",
       "204       1\n",
       "420       2\n",
       "666       1\n",
       "960       1\n",
       "1776      1\n",
       "Name: rating_numerator, dtype: int64"
      ]
     },
     "execution_count": 13,
     "metadata": {},
     "output_type": "execute_result"
    }
   ],
   "source": [
    "# Sorting by the rating_numerator\n",
    "df_arch.rating_numerator.value_counts().sort_index()"
   ]
  },
  {
   "cell_type": "code",
   "execution_count": 14,
   "metadata": {},
   "outputs": [
    {
     "data": {
      "text/plain": [
       "0         1\n",
       "2         1\n",
       "7         1\n",
       "10     2333\n",
       "11        3\n",
       "15        1\n",
       "16        1\n",
       "20        2\n",
       "40        1\n",
       "50        3\n",
       "70        1\n",
       "80        2\n",
       "90        1\n",
       "110       1\n",
       "120       1\n",
       "130       1\n",
       "150       1\n",
       "170       1\n",
       "Name: rating_denominator, dtype: int64"
      ]
     },
     "execution_count": 14,
     "metadata": {},
     "output_type": "execute_result"
    }
   ],
   "source": [
    "# Sorting by the rating_denorminator\n",
    "df_arch.rating_denominator.value_counts().sort_index()"
   ]
  },
  {
   "cell_type": "code",
   "execution_count": 15,
   "metadata": {},
   "outputs": [
    {
     "data": {
      "text/plain": [
       "Abby             2\n",
       "Ace              1\n",
       "Acro             1\n",
       "Adele            1\n",
       "Aiden            1\n",
       "Aja              1\n",
       "Akumi            1\n",
       "Al               1\n",
       "Albert           2\n",
       "Albus            2\n",
       "Aldrick          1\n",
       "Alejandro        1\n",
       "Alexander        1\n",
       "Alexanderson     1\n",
       "Alf              1\n",
       "Alfie            5\n",
       "Alfy             1\n",
       "Alice            2\n",
       "Amber            1\n",
       "Ambrose          1\n",
       "Amy              1\n",
       "Amélie           1\n",
       "Anakin           2\n",
       "Andru            1\n",
       "Andy             1\n",
       "Angel            1\n",
       "Anna             1\n",
       "Anthony          1\n",
       "Antony           1\n",
       "Apollo           1\n",
       "                ..\n",
       "Ziva             1\n",
       "Zoe              1\n",
       "Zoey             3\n",
       "Zooey            1\n",
       "Zuzu             1\n",
       "a               55\n",
       "actually         2\n",
       "all              1\n",
       "an               7\n",
       "by               1\n",
       "getting          2\n",
       "his              1\n",
       "incredibly       1\n",
       "infuriating      1\n",
       "just             4\n",
       "life             1\n",
       "light            1\n",
       "mad              2\n",
       "my               1\n",
       "not              2\n",
       "officially       1\n",
       "old              1\n",
       "one              4\n",
       "quite            4\n",
       "space            1\n",
       "such             1\n",
       "the              8\n",
       "this             1\n",
       "unacceptable     1\n",
       "very             5\n",
       "Name: name, Length: 957, dtype: int64"
      ]
     },
     "execution_count": 15,
     "metadata": {},
     "output_type": "execute_result"
    }
   ],
   "source": [
    "# Sorting by name\n",
    "df_arch.name.value_counts().sort_index()"
   ]
  },
  {
   "cell_type": "code",
   "execution_count": 16,
   "metadata": {},
   "outputs": [
    {
     "data": {
      "text/plain": [
       "<a href=\"http://twitter.com/download/iphone\" rel=\"nofollow\">Twitter for iPhone</a>     2221\n",
       "<a href=\"http://vine.co\" rel=\"nofollow\">Vine - Make a Scene</a>                          91\n",
       "<a href=\"http://twitter.com\" rel=\"nofollow\">Twitter Web Client</a>                       33\n",
       "<a href=\"https://about.twitter.com/products/tweetdeck\" rel=\"nofollow\">TweetDeck</a>      11\n",
       "Name: source, dtype: int64"
      ]
     },
     "execution_count": 16,
     "metadata": {},
     "output_type": "execute_result"
    }
   ],
   "source": [
    "df_arch.source.value_counts()"
   ]
  },
  {
   "cell_type": "code",
   "execution_count": 17,
   "metadata": {
    "scrolled": true
   },
   "outputs": [
    {
     "data": {
      "text/html": [
       "<div>\n",
       "<style scoped>\n",
       "    .dataframe tbody tr th:only-of-type {\n",
       "        vertical-align: middle;\n",
       "    }\n",
       "\n",
       "    .dataframe tbody tr th {\n",
       "        vertical-align: top;\n",
       "    }\n",
       "\n",
       "    .dataframe thead th {\n",
       "        text-align: right;\n",
       "    }\n",
       "</style>\n",
       "<table border=\"1\" class=\"dataframe\">\n",
       "  <thead>\n",
       "    <tr style=\"text-align: right;\">\n",
       "      <th></th>\n",
       "      <th>tweet_id</th>\n",
       "      <th>jpg_url</th>\n",
       "      <th>img_num</th>\n",
       "      <th>p1</th>\n",
       "      <th>p1_conf</th>\n",
       "      <th>p1_dog</th>\n",
       "      <th>p2</th>\n",
       "      <th>p2_conf</th>\n",
       "      <th>p2_dog</th>\n",
       "      <th>p3</th>\n",
       "      <th>p3_conf</th>\n",
       "      <th>p3_dog</th>\n",
       "    </tr>\n",
       "  </thead>\n",
       "  <tbody>\n",
       "    <tr>\n",
       "      <th>0</th>\n",
       "      <td>666020888022790149</td>\n",
       "      <td>https://pbs.twimg.com/media/CT4udn0WwAA0aMy.jpg</td>\n",
       "      <td>1</td>\n",
       "      <td>Welsh_springer_spaniel</td>\n",
       "      <td>0.465074</td>\n",
       "      <td>True</td>\n",
       "      <td>collie</td>\n",
       "      <td>0.156665</td>\n",
       "      <td>True</td>\n",
       "      <td>Shetland_sheepdog</td>\n",
       "      <td>0.061428</td>\n",
       "      <td>True</td>\n",
       "    </tr>\n",
       "    <tr>\n",
       "      <th>1</th>\n",
       "      <td>666029285002620928</td>\n",
       "      <td>https://pbs.twimg.com/media/CT42GRgUYAA5iDo.jpg</td>\n",
       "      <td>1</td>\n",
       "      <td>redbone</td>\n",
       "      <td>0.506826</td>\n",
       "      <td>True</td>\n",
       "      <td>miniature_pinscher</td>\n",
       "      <td>0.074192</td>\n",
       "      <td>True</td>\n",
       "      <td>Rhodesian_ridgeback</td>\n",
       "      <td>0.072010</td>\n",
       "      <td>True</td>\n",
       "    </tr>\n",
       "    <tr>\n",
       "      <th>2</th>\n",
       "      <td>666033412701032449</td>\n",
       "      <td>https://pbs.twimg.com/media/CT4521TWwAEvMyu.jpg</td>\n",
       "      <td>1</td>\n",
       "      <td>German_shepherd</td>\n",
       "      <td>0.596461</td>\n",
       "      <td>True</td>\n",
       "      <td>malinois</td>\n",
       "      <td>0.138584</td>\n",
       "      <td>True</td>\n",
       "      <td>bloodhound</td>\n",
       "      <td>0.116197</td>\n",
       "      <td>True</td>\n",
       "    </tr>\n",
       "    <tr>\n",
       "      <th>3</th>\n",
       "      <td>666044226329800704</td>\n",
       "      <td>https://pbs.twimg.com/media/CT5Dr8HUEAA-lEu.jpg</td>\n",
       "      <td>1</td>\n",
       "      <td>Rhodesian_ridgeback</td>\n",
       "      <td>0.408143</td>\n",
       "      <td>True</td>\n",
       "      <td>redbone</td>\n",
       "      <td>0.360687</td>\n",
       "      <td>True</td>\n",
       "      <td>miniature_pinscher</td>\n",
       "      <td>0.222752</td>\n",
       "      <td>True</td>\n",
       "    </tr>\n",
       "    <tr>\n",
       "      <th>4</th>\n",
       "      <td>666049248165822465</td>\n",
       "      <td>https://pbs.twimg.com/media/CT5IQmsXIAAKY4A.jpg</td>\n",
       "      <td>1</td>\n",
       "      <td>miniature_pinscher</td>\n",
       "      <td>0.560311</td>\n",
       "      <td>True</td>\n",
       "      <td>Rottweiler</td>\n",
       "      <td>0.243682</td>\n",
       "      <td>True</td>\n",
       "      <td>Doberman</td>\n",
       "      <td>0.154629</td>\n",
       "      <td>True</td>\n",
       "    </tr>\n",
       "  </tbody>\n",
       "</table>\n",
       "</div>"
      ],
      "text/plain": [
       "             tweet_id                                          jpg_url  \\\n",
       "0  666020888022790149  https://pbs.twimg.com/media/CT4udn0WwAA0aMy.jpg   \n",
       "1  666029285002620928  https://pbs.twimg.com/media/CT42GRgUYAA5iDo.jpg   \n",
       "2  666033412701032449  https://pbs.twimg.com/media/CT4521TWwAEvMyu.jpg   \n",
       "3  666044226329800704  https://pbs.twimg.com/media/CT5Dr8HUEAA-lEu.jpg   \n",
       "4  666049248165822465  https://pbs.twimg.com/media/CT5IQmsXIAAKY4A.jpg   \n",
       "\n",
       "   img_num                      p1   p1_conf  p1_dog                  p2  \\\n",
       "0        1  Welsh_springer_spaniel  0.465074    True              collie   \n",
       "1        1                 redbone  0.506826    True  miniature_pinscher   \n",
       "2        1         German_shepherd  0.596461    True            malinois   \n",
       "3        1     Rhodesian_ridgeback  0.408143    True             redbone   \n",
       "4        1      miniature_pinscher  0.560311    True          Rottweiler   \n",
       "\n",
       "    p2_conf  p2_dog                   p3   p3_conf  p3_dog  \n",
       "0  0.156665    True    Shetland_sheepdog  0.061428    True  \n",
       "1  0.074192    True  Rhodesian_ridgeback  0.072010    True  \n",
       "2  0.138584    True           bloodhound  0.116197    True  \n",
       "3  0.360687    True   miniature_pinscher  0.222752    True  \n",
       "4  0.243682    True             Doberman  0.154629    True  "
      ]
     },
     "execution_count": 17,
     "metadata": {},
     "output_type": "execute_result"
    }
   ],
   "source": [
    "image_pred_df.head()"
   ]
  },
  {
   "cell_type": "code",
   "execution_count": 18,
   "metadata": {
    "scrolled": false
   },
   "outputs": [
    {
     "data": {
      "text/html": [
       "<div>\n",
       "<style scoped>\n",
       "    .dataframe tbody tr th:only-of-type {\n",
       "        vertical-align: middle;\n",
       "    }\n",
       "\n",
       "    .dataframe tbody tr th {\n",
       "        vertical-align: top;\n",
       "    }\n",
       "\n",
       "    .dataframe thead th {\n",
       "        text-align: right;\n",
       "    }\n",
       "</style>\n",
       "<table border=\"1\" class=\"dataframe\">\n",
       "  <thead>\n",
       "    <tr style=\"text-align: right;\">\n",
       "      <th></th>\n",
       "      <th>tweet_id</th>\n",
       "      <th>jpg_url</th>\n",
       "      <th>img_num</th>\n",
       "      <th>p1</th>\n",
       "      <th>p1_conf</th>\n",
       "      <th>p1_dog</th>\n",
       "      <th>p2</th>\n",
       "      <th>p2_conf</th>\n",
       "      <th>p2_dog</th>\n",
       "      <th>p3</th>\n",
       "      <th>p3_conf</th>\n",
       "      <th>p3_dog</th>\n",
       "    </tr>\n",
       "  </thead>\n",
       "  <tbody>\n",
       "    <tr>\n",
       "      <th>1000</th>\n",
       "      <td>708711088997666817</td>\n",
       "      <td>https://pbs.twimg.com/media/CdXY-GHWoAALing.jpg</td>\n",
       "      <td>2</td>\n",
       "      <td>tennis_ball</td>\n",
       "      <td>0.912961</td>\n",
       "      <td>False</td>\n",
       "      <td>German_short-haired_pointer</td>\n",
       "      <td>0.052695</td>\n",
       "      <td>True</td>\n",
       "      <td>Labrador_retriever</td>\n",
       "      <td>0.018477</td>\n",
       "      <td>True</td>\n",
       "    </tr>\n",
       "    <tr>\n",
       "      <th>962</th>\n",
       "      <td>705970349788291072</td>\n",
       "      <td>https://pbs.twimg.com/media/CcwcSS9WwAALE4f.jpg</td>\n",
       "      <td>1</td>\n",
       "      <td>golden_retriever</td>\n",
       "      <td>0.776346</td>\n",
       "      <td>True</td>\n",
       "      <td>Labrador_retriever</td>\n",
       "      <td>0.112413</td>\n",
       "      <td>True</td>\n",
       "      <td>chow</td>\n",
       "      <td>0.036953</td>\n",
       "      <td>True</td>\n",
       "    </tr>\n",
       "    <tr>\n",
       "      <th>232</th>\n",
       "      <td>670417414769758208</td>\n",
       "      <td>https://pbs.twimg.com/media/CU3NE8EWUAEVdPD.jpg</td>\n",
       "      <td>1</td>\n",
       "      <td>sea_urchin</td>\n",
       "      <td>0.493257</td>\n",
       "      <td>False</td>\n",
       "      <td>porcupine</td>\n",
       "      <td>0.460565</td>\n",
       "      <td>False</td>\n",
       "      <td>cardoon</td>\n",
       "      <td>0.008146</td>\n",
       "      <td>False</td>\n",
       "    </tr>\n",
       "    <tr>\n",
       "      <th>101</th>\n",
       "      <td>667793409583771648</td>\n",
       "      <td>https://pbs.twimg.com/media/CUR6jqVWsAEgGot.jpg</td>\n",
       "      <td>1</td>\n",
       "      <td>dalmatian</td>\n",
       "      <td>0.535073</td>\n",
       "      <td>True</td>\n",
       "      <td>English_setter</td>\n",
       "      <td>0.451219</td>\n",
       "      <td>True</td>\n",
       "      <td>Great_Dane</td>\n",
       "      <td>0.008164</td>\n",
       "      <td>True</td>\n",
       "    </tr>\n",
       "    <tr>\n",
       "      <th>410</th>\n",
       "      <td>673887867907739649</td>\n",
       "      <td>https://pbs.twimg.com/media/CVoha_IU4AAZ7vi.jpg</td>\n",
       "      <td>2</td>\n",
       "      <td>Brabancon_griffon</td>\n",
       "      <td>0.216767</td>\n",
       "      <td>True</td>\n",
       "      <td>Chihuahua</td>\n",
       "      <td>0.190958</td>\n",
       "      <td>True</td>\n",
       "      <td>golden_retriever</td>\n",
       "      <td>0.163288</td>\n",
       "      <td>True</td>\n",
       "    </tr>\n",
       "  </tbody>\n",
       "</table>\n",
       "</div>"
      ],
      "text/plain": [
       "                tweet_id                                          jpg_url  \\\n",
       "1000  708711088997666817  https://pbs.twimg.com/media/CdXY-GHWoAALing.jpg   \n",
       "962   705970349788291072  https://pbs.twimg.com/media/CcwcSS9WwAALE4f.jpg   \n",
       "232   670417414769758208  https://pbs.twimg.com/media/CU3NE8EWUAEVdPD.jpg   \n",
       "101   667793409583771648  https://pbs.twimg.com/media/CUR6jqVWsAEgGot.jpg   \n",
       "410   673887867907739649  https://pbs.twimg.com/media/CVoha_IU4AAZ7vi.jpg   \n",
       "\n",
       "      img_num                 p1   p1_conf  p1_dog  \\\n",
       "1000        2        tennis_ball  0.912961   False   \n",
       "962         1   golden_retriever  0.776346    True   \n",
       "232         1         sea_urchin  0.493257   False   \n",
       "101         1          dalmatian  0.535073    True   \n",
       "410         2  Brabancon_griffon  0.216767    True   \n",
       "\n",
       "                               p2   p2_conf  p2_dog                  p3  \\\n",
       "1000  German_short-haired_pointer  0.052695    True  Labrador_retriever   \n",
       "962            Labrador_retriever  0.112413    True                chow   \n",
       "232                     porcupine  0.460565   False             cardoon   \n",
       "101                English_setter  0.451219    True          Great_Dane   \n",
       "410                     Chihuahua  0.190958    True    golden_retriever   \n",
       "\n",
       "       p3_conf  p3_dog  \n",
       "1000  0.018477    True  \n",
       "962   0.036953    True  \n",
       "232   0.008146   False  \n",
       "101   0.008164    True  \n",
       "410   0.163288    True  "
      ]
     },
     "execution_count": 18,
     "metadata": {},
     "output_type": "execute_result"
    }
   ],
   "source": [
    "image_pred_df.sample(5)"
   ]
  },
  {
   "cell_type": "code",
   "execution_count": 19,
   "metadata": {},
   "outputs": [
    {
     "data": {
      "text/plain": [
       "281"
      ]
     },
     "execution_count": 19,
     "metadata": {},
     "output_type": "execute_result"
    }
   ],
   "source": [
    "# Checking the number of record in df_arch that their tweet_id is missing in image_pred_df\n",
    "len(df_arch[~df_arch.tweet_id.isin(image_pred_df.tweet_id)])"
   ]
  },
  {
   "cell_type": "code",
   "execution_count": 20,
   "metadata": {},
   "outputs": [
    {
     "name": "stdout",
     "output_type": "stream",
     "text": [
      "<class 'pandas.core.frame.DataFrame'>\n",
      "RangeIndex: 2075 entries, 0 to 2074\n",
      "Data columns (total 12 columns):\n",
      "tweet_id    2075 non-null int64\n",
      "jpg_url     2075 non-null object\n",
      "img_num     2075 non-null int64\n",
      "p1          2075 non-null object\n",
      "p1_conf     2075 non-null float64\n",
      "p1_dog      2075 non-null bool\n",
      "p2          2075 non-null object\n",
      "p2_conf     2075 non-null float64\n",
      "p2_dog      2075 non-null bool\n",
      "p3          2075 non-null object\n",
      "p3_conf     2075 non-null float64\n",
      "p3_dog      2075 non-null bool\n",
      "dtypes: bool(3), float64(3), int64(2), object(4)\n",
      "memory usage: 152.1+ KB\n"
     ]
    }
   ],
   "source": [
    "image_pred_df.info()"
   ]
  },
  {
   "cell_type": "code",
   "execution_count": 21,
   "metadata": {},
   "outputs": [
    {
     "data": {
      "text/html": [
       "<div>\n",
       "<style scoped>\n",
       "    .dataframe tbody tr th:only-of-type {\n",
       "        vertical-align: middle;\n",
       "    }\n",
       "\n",
       "    .dataframe tbody tr th {\n",
       "        vertical-align: top;\n",
       "    }\n",
       "\n",
       "    .dataframe thead th {\n",
       "        text-align: right;\n",
       "    }\n",
       "</style>\n",
       "<table border=\"1\" class=\"dataframe\">\n",
       "  <thead>\n",
       "    <tr style=\"text-align: right;\">\n",
       "      <th></th>\n",
       "      <th>tweet_id</th>\n",
       "      <th>retweet_count</th>\n",
       "      <th>favorite_count</th>\n",
       "    </tr>\n",
       "  </thead>\n",
       "  <tbody>\n",
       "    <tr>\n",
       "      <th>0</th>\n",
       "      <td>892420643555336193</td>\n",
       "      <td>8853</td>\n",
       "      <td>39467</td>\n",
       "    </tr>\n",
       "    <tr>\n",
       "      <th>1</th>\n",
       "      <td>892177421306343426</td>\n",
       "      <td>6514</td>\n",
       "      <td>33819</td>\n",
       "    </tr>\n",
       "    <tr>\n",
       "      <th>2</th>\n",
       "      <td>891815181378084864</td>\n",
       "      <td>4328</td>\n",
       "      <td>25461</td>\n",
       "    </tr>\n",
       "    <tr>\n",
       "      <th>3</th>\n",
       "      <td>891689557279858688</td>\n",
       "      <td>8964</td>\n",
       "      <td>42908</td>\n",
       "    </tr>\n",
       "    <tr>\n",
       "      <th>4</th>\n",
       "      <td>891327558926688256</td>\n",
       "      <td>9774</td>\n",
       "      <td>41048</td>\n",
       "    </tr>\n",
       "  </tbody>\n",
       "</table>\n",
       "</div>"
      ],
      "text/plain": [
       "             tweet_id  retweet_count  favorite_count\n",
       "0  892420643555336193           8853           39467\n",
       "1  892177421306343426           6514           33819\n",
       "2  891815181378084864           4328           25461\n",
       "3  891689557279858688           8964           42908\n",
       "4  891327558926688256           9774           41048"
      ]
     },
     "execution_count": 21,
     "metadata": {},
     "output_type": "execute_result"
    }
   ],
   "source": [
    "df_api.head()"
   ]
  },
  {
   "cell_type": "code",
   "execution_count": 22,
   "metadata": {},
   "outputs": [
    {
     "data": {
      "text/html": [
       "<div>\n",
       "<style scoped>\n",
       "    .dataframe tbody tr th:only-of-type {\n",
       "        vertical-align: middle;\n",
       "    }\n",
       "\n",
       "    .dataframe tbody tr th {\n",
       "        vertical-align: top;\n",
       "    }\n",
       "\n",
       "    .dataframe thead th {\n",
       "        text-align: right;\n",
       "    }\n",
       "</style>\n",
       "<table border=\"1\" class=\"dataframe\">\n",
       "  <thead>\n",
       "    <tr style=\"text-align: right;\">\n",
       "      <th></th>\n",
       "      <th>tweet_id</th>\n",
       "      <th>retweet_count</th>\n",
       "      <th>favorite_count</th>\n",
       "    </tr>\n",
       "  </thead>\n",
       "  <tbody>\n",
       "    <tr>\n",
       "      <th>count</th>\n",
       "      <td>2.354000e+03</td>\n",
       "      <td>2354.000000</td>\n",
       "      <td>2354.000000</td>\n",
       "    </tr>\n",
       "    <tr>\n",
       "      <th>mean</th>\n",
       "      <td>7.426978e+17</td>\n",
       "      <td>3164.797366</td>\n",
       "      <td>8080.968564</td>\n",
       "    </tr>\n",
       "    <tr>\n",
       "      <th>std</th>\n",
       "      <td>6.852812e+16</td>\n",
       "      <td>5284.770364</td>\n",
       "      <td>11814.771334</td>\n",
       "    </tr>\n",
       "    <tr>\n",
       "      <th>min</th>\n",
       "      <td>6.660209e+17</td>\n",
       "      <td>0.000000</td>\n",
       "      <td>0.000000</td>\n",
       "    </tr>\n",
       "    <tr>\n",
       "      <th>25%</th>\n",
       "      <td>6.783975e+17</td>\n",
       "      <td>624.500000</td>\n",
       "      <td>1415.000000</td>\n",
       "    </tr>\n",
       "    <tr>\n",
       "      <th>50%</th>\n",
       "      <td>7.194596e+17</td>\n",
       "      <td>1473.500000</td>\n",
       "      <td>3603.500000</td>\n",
       "    </tr>\n",
       "    <tr>\n",
       "      <th>75%</th>\n",
       "      <td>7.993058e+17</td>\n",
       "      <td>3652.000000</td>\n",
       "      <td>10122.250000</td>\n",
       "    </tr>\n",
       "    <tr>\n",
       "      <th>max</th>\n",
       "      <td>8.924206e+17</td>\n",
       "      <td>79515.000000</td>\n",
       "      <td>132810.000000</td>\n",
       "    </tr>\n",
       "  </tbody>\n",
       "</table>\n",
       "</div>"
      ],
      "text/plain": [
       "           tweet_id  retweet_count  favorite_count\n",
       "count  2.354000e+03    2354.000000     2354.000000\n",
       "mean   7.426978e+17    3164.797366     8080.968564\n",
       "std    6.852812e+16    5284.770364    11814.771334\n",
       "min    6.660209e+17       0.000000        0.000000\n",
       "25%    6.783975e+17     624.500000     1415.000000\n",
       "50%    7.194596e+17    1473.500000     3603.500000\n",
       "75%    7.993058e+17    3652.000000    10122.250000\n",
       "max    8.924206e+17   79515.000000   132810.000000"
      ]
     },
     "execution_count": 22,
     "metadata": {},
     "output_type": "execute_result"
    }
   ],
   "source": [
    "df_api.describe()"
   ]
  },
  {
   "cell_type": "code",
   "execution_count": 23,
   "metadata": {},
   "outputs": [
    {
     "data": {
      "text/html": [
       "<div>\n",
       "<style scoped>\n",
       "    .dataframe tbody tr th:only-of-type {\n",
       "        vertical-align: middle;\n",
       "    }\n",
       "\n",
       "    .dataframe tbody tr th {\n",
       "        vertical-align: top;\n",
       "    }\n",
       "\n",
       "    .dataframe thead th {\n",
       "        text-align: right;\n",
       "    }\n",
       "</style>\n",
       "<table border=\"1\" class=\"dataframe\">\n",
       "  <thead>\n",
       "    <tr style=\"text-align: right;\">\n",
       "      <th></th>\n",
       "      <th>tweet_id</th>\n",
       "      <th>retweet_count</th>\n",
       "      <th>favorite_count</th>\n",
       "    </tr>\n",
       "  </thead>\n",
       "  <tbody>\n",
       "    <tr>\n",
       "      <th>1739</th>\n",
       "      <td>679475951516934144</td>\n",
       "      <td>728</td>\n",
       "      <td>2304</td>\n",
       "    </tr>\n",
       "    <tr>\n",
       "      <th>2295</th>\n",
       "      <td>667073648344346624</td>\n",
       "      <td>134</td>\n",
       "      <td>425</td>\n",
       "    </tr>\n",
       "    <tr>\n",
       "      <th>685</th>\n",
       "      <td>788070120937619456</td>\n",
       "      <td>3952</td>\n",
       "      <td>0</td>\n",
       "    </tr>\n",
       "    <tr>\n",
       "      <th>960</th>\n",
       "      <td>750868782890057730</td>\n",
       "      <td>1595</td>\n",
       "      <td>5306</td>\n",
       "    </tr>\n",
       "    <tr>\n",
       "      <th>301</th>\n",
       "      <td>836648853927522308</td>\n",
       "      <td>626</td>\n",
       "      <td>0</td>\n",
       "    </tr>\n",
       "  </tbody>\n",
       "</table>\n",
       "</div>"
      ],
      "text/plain": [
       "                tweet_id  retweet_count  favorite_count\n",
       "1739  679475951516934144            728            2304\n",
       "2295  667073648344346624            134             425\n",
       "685   788070120937619456           3952               0\n",
       "960   750868782890057730           1595            5306\n",
       "301   836648853927522308            626               0"
      ]
     },
     "execution_count": 23,
     "metadata": {},
     "output_type": "execute_result"
    }
   ],
   "source": [
    "df_api.sample(5)"
   ]
  },
  {
   "cell_type": "code",
   "execution_count": 24,
   "metadata": {
    "scrolled": true
   },
   "outputs": [
    {
     "name": "stdout",
     "output_type": "stream",
     "text": [
      "<class 'pandas.core.frame.DataFrame'>\n",
      "RangeIndex: 2354 entries, 0 to 2353\n",
      "Data columns (total 3 columns):\n",
      "tweet_id          2354 non-null int64\n",
      "retweet_count     2354 non-null int64\n",
      "favorite_count    2354 non-null int64\n",
      "dtypes: int64(3)\n",
      "memory usage: 55.2 KB\n"
     ]
    }
   ],
   "source": [
    "df_api.info()"
   ]
  },
  {
   "cell_type": "markdown",
   "metadata": {},
   "source": [
    "### Quality issues\n",
    "1. The rating_denorminator colunms have value greater and less than 10\n",
    "\n",
    "2. The rating_numerator columns have value considerable values greater than 10\n",
    "\n",
    "3. Their is a lot of NAN values in the in_reply_to_status_id, reply_to_user_id\n",
    "\n",
    "4. The timestamp in df_arch as the wrong datatypes\n",
    "\n",
    "5. The source columns as unnecessary html anchor and href tag\n",
    "\n",
    "6. Errors of name in the name columns e.g (infuriating, a, by, the, space, etc) \n",
    "\n",
    "7. Considerable number of tweet without image\n",
    "\n",
    "8. timestamp and retweet_status_timestamp are not a datetime variable\n",
    "\n",
    "9. The names columns are not in the standard form\n",
    "\n",
    "10. Consederable numbers of retweet"
   ]
  },
  {
   "cell_type": "markdown",
   "metadata": {
    "extensions": {
     "jupyter_dashboards": {
      "version": 1,
      "views": {
       "grid_default": {
        "col": 0,
        "height": 7,
        "hidden": false,
        "row": 40,
        "width": 12
       },
       "report_default": {
        "hidden": false
       }
      }
     }
    }
   },
   "source": [
    "### Tidiness issues\n",
    "1. Removing the three empty columns from df_arch_clean table (i.e retweeted_status_id, retweeted_status_user_id and retweeted_status_timestamp) \n",
    "\n",
    "2. The source and expanded_url column have several information in them\n",
    "\n",
    "3. doggo, floofer, pupper, puppo columns in arch_df should be merged into one column named dog_stage\n",
    "\n",
    "4. The retweet_count and favorite_count columns in the df_api table should be joined to the df_arch table"
   ]
  },
  {
   "cell_type": "markdown",
   "metadata": {
    "extensions": {
     "jupyter_dashboards": {
      "version": 1,
      "views": {
       "grid_default": {
        "col": 4,
        "height": 4,
        "hidden": false,
        "row": 32,
        "width": 4
       },
       "report_default": {
        "hidden": false
       }
      }
     }
    }
   },
   "source": [
    "## Cleaning Data\n",
    "In this section, clean **all** of the issues you documented while assessing. \n",
    "\n",
    "**Note:** Make a copy of the original data before cleaning. Cleaning includes merging individual pieces of data according to the rules of [tidy data](https://cran.r-project.org/web/packages/tidyr/vignettes/tidy-data.html). The result should be a high-quality and tidy master pandas DataFrame (or DataFrames, if appropriate)."
   ]
  },
  {
   "cell_type": "code",
   "execution_count": 25,
   "metadata": {},
   "outputs": [],
   "source": [
    "# Make copies of original pieces of data\n",
    "\n",
    "df_arch_clean = df_arch.copy()\n",
    "\n",
    "df_tweet_api = df_api.copy()\n",
    "\n",
    "df_image = image_pred_df.copy()"
   ]
  },
  {
   "cell_type": "markdown",
   "metadata": {},
   "source": [
    "### Quality #1: Removing duplicate from retweet"
   ]
  },
  {
   "cell_type": "markdown",
   "metadata": {},
   "source": [
    "#### Define:  \n",
    "Keeping the original tweet only"
   ]
  },
  {
   "cell_type": "code",
   "execution_count": 26,
   "metadata": {},
   "outputs": [],
   "source": [
    "df_arch_clean = df_arch_clean[df_arch_clean.retweeted_status_id.isnull()]"
   ]
  },
  {
   "cell_type": "markdown",
   "metadata": {},
   "source": [
    "#### Code"
   ]
  },
  {
   "cell_type": "code",
   "execution_count": 27,
   "metadata": {},
   "outputs": [
    {
     "data": {
      "text/plain": [
       "0"
      ]
     },
     "execution_count": 27,
     "metadata": {},
     "output_type": "execute_result"
    }
   ],
   "source": [
    "df_arch_clean.retweeted_status_user_id.count()"
   ]
  },
  {
   "cell_type": "markdown",
   "metadata": {},
   "source": [
    "### Quality #2:The names columns are not in standard form"
   ]
  },
  {
   "cell_type": "markdown",
   "metadata": {},
   "source": [
    "#### Define:  \n",
    "Replacing lowercase values of name with \"None\""
   ]
  },
  {
   "cell_type": "markdown",
   "metadata": {},
   "source": [
    "#### Code"
   ]
  },
  {
   "cell_type": "code",
   "execution_count": 28,
   "metadata": {},
   "outputs": [
    {
     "data": {
      "text/plain": [
       "array(['such', 'a', 'quite', 'not', 'one', 'incredibly', 'very', 'my',\n",
       "       'his', 'an', 'actually', 'just', 'getting', 'mad', 'this',\n",
       "       'unacceptable', 'all', 'old', 'infuriating', 'the', 'by',\n",
       "       'officially', 'life', 'light', 'space'], dtype=object)"
      ]
     },
     "execution_count": 28,
     "metadata": {},
     "output_type": "execute_result"
    }
   ],
   "source": [
    "df_arch_clean[df_arch_clean.name.str.islower()==True]['name'].unique()"
   ]
  },
  {
   "cell_type": "code",
   "execution_count": 29,
   "metadata": {},
   "outputs": [],
   "source": [
    "name_error = ['such', 'a', 'quite', 'not', 'one', 'incredibly', 'mad', 'an',\n",
    "       'very', 'just', 'my', 'his', 'actually', 'getting', 'this',\n",
    "       'unacceptable', 'all', 'old', 'infuriating', 'the', 'by',\n",
    "       'officially', 'life', 'light', 'space']"
   ]
  },
  {
   "cell_type": "code",
   "execution_count": 30,
   "metadata": {},
   "outputs": [],
   "source": [
    "for i in name_error:\n",
    "    df_arch_clean.name.replace(i, \"None\", inplace=True)"
   ]
  },
  {
   "cell_type": "markdown",
   "metadata": {},
   "source": [
    "#### Test"
   ]
  },
  {
   "cell_type": "code",
   "execution_count": 31,
   "metadata": {},
   "outputs": [
    {
     "data": {
      "text/plain": [
       "array(['Phineas', 'Tilly', 'Archie', 'Darla', 'Franklin', 'None', 'Jax',\n",
       "       'Zoey', 'Cassie', 'Koda', 'Bruno', 'Ted', 'Stuart', 'Oliver', 'Jim',\n",
       "       'Zeke', 'Ralphus', 'Gerald', 'Jeffrey', 'Canela', 'Maya', 'Mingus',\n",
       "       'Derek', 'Roscoe', 'Waffles', 'Jimbo', 'Maisey', 'Earl', 'Lola',\n",
       "       'Kevin', 'Yogi', 'Noah', 'Bella', 'Grizzwald', 'Rusty', 'Gus',\n",
       "       'Stanley', 'Alfy', 'Koko', 'Rey', 'Gary', 'Elliot', 'Louis',\n",
       "       'Jesse', 'Romeo', 'Bailey', 'Duddles', 'Jack', 'Steven', 'Beau',\n",
       "       'Snoopy', 'Shadow', 'Emmy', 'Aja', 'Penny', 'Dante', 'Nelly',\n",
       "       'Ginger', 'Benedict', 'Venti', 'Goose', 'Nugget', 'Cash', 'Jed',\n",
       "       'Sebastian', 'Sierra', 'Monkey', 'Harry', 'Kody', 'Lassie', 'Rover',\n",
       "       'Napolean', 'Boomer', 'Cody', 'Rumble', 'Clifford', 'Dewey',\n",
       "       'Scout', 'Gizmo', 'Walter', 'Cooper', 'Harold', 'Shikha', 'Lili',\n",
       "       'Jamesy', 'Coco', 'Sammy', 'Meatball', 'Paisley', 'Albus',\n",
       "       'Neptune', 'Belle', 'Quinn', 'Zooey', 'Dave', 'Jersey', 'Hobbes',\n",
       "       'Burt', 'Lorenzo', 'Carl', 'Jordy', 'Milky', 'Trooper', 'Sophie',\n",
       "       'Wyatt', 'Rosie', 'Thor', 'Oscar', 'Callie', 'Cermet', 'Marlee',\n",
       "       'Arya', 'Einstein', 'Alice', 'Rumpole', 'Benny', 'Aspen', 'Jarod',\n",
       "       'Wiggles', 'General', 'Sailor', 'Iggy', 'Snoop', 'Kyle', 'Leo',\n",
       "       'Riley', 'Noosh', 'Odin', 'Jerry', 'Georgie', 'Rontu', 'Cannon',\n",
       "       'Furzey', 'Daisy', 'Tuck', 'Barney', 'Vixen', 'Jarvis', 'Mimosa',\n",
       "       'Pickles', 'Brady', 'Luna', 'Charlie', 'Margo', 'Sadie', 'Hank',\n",
       "       'Tycho', 'Indie', 'Winnie', 'George', 'Bentley', 'Max', 'Dawn',\n",
       "       'Maddie', 'Monty', 'Sojourner', 'Winston', 'Odie', 'Arlo',\n",
       "       'Vincent', 'Lucy', 'Clark', 'Mookie', 'Meera', 'Ava', 'Eli', 'Ash',\n",
       "       'Tucker', 'Tobi', 'Chester', 'Wilson', 'Sunshine', 'Lipton',\n",
       "       'Bronte', 'Poppy', 'Gidget', 'Rhino', 'Willow', 'Orion', 'Eevee',\n",
       "       'Smiley', 'Miguel', 'Emanuel', 'Kuyu', 'Dutch', 'Pete', 'Scooter',\n",
       "       'Reggie', 'Lilly', 'Samson', 'Mia', 'Astrid', 'Malcolm', 'Dexter',\n",
       "       'Alfie', 'Fiona', 'Mutt', 'Bear', 'Doobert', 'Beebop', 'Alexander',\n",
       "       'Sailer', 'Brutus', 'Kona', 'Boots', 'Ralphie', 'Loki', 'Cupid',\n",
       "       'Pawnd', 'Pilot', 'Ike', 'Mo', 'Toby', 'Sweet', 'Pablo', 'Nala',\n",
       "       'Crawford', 'Gabe', 'Jimison', 'Duchess', 'Harlso', 'Sundance',\n",
       "       'Luca', 'Flash', 'Sunny', 'Howie', 'Jazzy', 'Anna', 'Finn', 'Bo',\n",
       "       'Wafer', 'Tom', 'Florence', 'Autumn', 'Buddy', 'Dido', 'Eugene',\n",
       "       'Ken', 'Strudel', 'Tebow', 'Chloe', 'Timber', 'Binky', 'Moose',\n",
       "       'Dudley', 'Comet', 'Akumi', 'Titan', 'Olivia', 'Alf', 'Oshie',\n",
       "       'Chubbs', 'Sky', 'Atlas', 'Eleanor', 'Layla', 'Rocky', 'Baron',\n",
       "       'Tyr', 'Bauer', 'Swagger', 'Brandi', 'Mary', 'Moe', 'Halo', 'Augie',\n",
       "       'Craig', 'Sam', 'Hunter', 'Pavlov', 'Phil', 'Kyro', 'Wallace',\n",
       "       'Ito', 'Seamus', 'Ollie', 'Stephan', 'Lennon', 'Major', 'Duke',\n",
       "       'Sansa', 'Shooter', 'Django', 'Diogi', 'Sonny', 'Marley', 'Severus',\n",
       "       'Ronnie', 'Milo', 'Bones', 'Mauve', 'Chef', 'Doc', 'Peaches',\n",
       "       'Sobe', 'Longfellow', 'Mister', 'Iroh', 'Pancake', 'Snicku', 'Ruby',\n",
       "       'Brody', 'Mack', 'Nimbus', 'Laika', 'Maximus', 'Dobby', 'Moreton',\n",
       "       'Juno', 'Maude', 'Lily', 'Newt', 'Benji', 'Nida', 'Robin',\n",
       "       'Monster', 'BeBe', 'Remus', 'Levi', 'Mabel', 'Misty', 'Betty',\n",
       "       'Mosby', 'Maggie', 'Bruce', 'Happy', 'Ralphy', 'Brownie', 'Rizzy',\n",
       "       'Stella', 'Butter', 'Frank', 'Tonks', 'Lincoln', 'Rory', 'Logan',\n",
       "       'Dale', 'Rizzo', 'Arnie', 'Mattie', 'Pinot', 'Dallas', 'Hero',\n",
       "       'Frankie', 'Stormy', 'Reginald', 'Balto', 'Mairi', 'Loomis', 'Godi',\n",
       "       'Cali', 'Deacon', 'Timmy', 'Sampson', 'Chipson', 'Combo', 'Oakley',\n",
       "       'Dash', 'Hercules', 'Jay', 'Mya', 'Strider', 'Wesley', 'Solomon',\n",
       "       'Huck', 'O', 'Blue', 'Anakin', 'Finley', 'Sprinkles', 'Heinrich',\n",
       "       'Shakespeare', 'Chelsea', 'Bungalo', 'Chip', 'Grey', 'Roosevelt',\n",
       "       'Willem', 'Davey', 'Dakota', 'Fizz', 'Dixie', 'Al', 'Jackson',\n",
       "       'Carbon', 'Klein', 'DonDon', 'Kirby', 'Lou', 'Chevy', 'Tito',\n",
       "       'Philbert', 'Louie', 'Rupert', 'Rufus', 'Brudge', 'Shadoe', 'Angel',\n",
       "       'Brat', 'Tove', 'Gromit', 'Aubie', 'Kota', 'Leela', 'Glenn',\n",
       "       'Shelby', 'Sephie', 'Bonaparte', 'Albert', 'Wishes', 'Rose', 'Theo',\n",
       "       'Rocco', 'Fido', 'Emma', 'Spencer', 'Lilli', 'Boston', 'Brandonald',\n",
       "       'Corey', 'Leonard', 'Beckham', 'Devón', 'Gert', 'Watson', 'Keith',\n",
       "       'Dex', 'Ace', 'Tayzie', 'Grizzie', 'Fred', 'Gilbert', 'Meyer',\n",
       "       'Zoe', 'Stewie', 'Calvin', 'Lilah', 'Spanky', 'Jameson', 'Piper',\n",
       "       'Atticus', 'Blu', 'Dietrich', 'Divine', 'Tripp', 'Cora', 'Huxley',\n",
       "       'Keurig', 'Bookstore', 'Linus', 'Abby', 'Shiloh', 'Gustav', 'Arlen',\n",
       "       'Percy', 'Lenox', 'Sugar', 'Harvey', 'Blanket', 'Geno', 'Stark',\n",
       "       'Beya', 'Kilo', 'Kayla', 'Maxaroni', 'Bell', 'Doug', 'Edmund',\n",
       "       'Aqua', 'Theodore', 'Baloo', 'Chase', 'Nollie', 'Rorie', 'Simba',\n",
       "       'Charles', 'Bayley', 'Axel', 'Storkson', 'Remy', 'Chadrick',\n",
       "       'Kellogg', 'Buckley', 'Livvie', 'Terry', 'Hermione', 'Ralpher',\n",
       "       'Aldrick', 'Larry', 'Rooney', 'Crystal', 'Ziva', 'Stefan',\n",
       "       'Pupcasso', 'Puff', 'Flurpson', 'Coleman', 'Enchilada', 'Raymond',\n",
       "       'Rueben', 'Cilantro', 'Karll', 'Sprout', 'Blitz', 'Bloop', 'Colby',\n",
       "       'Lillie', 'Ashleigh', 'Kreggory', 'Sarge', 'Luther', 'Ivar',\n",
       "       'Jangle', 'Schnitzel', 'Panda', 'Berkeley', 'Ralphé', 'Charleson',\n",
       "       'Clyde', 'Harnold', 'Sid', 'Pippa', 'Otis', 'Carper', 'Bowie',\n",
       "       'Alexanderson', 'Suki', 'Barclay', 'Skittle', 'Ebby', 'Flávio',\n",
       "       'Smokey', 'Link', 'Jennifur', 'Ozzy', 'Bluebert', 'Stephanus',\n",
       "       'Bubbles', 'Zeus', 'Bertson', 'Nico', 'Michelangelope', 'Siba',\n",
       "       'Calbert', 'Curtis', 'Travis', 'Thumas', 'Kanu', 'Lance', 'Opie',\n",
       "       'Stubert', 'Kane', 'Olive', 'Chuckles', 'Staniel', 'Sora', 'Beemo',\n",
       "       'Gunner', 'Lacy', 'Tater', 'Olaf', 'Cecil', 'Vince', 'Karma',\n",
       "       'Billy', 'Walker', 'Rodney', 'Klevin', 'Malikai', 'Bobble', 'River',\n",
       "       'Jebberson', 'Remington', 'Farfle', 'Jiminus', 'Harper', 'Clarkus',\n",
       "       'Finnegus', 'Cupcake', 'Kathmandu', 'Ellie', 'Katie', 'Kara',\n",
       "       'Adele', 'Zara', 'Ambrose', 'Jimothy', 'Bode', 'Terrenth', 'Reese',\n",
       "       'Chesterson', 'Lucia', 'Bisquick', 'Ralphson', 'Socks', 'Rambo',\n",
       "       'Rudy', 'Fiji', 'Rilo', 'Bilbo', 'Coopson', 'Yoda', 'Millie',\n",
       "       'Chet', 'Crouton', 'Daniel', 'Kaia', 'Murphy', 'Dotsy', 'Eazy',\n",
       "       'Coops', 'Fillup', 'Miley', 'Charl', 'Reagan', 'Yukon', 'CeCe',\n",
       "       'Cuddles', 'Claude', 'Jessiga', 'Carter', 'Ole', 'Pherb', 'Blipson',\n",
       "       'Reptar', 'Trevith', 'Berb', 'Bob', 'Colin', 'Brian', 'Oliviér',\n",
       "       'Grady', 'Kobe', 'Freddery', 'Bodie', 'Dunkin', 'Wally', 'Tupawc',\n",
       "       'Amber', 'Herschel', 'Edgar', 'Teddy', 'Kingsley', 'Brockly',\n",
       "       'Richie', 'Molly', 'Vinscent', 'Cedrick', 'Hazel', 'Lolo', 'Eriq',\n",
       "       'Phred', 'Oddie', 'Maxwell', 'Geoff', 'Covach', 'Durg', 'Fynn',\n",
       "       'Ricky', 'Herald', 'Lucky', 'Ferg', 'Trip', 'Clarence', 'Hamrick',\n",
       "       'Brad', 'Pubert', 'Frönq', 'Derby', 'Lizzie', 'Ember', 'Blakely',\n",
       "       'Opal', 'Marq', 'Kramer', 'Barry', 'Tyrone', 'Gordon', 'Baxter',\n",
       "       'Mona', 'Horace', 'Crimson', 'Birf', 'Hammond', 'Lorelei', 'Marty',\n",
       "       'Brooks', 'Petrick', 'Hubertson', 'Gerbald', 'Oreo', 'Bruiser',\n",
       "       'Perry', 'Bobby', 'Jeph', 'Obi', 'Tino', 'Kulet', 'Sweets', 'Lupe',\n",
       "       'Tiger', 'Jiminy', 'Griffin', 'Banjo', 'Brandy', 'Lulu', 'Darrel',\n",
       "       'Taco', 'Joey', 'Patrick', 'Kreg', 'Todo', 'Tess', 'Ulysses',\n",
       "       'Toffee', 'Apollo', 'Carly', 'Asher', 'Glacier', 'Chuck', 'Champ',\n",
       "       'Ozzie', 'Griswold', 'Cheesy', 'Moofasa', 'Hector', 'Goliath',\n",
       "       'Kawhi', 'Emmie', 'Penelope', 'Willie', 'Rinna', 'Mike', 'William',\n",
       "       'Dwight', 'Evy', 'Hurley', 'Rubio', 'Chompsky', 'Rascal', 'Linda',\n",
       "       'Tug', 'Tango', 'Grizz', 'Jerome', 'Crumpet', 'Jessifer', 'Izzy',\n",
       "       'Ralph', 'Sandy', 'Humphrey', 'Tassy', 'Juckson', 'Chuq', 'Tyrus',\n",
       "       'Karl', 'Godzilla', 'Vinnie', 'Kenneth', 'Herm', 'Bert', 'Striker',\n",
       "       'Donny', 'Pepper', 'Bernie', 'Buddah', 'Lenny', 'Arnold', 'Zuzu',\n",
       "       'Mollie', 'Laela', 'Tedders', 'Superpup', 'Rufio', 'Jeb', 'Rodman',\n",
       "       'Jonah', 'Chesney', 'Kenny', 'Henry', 'Bobbay', 'Mitch', 'Kaiya',\n",
       "       'Acro', 'Aiden', 'Obie', 'Dot', 'Shnuggles', 'Kendall', 'Jeffri',\n",
       "       'Steve', 'Eve', 'Mac', 'Fletcher', 'Kenzie', 'Pumpkin', 'Schnozz',\n",
       "       'Gustaf', 'Cheryl', 'Ed', 'Leonidas', 'Norman', 'Caryl', 'Scott',\n",
       "       'Taz', 'Darby', 'Jackie', 'Jazz', 'Franq', 'Pippin', 'Rolf',\n",
       "       'Snickers', 'Ridley', 'Cal', 'Bradley', 'Bubba', 'Tuco', 'Patch',\n",
       "       'Mojo', 'Batdog', 'Dylan', 'Mark', 'JD', 'Alejandro', 'Scruffers',\n",
       "       'Pip', 'Julius', 'Tanner', 'Sparky', 'Anthony', 'Holly', 'Jett',\n",
       "       'Amy', 'Sage', 'Andy', 'Mason', 'Trigger', 'Antony', 'Creg',\n",
       "       'Traviss', 'Gin', 'Jeffrie', 'Danny', 'Ester', 'Pluto', 'Bloo',\n",
       "       'Edd', 'Paull', 'Willy', 'Herb', 'Damon', 'Peanut', 'Nigel',\n",
       "       'Butters', 'Sandra', 'Fabio', 'Randall', 'Liam', 'Tommy', 'Ben',\n",
       "       'Raphael', 'Julio', 'Andru', 'Kloey', 'Shawwn', 'Skye', 'Kollin',\n",
       "       'Ronduh', 'Billl', 'Saydee', 'Dug', 'Tessa', 'Sully', 'Kirk',\n",
       "       'Ralf', 'Clarq', 'Jaspers', 'Samsom', 'Terrance', 'Harrison',\n",
       "       'Chaz', 'Jeremy', 'Jaycob', 'Lambeau', 'Ruffles', 'Amélie', 'Bobb',\n",
       "       'Banditt', 'Kevon', 'Winifred', 'Hanz', 'Churlie', 'Zeek', 'Timofy',\n",
       "       'Maks', 'Jomathan', 'Kallie', 'Marvin', 'Spark', 'Gòrdón', 'Jo',\n",
       "       'DayZ', 'Jareld', 'Torque', 'Ron', 'Skittles', 'Cleopatricia',\n",
       "       'Erik', 'Stu', 'Tedrick', 'Shaggy', 'Filup', 'Kial', 'Naphaniel',\n",
       "       'Dook', 'Hall', 'Philippe', 'Biden', 'Fwed', 'Genevieve', 'Joshwa',\n",
       "       'Timison', 'Bradlay', 'Pipsy', 'Clybe', 'Keet', 'Carll', 'Jockson',\n",
       "       'Josep', 'Lugan', 'Christoper'], dtype=object)"
      ]
     },
     "execution_count": 31,
     "metadata": {},
     "output_type": "execute_result"
    }
   ],
   "source": [
    "df_arch_clean['name'].unique()"
   ]
  },
  {
   "cell_type": "code",
   "execution_count": 32,
   "metadata": {},
   "outputs": [
    {
     "data": {
      "text/plain": [
       "None         784\n",
       "Lucy          11\n",
       "Charlie       11\n",
       "Cooper        10\n",
       "Oliver        10\n",
       "Penny          9\n",
       "Tucker         9\n",
       "Lola           8\n",
       "Winston        8\n",
       "Sadie          8\n",
       "Toby           7\n",
       "Daisy          7\n",
       "Koda           6\n",
       "Jax            6\n",
       "Bo             6\n",
       "Bailey         6\n",
       "Bella          6\n",
       "Oscar          6\n",
       "Stanley        6\n",
       "Buddy          5\n",
       "Bentley        5\n",
       "Rusty          5\n",
       "Scout          5\n",
       "Dave           5\n",
       "Milo           5\n",
       "Chester        5\n",
       "Leo            5\n",
       "Louis          5\n",
       "Cassie         4\n",
       "Larry          4\n",
       "            ... \n",
       "Brandy         1\n",
       "Strudel        1\n",
       "Zooey          1\n",
       "Alexander      1\n",
       "Marlee         1\n",
       "Hermione       1\n",
       "Jeffri         1\n",
       "Mutt           1\n",
       "Mimosa         1\n",
       "Nigel          1\n",
       "Iroh           1\n",
       "Toffee         1\n",
       "Kyro           1\n",
       "Tilly          1\n",
       "Darby          1\n",
       "Boots          1\n",
       "Norman         1\n",
       "Eriq           1\n",
       "Callie         1\n",
       "Dudley         1\n",
       "Tom            1\n",
       "Lorelei        1\n",
       "Darla          1\n",
       "Seamus         1\n",
       "Lacy           1\n",
       "Arlo           1\n",
       "Lulu           1\n",
       "Margo          1\n",
       "Shadoe         1\n",
       "Benny          1\n",
       "Name: name, Length: 931, dtype: int64"
      ]
     },
     "execution_count": 32,
     "metadata": {},
     "output_type": "execute_result"
    }
   ],
   "source": [
    "df_arch_clean.name.value_counts()"
   ]
  },
  {
   "cell_type": "markdown",
   "metadata": {},
   "source": [
    "### Quality #3: \n",
    "The timestamp, in_reply_to_status_id in df_arch as the wrong datatypes"
   ]
  },
  {
   "cell_type": "markdown",
   "metadata": {
    "collapsed": true,
    "extensions": {
     "jupyter_dashboards": {
      "version": 1,
      "views": {
       "grid_default": {
        "hidden": true
       },
       "report_default": {
        "hidden": true
       }
      }
     }
    }
   },
   "source": [
    "#### Define\n",
    "Converting timestamp and retweeted_status_timestamp to datetime datatype and in_reply_to_status_id and in_reply_to_user_id to integer datatypes"
   ]
  },
  {
   "cell_type": "markdown",
   "metadata": {},
   "source": [
    "#### Code"
   ]
  },
  {
   "cell_type": "code",
   "execution_count": 33,
   "metadata": {},
   "outputs": [],
   "source": [
    "# changing the timestamp to datetime datatype\n",
    "df_arch_clean['timestamp'] = pd.to_datetime(df_arch_clean.timestamp)"
   ]
  },
  {
   "cell_type": "code",
   "execution_count": 34,
   "metadata": {},
   "outputs": [],
   "source": [
    "# changing the timestamp to datetime datatype\n",
    "df_arch_clean['retweeted_status_timestamp'] = pd.to_datetime(df_arch_clean.timestamp)"
   ]
  },
  {
   "cell_type": "code",
   "execution_count": 35,
   "metadata": {},
   "outputs": [],
   "source": [
    "df_arch_clean[['in_reply_to_status_id', 'in_reply_to_user_id']] = df_arch_clean[['in_reply_to_status_id', 'in_reply_to_user_id']].fillna(0)"
   ]
  },
  {
   "cell_type": "code",
   "execution_count": 36,
   "metadata": {},
   "outputs": [],
   "source": [
    "# Changing the datatype of both in_reply_to_status_id and in_reply_to_user_id to int\n",
    "df_arch_clean[['in_reply_to_status_id', 'in_reply_to_user_id']] = df_arch_clean[['in_reply_to_status_id', 'in_reply_to_user_id']].astype(np.int64)"
   ]
  },
  {
   "cell_type": "markdown",
   "metadata": {},
   "source": [
    "#### Test"
   ]
  },
  {
   "cell_type": "code",
   "execution_count": 37,
   "metadata": {
    "scrolled": true
   },
   "outputs": [
    {
     "name": "stdout",
     "output_type": "stream",
     "text": [
      "<class 'pandas.core.frame.DataFrame'>\n",
      "Int64Index: 2175 entries, 0 to 2355\n",
      "Data columns (total 17 columns):\n",
      "tweet_id                      2175 non-null int64\n",
      "in_reply_to_status_id         2175 non-null int64\n",
      "in_reply_to_user_id           2175 non-null int64\n",
      "timestamp                     2175 non-null datetime64[ns]\n",
      "source                        2175 non-null object\n",
      "text                          2175 non-null object\n",
      "retweeted_status_id           0 non-null float64\n",
      "retweeted_status_user_id      0 non-null float64\n",
      "retweeted_status_timestamp    2175 non-null datetime64[ns]\n",
      "expanded_urls                 2117 non-null object\n",
      "rating_numerator              2175 non-null int64\n",
      "rating_denominator            2175 non-null int64\n",
      "name                          2175 non-null object\n",
      "doggo                         2175 non-null object\n",
      "floofer                       2175 non-null object\n",
      "pupper                        2175 non-null object\n",
      "puppo                         2175 non-null object\n",
      "dtypes: datetime64[ns](2), float64(2), int64(5), object(8)\n",
      "memory usage: 305.9+ KB\n"
     ]
    }
   ],
   "source": [
    "df_arch_clean.info()"
   ]
  },
  {
   "cell_type": "markdown",
   "metadata": {},
   "source": [
    "### Tidines #1: \n",
    "Removing the three empty columns from df_arch_clean table (i.e retweeted_status_id, retweeted_status_user_id and retweeted_status_timestamp) \n"
   ]
  },
  {
   "cell_type": "markdown",
   "metadata": {},
   "source": [
    "#### Define\n",
    "Droping the retweeted_status_id, retweeted_status_user_id and retweeted_status_timestamp columns from the df_arch_clean table"
   ]
  },
  {
   "cell_type": "markdown",
   "metadata": {},
   "source": [
    "#### Code"
   ]
  },
  {
   "cell_type": "code",
   "execution_count": 38,
   "metadata": {},
   "outputs": [],
   "source": [
    "df_arch_clean.drop(['retweeted_status_id', 'retweeted_status_user_id', 'retweeted_status_timestamp'], axis=1, inplace=True)"
   ]
  },
  {
   "cell_type": "code",
   "execution_count": 39,
   "metadata": {},
   "outputs": [
    {
     "name": "stdout",
     "output_type": "stream",
     "text": [
      "<class 'pandas.core.frame.DataFrame'>\n",
      "Int64Index: 2175 entries, 0 to 2355\n",
      "Data columns (total 14 columns):\n",
      "tweet_id                 2175 non-null int64\n",
      "in_reply_to_status_id    2175 non-null int64\n",
      "in_reply_to_user_id      2175 non-null int64\n",
      "timestamp                2175 non-null datetime64[ns]\n",
      "source                   2175 non-null object\n",
      "text                     2175 non-null object\n",
      "expanded_urls            2117 non-null object\n",
      "rating_numerator         2175 non-null int64\n",
      "rating_denominator       2175 non-null int64\n",
      "name                     2175 non-null object\n",
      "doggo                    2175 non-null object\n",
      "floofer                  2175 non-null object\n",
      "pupper                   2175 non-null object\n",
      "puppo                    2175 non-null object\n",
      "dtypes: datetime64[ns](1), int64(5), object(8)\n",
      "memory usage: 254.9+ KB\n"
     ]
    }
   ],
   "source": [
    "df_arch_clean.info()"
   ]
  },
  {
   "cell_type": "markdown",
   "metadata": {},
   "source": [
    "### Quality #4: \n",
    "Removing tweet with no image id"
   ]
  },
  {
   "cell_type": "markdown",
   "metadata": {},
   "source": [
    "#### Define\n",
    "Keeping only tweet that have images id"
   ]
  },
  {
   "cell_type": "markdown",
   "metadata": {},
   "source": [
    "#### Code"
   ]
  },
  {
   "cell_type": "code",
   "execution_count": 40,
   "metadata": {},
   "outputs": [],
   "source": [
    "df_arch_clean = df_arch_clean[df_arch_clean.tweet_id.isin(image_pred_df.tweet_id)]"
   ]
  },
  {
   "cell_type": "code",
   "execution_count": 41,
   "metadata": {},
   "outputs": [
    {
     "name": "stdout",
     "output_type": "stream",
     "text": [
      "<class 'pandas.core.frame.DataFrame'>\n",
      "Int64Index: 1994 entries, 0 to 2355\n",
      "Data columns (total 14 columns):\n",
      "tweet_id                 1994 non-null int64\n",
      "in_reply_to_status_id    1994 non-null int64\n",
      "in_reply_to_user_id      1994 non-null int64\n",
      "timestamp                1994 non-null datetime64[ns]\n",
      "source                   1994 non-null object\n",
      "text                     1994 non-null object\n",
      "expanded_urls            1994 non-null object\n",
      "rating_numerator         1994 non-null int64\n",
      "rating_denominator       1994 non-null int64\n",
      "name                     1994 non-null object\n",
      "doggo                    1994 non-null object\n",
      "floofer                  1994 non-null object\n",
      "pupper                   1994 non-null object\n",
      "puppo                    1994 non-null object\n",
      "dtypes: datetime64[ns](1), int64(5), object(8)\n",
      "memory usage: 233.7+ KB\n"
     ]
    }
   ],
   "source": [
    "df_arch_clean.info()"
   ]
  },
  {
   "cell_type": "markdown",
   "metadata": {},
   "source": [
    "#### Quality 5: \n",
    "The source columns as unnecessary html anchor and href tag"
   ]
  },
  {
   "cell_type": "markdown",
   "metadata": {},
   "source": [
    "#### Define:\n",
    "Removing the html and anchor tag from the source column and retain only text between the tags"
   ]
  },
  {
   "cell_type": "markdown",
   "metadata": {},
   "source": [
    "#### Code"
   ]
  },
  {
   "cell_type": "code",
   "execution_count": 42,
   "metadata": {},
   "outputs": [],
   "source": [
    "df_arch_clean['source']=df_arch_clean['source'].str.replace(r'<(?:a\\b[^>]*>|/a>)', '')"
   ]
  },
  {
   "cell_type": "markdown",
   "metadata": {},
   "source": [
    "#### Test"
   ]
  },
  {
   "cell_type": "code",
   "execution_count": 43,
   "metadata": {},
   "outputs": [
    {
     "data": {
      "text/html": [
       "<div>\n",
       "<style scoped>\n",
       "    .dataframe tbody tr th:only-of-type {\n",
       "        vertical-align: middle;\n",
       "    }\n",
       "\n",
       "    .dataframe tbody tr th {\n",
       "        vertical-align: top;\n",
       "    }\n",
       "\n",
       "    .dataframe thead th {\n",
       "        text-align: right;\n",
       "    }\n",
       "</style>\n",
       "<table border=\"1\" class=\"dataframe\">\n",
       "  <thead>\n",
       "    <tr style=\"text-align: right;\">\n",
       "      <th></th>\n",
       "      <th>tweet_id</th>\n",
       "      <th>in_reply_to_status_id</th>\n",
       "      <th>in_reply_to_user_id</th>\n",
       "      <th>timestamp</th>\n",
       "      <th>source</th>\n",
       "      <th>text</th>\n",
       "      <th>expanded_urls</th>\n",
       "      <th>rating_numerator</th>\n",
       "      <th>rating_denominator</th>\n",
       "      <th>name</th>\n",
       "      <th>doggo</th>\n",
       "      <th>floofer</th>\n",
       "      <th>pupper</th>\n",
       "      <th>puppo</th>\n",
       "    </tr>\n",
       "  </thead>\n",
       "  <tbody>\n",
       "    <tr>\n",
       "      <th>22</th>\n",
       "      <td>887517139158093824</td>\n",
       "      <td>0</td>\n",
       "      <td>0</td>\n",
       "      <td>2017-07-19 03:39:09</td>\n",
       "      <td>Twitter for iPhone</td>\n",
       "      <td>I've yet to rate a Venezuelan Hover Wiener. Th...</td>\n",
       "      <td>https://twitter.com/dog_rates/status/887517139...</td>\n",
       "      <td>14</td>\n",
       "      <td>10</td>\n",
       "      <td>None</td>\n",
       "      <td>None</td>\n",
       "      <td>None</td>\n",
       "      <td>None</td>\n",
       "      <td>None</td>\n",
       "    </tr>\n",
       "    <tr>\n",
       "      <th>929</th>\n",
       "      <td>754482103782404096</td>\n",
       "      <td>0</td>\n",
       "      <td>0</td>\n",
       "      <td>2016-07-17 01:05:25</td>\n",
       "      <td>Twitter for iPhone</td>\n",
       "      <td>This is Milo. He's currently plotting his reve...</td>\n",
       "      <td>https://twitter.com/dog_rates/status/754482103...</td>\n",
       "      <td>10</td>\n",
       "      <td>10</td>\n",
       "      <td>Milo</td>\n",
       "      <td>None</td>\n",
       "      <td>None</td>\n",
       "      <td>None</td>\n",
       "      <td>None</td>\n",
       "    </tr>\n",
       "    <tr>\n",
       "      <th>1860</th>\n",
       "      <td>675489971617296384</td>\n",
       "      <td>0</td>\n",
       "      <td>0</td>\n",
       "      <td>2015-12-12 01:38:53</td>\n",
       "      <td>Twitter for iPhone</td>\n",
       "      <td>RT until we find this dog. Clearly a cool dog ...</td>\n",
       "      <td>https://twitter.com/dog_rates/status/675489971...</td>\n",
       "      <td>10</td>\n",
       "      <td>10</td>\n",
       "      <td>None</td>\n",
       "      <td>None</td>\n",
       "      <td>None</td>\n",
       "      <td>None</td>\n",
       "      <td>None</td>\n",
       "    </tr>\n",
       "  </tbody>\n",
       "</table>\n",
       "</div>"
      ],
      "text/plain": [
       "                tweet_id  in_reply_to_status_id  in_reply_to_user_id  \\\n",
       "22    887517139158093824                      0                    0   \n",
       "929   754482103782404096                      0                    0   \n",
       "1860  675489971617296384                      0                    0   \n",
       "\n",
       "               timestamp              source  \\\n",
       "22   2017-07-19 03:39:09  Twitter for iPhone   \n",
       "929  2016-07-17 01:05:25  Twitter for iPhone   \n",
       "1860 2015-12-12 01:38:53  Twitter for iPhone   \n",
       "\n",
       "                                                   text  \\\n",
       "22    I've yet to rate a Venezuelan Hover Wiener. Th...   \n",
       "929   This is Milo. He's currently plotting his reve...   \n",
       "1860  RT until we find this dog. Clearly a cool dog ...   \n",
       "\n",
       "                                          expanded_urls  rating_numerator  \\\n",
       "22    https://twitter.com/dog_rates/status/887517139...                14   \n",
       "929   https://twitter.com/dog_rates/status/754482103...                10   \n",
       "1860  https://twitter.com/dog_rates/status/675489971...                10   \n",
       "\n",
       "      rating_denominator  name doggo floofer pupper puppo  \n",
       "22                    10  None  None    None   None  None  \n",
       "929                   10  Milo  None    None   None  None  \n",
       "1860                  10  None  None    None   None  None  "
      ]
     },
     "execution_count": 43,
     "metadata": {},
     "output_type": "execute_result"
    }
   ],
   "source": [
    "df_arch_clean.sample(3)"
   ]
  },
  {
   "cell_type": "code",
   "execution_count": 44,
   "metadata": {},
   "outputs": [
    {
     "name": "stdout",
     "output_type": "stream",
     "text": [
      "<class 'pandas.core.frame.DataFrame'>\n",
      "Int64Index: 1994 entries, 0 to 2355\n",
      "Data columns (total 14 columns):\n",
      "tweet_id                 1994 non-null int64\n",
      "in_reply_to_status_id    1994 non-null int64\n",
      "in_reply_to_user_id      1994 non-null int64\n",
      "timestamp                1994 non-null datetime64[ns]\n",
      "source                   1994 non-null object\n",
      "text                     1994 non-null object\n",
      "expanded_urls            1994 non-null object\n",
      "rating_numerator         1994 non-null int64\n",
      "rating_denominator       1994 non-null int64\n",
      "name                     1994 non-null object\n",
      "doggo                    1994 non-null object\n",
      "floofer                  1994 non-null object\n",
      "pupper                   1994 non-null object\n",
      "puppo                    1994 non-null object\n",
      "dtypes: datetime64[ns](1), int64(5), object(8)\n",
      "memory usage: 233.7+ KB\n"
     ]
    }
   ],
   "source": [
    "df_arch_clean.info()"
   ]
  },
  {
   "cell_type": "code",
   "execution_count": 45,
   "metadata": {},
   "outputs": [],
   "source": [
    "# Changing the source datatype to categorical values\n",
    "df_arch_clean['source'] =  df_arch_clean['source'].astype('category')"
   ]
  },
  {
   "cell_type": "markdown",
   "metadata": {},
   "source": [
    "#### Test:"
   ]
  },
  {
   "cell_type": "code",
   "execution_count": 46,
   "metadata": {},
   "outputs": [
    {
     "name": "stdout",
     "output_type": "stream",
     "text": [
      "<class 'pandas.core.frame.DataFrame'>\n",
      "Int64Index: 1994 entries, 0 to 2355\n",
      "Data columns (total 14 columns):\n",
      "tweet_id                 1994 non-null int64\n",
      "in_reply_to_status_id    1994 non-null int64\n",
      "in_reply_to_user_id      1994 non-null int64\n",
      "timestamp                1994 non-null datetime64[ns]\n",
      "source                   1994 non-null category\n",
      "text                     1994 non-null object\n",
      "expanded_urls            1994 non-null object\n",
      "rating_numerator         1994 non-null int64\n",
      "rating_denominator       1994 non-null int64\n",
      "name                     1994 non-null object\n",
      "doggo                    1994 non-null object\n",
      "floofer                  1994 non-null object\n",
      "pupper                   1994 non-null object\n",
      "puppo                    1994 non-null object\n",
      "dtypes: category(1), datetime64[ns](1), int64(5), object(7)\n",
      "memory usage: 220.1+ KB\n"
     ]
    }
   ],
   "source": [
    "df_arch_clean.info()"
   ]
  },
  {
   "cell_type": "code",
   "execution_count": 47,
   "metadata": {},
   "outputs": [
    {
     "data": {
      "text/plain": [
       "Twitter for iPhone    1955\n",
       "Twitter Web Client      28\n",
       "TweetDeck               11\n",
       "Name: source, dtype: int64"
      ]
     },
     "execution_count": 47,
     "metadata": {},
     "output_type": "execute_result"
    }
   ],
   "source": [
    "# checking the categories of source data we have\n",
    "df_arch_clean.source.value_counts()"
   ]
  },
  {
   "cell_type": "markdown",
   "metadata": {},
   "source": [
    "### Quality #5: \n",
    "The rating_denorminator colunms have value greater and less than 10"
   ]
  },
  {
   "cell_type": "markdown",
   "metadata": {},
   "source": [
    "#### Define:\n",
    "Assigning the value of 10 to the rating denorminator"
   ]
  },
  {
   "cell_type": "markdown",
   "metadata": {},
   "source": [
    "#### Code:"
   ]
  },
  {
   "cell_type": "code",
   "execution_count": 48,
   "metadata": {},
   "outputs": [],
   "source": [
    "df_arch_clean['rating_denominator'] = df_arch_clean['rating_denominator'] = 10"
   ]
  },
  {
   "cell_type": "markdown",
   "metadata": {},
   "source": [
    "#### Test:"
   ]
  },
  {
   "cell_type": "code",
   "execution_count": 49,
   "metadata": {},
   "outputs": [
    {
     "data": {
      "text/plain": [
       "10    1994\n",
       "Name: rating_denominator, dtype: int64"
      ]
     },
     "execution_count": 49,
     "metadata": {},
     "output_type": "execute_result"
    }
   ],
   "source": [
    "df_arch_clean.rating_denominator.value_counts()"
   ]
  },
  {
   "cell_type": "markdown",
   "metadata": {},
   "source": [
    "### Quality #6: \n",
    "Checking if if their are dog with more than one dog stage"
   ]
  },
  {
   "cell_type": "code",
   "execution_count": 50,
   "metadata": {},
   "outputs": [
    {
     "name": "stdout",
     "output_type": "stream",
     "text": [
      "1\n",
      "9\n",
      "1\n"
     ]
    }
   ],
   "source": [
    "# Checking to if e have dog with two or more stage \n",
    "print(len(df_arch_clean[(df_arch_clean.doggo != 'None') & (df_arch_clean.floofer != 'None')]))\n",
    "print(len(df_arch_clean[(df_arch_clean.doggo != 'None') & (df_arch_clean.pupper != 'None')]))\n",
    "print(len(df_arch_clean[(df_arch_clean.doggo != 'None') & (df_arch_clean.puppo != 'None')]))"
   ]
  },
  {
   "cell_type": "markdown",
   "metadata": {},
   "source": [
    "#### Define:\n",
    "We have records that have more than one dog stage. We are setting their value to None"
   ]
  },
  {
   "cell_type": "markdown",
   "metadata": {},
   "source": [
    "#### Code "
   ]
  },
  {
   "cell_type": "code",
   "execution_count": 51,
   "metadata": {},
   "outputs": [
    {
     "name": "stderr",
     "output_type": "stream",
     "text": [
      "/opt/conda/lib/python3.6/site-packages/ipykernel_launcher.py:2: SettingWithCopyWarning: \n",
      "A value is trying to be set on a copy of a slice from a DataFrame\n",
      "\n",
      "See the caveats in the documentation: http://pandas.pydata.org/pandas-docs/stable/indexing.html#indexing-view-versus-copy\n",
      "  \n"
     ]
    }
   ],
   "source": [
    "# setting the pupper column as None for the records that have both doggo and pupper\n",
    "df_arch_clean['pupper'][(df_arch_clean.doggo != 'None') & (df_arch_clean.pupper != 'None')] = 'None'"
   ]
  },
  {
   "cell_type": "code",
   "execution_count": 52,
   "metadata": {},
   "outputs": [
    {
     "name": "stdout",
     "output_type": "stream",
     "text": [
      "855851453814013952 Here's a puppo participating in the #ScienceMarch. Cleverly disguising her own doggo agenda. 13/10 would keep the planet habitable for https://t.co/cMhq16isel\n",
      "\n",
      "854010172552949760 At first I thought this was a shy doggo, but it's actually a Rare Canadian Floofer Owl. Amateurs would confuse the two. 11/10 only send dogs https://t.co/TXdT3tmuYk\n",
      "\n"
     ]
    }
   ],
   "source": [
    "# Checking to see which record to be set to None between puppo and doggo\n",
    "for x, row in df_arch_clean[((df_arch_clean['doggo'] != 'None') & (df_arch_clean['floofer'] != 'None'))\n",
    "                   | ((df_arch_clean['doggo'] != 'None') & (df_arch_clean['puppo'] != 'None'))].iterrows():\n",
    "    print('%s %s\\n'%(row.tweet_id, row.text))\n"
   ]
  },
  {
   "cell_type": "code",
   "execution_count": 53,
   "metadata": {
    "scrolled": true
   },
   "outputs": [
    {
     "name": "stderr",
     "output_type": "stream",
     "text": [
      "/opt/conda/lib/python3.6/site-packages/ipykernel_launcher.py:2: SettingWithCopyWarning: \n",
      "A value is trying to be set on a copy of a slice from a DataFrame\n",
      "\n",
      "See the caveats in the documentation: http://pandas.pydata.org/pandas-docs/stable/indexing.html#indexing-view-versus-copy\n",
      "  \n"
     ]
    }
   ],
   "source": [
    "# Setting the records to None \n",
    "df_arch_clean['doggo'][df_arch_clean.tweet_id.isin([855851453814013952, 854010172552949760])] = 'None'"
   ]
  },
  {
   "cell_type": "markdown",
   "metadata": {},
   "source": [
    "#### Test"
   ]
  },
  {
   "cell_type": "code",
   "execution_count": 54,
   "metadata": {},
   "outputs": [
    {
     "name": "stdout",
     "output_type": "stream",
     "text": [
      "0\n",
      "0\n",
      "0\n"
     ]
    }
   ],
   "source": [
    "print(len(df_arch_clean[(df_arch_clean.doggo != 'None') & (df_arch_clean.floofer != 'None')]))\n",
    "print(len(df_arch_clean[(df_arch_clean.doggo != 'None') & (df_arch_clean.pupper != 'None')]))\n",
    "print(len(df_arch_clean[(df_arch_clean.doggo != 'None') & (df_arch_clean.puppo != 'None')]))"
   ]
  },
  {
   "cell_type": "markdown",
   "metadata": {},
   "source": [
    "### Tidines #2:\n",
    "doggo, floofer, pupper, puppo columns in arch_df should be merged into one column named dog_stage"
   ]
  },
  {
   "cell_type": "code",
   "execution_count": 55,
   "metadata": {},
   "outputs": [],
   "source": [
    "dog_stage = ['doggo', 'floofer', 'pupper', 'puppo']\n",
    "df_arch_clean[dog_stage] = df_arch_clean[dog_stage].replace('None', '')"
   ]
  },
  {
   "cell_type": "markdown",
   "metadata": {},
   "source": [
    "#### Define:\n",
    "Using melt function to merge the Dog stage into one column and named it dog_stage"
   ]
  },
  {
   "cell_type": "markdown",
   "metadata": {},
   "source": [
    "#### Code:"
   ]
  },
  {
   "cell_type": "code",
   "execution_count": 56,
   "metadata": {},
   "outputs": [],
   "source": [
    "df_arch_clean = pd.melt(df_arch_clean, id_vars=['tweet_id', 'in_reply_to_status_id', 'in_reply_to_user_id', 'timestamp', 'source', 'text', 'expanded_urls', 'rating_numerator', 'rating_denominator', 'name' ], var_name='stage', value_vars=['doggo', 'floofer', 'pupper', 'puppo'], value_name ='dog_stage').drop(['stage'], 1)"
   ]
  },
  {
   "cell_type": "code",
   "execution_count": 58,
   "metadata": {
    "scrolled": true
   },
   "outputs": [
    {
     "name": "stdout",
     "output_type": "stream",
     "text": [
      "<class 'pandas.core.frame.DataFrame'>\n",
      "RangeIndex: 7976 entries, 0 to 7975\n",
      "Data columns (total 11 columns):\n",
      "tweet_id                 7976 non-null int64\n",
      "in_reply_to_status_id    7976 non-null int64\n",
      "in_reply_to_user_id      7976 non-null int64\n",
      "timestamp                7976 non-null datetime64[ns]\n",
      "source                   7976 non-null category\n",
      "text                     7976 non-null object\n",
      "expanded_urls            7976 non-null object\n",
      "rating_numerator         7976 non-null int64\n",
      "rating_denominator       7976 non-null int64\n",
      "name                     7976 non-null object\n",
      "dog_stage                7976 non-null object\n",
      "dtypes: category(1), datetime64[ns](1), int64(5), object(4)\n",
      "memory usage: 631.1+ KB\n"
     ]
    }
   ],
   "source": [
    "df_arch_clean.info()"
   ]
  },
  {
   "cell_type": "code",
   "execution_count": 61,
   "metadata": {},
   "outputs": [
    {
     "data": {
      "text/plain": [
       "tweet_id            in_reply_to_status_id  in_reply_to_user_id  timestamp            source              text                                                                                                                                                                    expanded_urls                                                                                                                                                                                                                                                    rating_numerator  rating_denominator  name      dog_stage\n",
       "666020888022790149  0                      0                    2015-11-15 22:32:08  Twitter for iPhone  Here we have a Japanese Irish Setter. Lost eye in Vietnam (?). Big fan of relaxing on stair. 8/10 would pet https://t.co/BLDqew2Ijj                                     https://twitter.com/dog_rates/status/666020888022790149/photo/1                                                                                                                                                                                                  8                 10                  None                   4\n",
       "666029285002620928  0                      0                    2015-11-15 23:05:30  Twitter for iPhone  This is a western brown Mitsubishi terrier. Upset about leaf. Actually 2 dogs here. 7/10 would walk the shit out of https://t.co/r7mOb2m0UI                             https://twitter.com/dog_rates/status/666029285002620928/photo/1                                                                                                                                                                                                  7                 10                  None                   4\n",
       "666033412701032449  0                      0                    2015-11-15 23:21:54  Twitter for iPhone  Here is a very happy pup. Big fan of well-maintained decks. Just look at that tongue. 9/10 would cuddle af https://t.co/y671yMhoiR                                      https://twitter.com/dog_rates/status/666033412701032449/photo/1                                                                                                                                                                                                  9                 10                  None                   4\n",
       "666044226329800704  0                      0                    2015-11-16 00:04:52  Twitter for iPhone  This is a purebred Piers Morgan. Loves to Netflix and chill. Always looks like he forgot to unplug the iron. 6/10 https://t.co/DWnyCjf2mx                               https://twitter.com/dog_rates/status/666044226329800704/photo/1                                                                                                                                                                                                  6                 10                  None                   4\n",
       "666049248165822465  0                      0                    2015-11-16 00:24:50  Twitter for iPhone  Here we have a 1949 1st generation vulpix. Enjoys sweat tea and Fox News. Cannot be phased. 5/10 https://t.co/4B7cOc1EDq                                                https://twitter.com/dog_rates/status/666049248165822465/photo/1                                                                                                                                                                                                  5                 10                  None                   4\n",
       "666050758794694657  0                      0                    2015-11-16 00:30:50  Twitter for iPhone  This is a truly beautiful English Wilson Staff retriever. Has a nice phone. Privileged. 10/10 would trade lives with https://t.co/fvIbQfHjIe                            https://twitter.com/dog_rates/status/666050758794694657/photo/1                                                                                                                                                                                                  10                10                  None                   4\n",
       "666051853826850816  0                      0                    2015-11-16 00:35:11  Twitter for iPhone  This is an odd dog. Hard on the outside but loving on the inside. Petting still fun. Doesn't play catch well. 2/10 https://t.co/v5A4vzSDdc                              https://twitter.com/dog_rates/status/666051853826850816/photo/1                                                                                                                                                                                                  2                 10                  None                   4\n",
       "666055525042405380  0                      0                    2015-11-16 00:49:46  Twitter for iPhone  Here is a Siberian heavily armored polar bear mix. Strong owner. 10/10 I would do unspeakable things to pet this dog https://t.co/rdivxLiqEt                            https://twitter.com/dog_rates/status/666055525042405380/photo/1                                                                                                                                                                                                  10                10                  None                   4\n",
       "666057090499244032  0                      0                    2015-11-16 00:55:59  Twitter for iPhone  My oh my. This is a rare blond Canadian terrier on wheels. Only $8.98. Rather docile. 9/10 very rare https://t.co/yWBqbrzy8O                                            https://twitter.com/dog_rates/status/666057090499244032/photo/1                                                                                                                                                                                                  9                 10                  None                   4\n",
       "666058600524156928  0                      0                    2015-11-16 01:01:59  Twitter for iPhone  Here is the Rand Paul of retrievers folks! He's probably good at poker. Can drink beer (lol rad). 8/10 good dog https://t.co/pYAJkAe76p                                 https://twitter.com/dog_rates/status/666058600524156928/photo/1                                                                                                                                                                                                  8                 10                  None                   4\n",
       "666063827256086533  0                      0                    2015-11-16 01:22:45  Twitter for iPhone  This is the happiest dog you will ever see. Very committed owner. Nice couch. 10/10 https://t.co/RhUEAloehK                                                             https://twitter.com/dog_rates/status/666063827256086533/photo/1                                                                                                                                                                                                  10                10                  None                   4\n",
       "666071193221509120  0                      0                    2015-11-16 01:52:02  Twitter for iPhone  Here we have a northern speckled Rhododendron. Much sass. Gives 0 fucks. Good tongue. 9/10 would caress sensually https://t.co/ZoL8kq2XFx                               https://twitter.com/dog_rates/status/666071193221509120/photo/1                                                                                                                                                                                                  9                 10                  None                   4\n",
       "666073100786774016  0                      0                    2015-11-16 01:59:36  Twitter for iPhone  Let's hope this flight isn't Malaysian (lol). What a dog! Almost completely camouflaged. 10/10 I trust this pilot https://t.co/Yk6GHE9tOY                               https://twitter.com/dog_rates/status/666073100786774016/photo/1                                                                                                                                                                                                  10                10                  None                   4\n",
       "666082916733198337  0                      0                    2015-11-16 02:38:37  Twitter for iPhone  Here we have a well-established sunblockerspaniel. Lost his other flip-flop. 6/10 not very waterproof https://t.co/3RU6x0vHB7                                           https://twitter.com/dog_rates/status/666082916733198337/photo/1                                                                                                                                                                                                  6                 10                  None                   4\n",
       "666094000022159362  0                      0                    2015-11-16 03:22:39  Twitter for iPhone  This appears to be a Mongolian Presbyterian mix. Very tired. Tongue slip confirmed. 9/10 would lie down with https://t.co/mnioXo3IfP                                    https://twitter.com/dog_rates/status/666094000022159362/photo/1                                                                                                                                                                                                  9                 10                  None                   4\n",
       "666099513787052032  0                      0                    2015-11-16 03:44:34  Twitter for iPhone  Can stand on stump for what seems like a while. Built that birdhouse? Impressive. Made friends with a squirrel. 8/10 https://t.co/Ri4nMTLq5C                            https://twitter.com/dog_rates/status/666099513787052032/photo/1                                                                                                                                                                                                  8                 10                  None                   4\n",
       "666102155909144576  0                      0                    2015-11-16 03:55:04  Twitter for iPhone  Oh my. Here you are seeing an Adobe Setter giving birth to twins!!! The world is an amazing place. 11/10 https://t.co/11LvqN4WLq                                        https://twitter.com/dog_rates/status/666102155909144576/photo/1                                                                                                                                                                                                  11                10                  None                   4\n",
       "666104133288665088  0                      0                    2015-11-16 04:02:55  Twitter for iPhone  Not familiar with this breed. No tail (weird). Only 2 legs. Doesn't bark. Surprisingly quick. Shits eggs. 1/10 https://t.co/Asgdc6kuLX                                  https://twitter.com/dog_rates/status/666104133288665088/photo/1                                                                                                                                                                                                  1                 10                  None                   4\n",
       "666268910803644416  0                      0                    2015-11-16 14:57:41  Twitter for iPhone  Very concerned about fellow dog trapped in computer. 10/10 https://t.co/0yxApIikpk                                                                                      https://twitter.com/dog_rates/status/666268910803644416/photo/1                                                                                                                                                                                                  10                10                  None                   4\n",
       "666273097616637952  0                      0                    2015-11-16 15:14:19  Twitter for iPhone  Can take selfies 11/10 https://t.co/ws2AMaNwPW                                                                                                                          https://twitter.com/dog_rates/status/666273097616637952/photo/1                                                                                                                                                                                                  11                10                  None                   4\n",
       "666287406224695296  0                      0                    2015-11-16 16:11:11  Twitter for iPhone  This is an Albanian 3 1/2 legged  Episcopalian. Loves well-polished hardwood flooring. Penis on the collar. 9/10 https://t.co/d9NcXFKwLv                                https://twitter.com/dog_rates/status/666287406224695296/photo/1                                                                                                                                                                                                  1                 10                  None                   4\n",
       "666293911632134144  0                      0                    2015-11-16 16:37:02  Twitter for iPhone  This is a funny dog. Weird toes. Won't come down. Loves branch. Refuses to eat his food. Hard to cuddle with. 3/10 https://t.co/IIXis0zta0                              https://twitter.com/dog_rates/status/666293911632134144/photo/1                                                                                                                                                                                                  3                 10                  None                   4\n",
       "666337882303524864  0                      0                    2015-11-16 19:31:45  Twitter for iPhone  This is an extremely rare horned Parthenon. Not amused. Wears shoes. Overall very nice. 9/10 would pet aggressively https://t.co/QpRjllzWAL                             https://twitter.com/dog_rates/status/666337882303524864/photo/1                                                                                                                                                                                                  9                 10                  None                   4\n",
       "666345417576210432  0                      0                    2015-11-16 20:01:42  Twitter for iPhone  Look at this jokester thinking seat belt laws don't apply to him. Great tongue tho 10/10 https://t.co/VFKG1vxGjB                                                        https://twitter.com/dog_rates/status/666345417576210432/photo/1                                                                                                                                                                                                  10                10                  None                   4\n",
       "666353288456101888  0                      0                    2015-11-16 20:32:58  Twitter for iPhone  Here we have a mixed Asiago from the Galápagos Islands. Only one ear working. Big fan of marijuana carpet. 8/10 https://t.co/tltQ5w9aUO                                 https://twitter.com/dog_rates/status/666353288456101888/photo/1                                                                                                                                                                                                  8                 10                  None                   4\n",
       "666362758909284353  0                      0                    2015-11-16 21:10:36  Twitter for iPhone  Unique dog here. Very small. Lives in container of Frosted Flakes (?). Short legs. Must be rare 6/10 would still pet https://t.co/XMD9CwjEnM                            https://twitter.com/dog_rates/status/666362758909284353/photo/1                                                                                                                                                                                                  6                 10                  None                   4\n",
       "666373753744588802  0                      0                    2015-11-16 21:54:18  Twitter for iPhone  Those are sunglasses and a jean jacket. 11/10 dog cool af https://t.co/uHXrPkUEyl                                                                                       https://twitter.com/dog_rates/status/666373753744588802/photo/1                                                                                                                                                                                                  11                10                  None                   4\n",
       "666396247373291520  0                      0                    2015-11-16 23:23:41  Twitter for iPhone  Oh goodness. A super rare northeast Qdoba kangaroo mix. Massive feet. No pouch (disappointing). Seems alert. 9/10 https://t.co/Dc7b0E8qFE                               https://twitter.com/dog_rates/status/666396247373291520/photo/1                                                                                                                                                                                                  9                 10                  None                   4\n",
       "666407126856765440  0                      0                    2015-11-17 00:06:54  Twitter for iPhone  This is a southern Vesuvius bumblegruff. Can drive a truck (wow). Made friends with 5 other nifty dogs (neat). 7/10 https://t.co/LopTBkKa8h                             https://twitter.com/dog_rates/status/666407126856765440/photo/1                                                                                                                                                                                                  7                 10                  None                   4\n",
       "666411507551481857  0                      0                    2015-11-17 00:24:19  Twitter for iPhone  This is quite the dog. Gets really excited when not in water. Not very soft tho. Bad at fetch. Can't do tricks. 2/10 https://t.co/aMCTNWO94t                            https://twitter.com/dog_rates/status/666411507551481857/photo/1                                                                                                                                                                                                  2                 10                  None                   4\n",
       "                                                                                                                                                                                                                                                                                                                                                                                                                                                                                                                                                                                                              ..\n",
       "886736880519319552  0                      0                    2017-07-16 23:58:41  Twitter for iPhone  This is Mingus. He's a wonderful father to his smol pup. Confirmed 13/10, but he needs your help\\n\\nhttps://t.co/bVi0Yr4Cff https://t.co/ISvKOSkd5b                     https://www.gofundme.com/mingusneedsus,https://twitter.com/dog_rates/status/886736880519319552/photo/1,https://twitter.com/dog_rates/status/886736880519319552/photo/1                                                                                           13                10                  Mingus                 4\n",
       "886983233522544640  0                      0                    2017-07-17 16:17:36  Twitter for iPhone  This is Maya. She's very shy. Rarely leaves her cup. 13/10 would find her an environment to thrive in https://t.co/I6oNy0CgiT                                           https://twitter.com/dog_rates/status/886983233522544640/photo/1,https://twitter.com/dog_rates/status/886983233522544640/photo/1                                                                                                                                  13                10                  Maya                   4\n",
       "887101392804085760  0                      0                    2017-07-18 00:07:08  Twitter for iPhone  This... is a Jubilant Antarctic House Bear. We only rate dogs. Please only send dogs. Thank you... 12/10 would suffocate in floof https://t.co/4Ad1jzJSdp               https://twitter.com/dog_rates/status/887101392804085760/photo/1                                                                                                                                                                                                  12                10                  None                   4\n",
       "887343217045368832  0                      0                    2017-07-18 16:08:03  Twitter for iPhone  You may not have known you needed to see this today. 13/10 please enjoy (IG: emmylouroo) https://t.co/WZqNqygEyV                                                        https://twitter.com/dog_rates/status/887343217045368832/video/1                                                                                                                                                                                                  13                10                  None                   4\n",
       "887473957103951883  0                      0                    2017-07-19 00:47:34  Twitter for iPhone  This is Canela. She attempted some fancy porch pics. They were unsuccessful. 13/10 someone help her https://t.co/cLyzpcUcMX                                             https://twitter.com/dog_rates/status/887473957103951883/photo/1,https://twitter.com/dog_rates/status/887473957103951883/photo/1                                                                                                                                  13                10                  Canela                 4\n",
       "887517139158093824  0                      0                    2017-07-19 03:39:09  Twitter for iPhone  I've yet to rate a Venezuelan Hover Wiener. This is such an honor. 14/10 paw-inspiring af (IG: roxy.thedoxy) https://t.co/20VrLAA8ba                                    https://twitter.com/dog_rates/status/887517139158093824/video/1                                                                                                                                                                                                  14                10                  None                   4\n",
       "887705289381826560  0                      0                    2017-07-19 16:06:48  Twitter for iPhone  This is Jeffrey. He has a monopoly on the pool noodles. Currently running a 'boop for two' midweek sale. 13/10 h*ckin strategic https://t.co/PhrUk20Q64                 https://twitter.com/dog_rates/status/887705289381826560/photo/1                                                                                                                                                                                                  13                10                  Jeffrey                4\n",
       "888078434458587136  0                      0                    2017-07-20 16:49:33  Twitter for iPhone  This is Gerald. He was just told he didn't get the job he interviewed for. A h*ckin injustice. 12/10 didn't want the job anyway https://t.co/DK7iDPfuRX                 https://twitter.com/dog_rates/status/888078434458587136/photo/1,https://twitter.com/dog_rates/status/888078434458587136/photo/1                                                                                                                                  12                10                  Gerald                 4\n",
       "888554962724278272  0                      0                    2017-07-22 00:23:06  Twitter for iPhone  This is Ralphus. He's powering up. Attempting maximum borkdrive. 13/10 inspirational af https://t.co/YnYAFCTTiK                                                         https://twitter.com/dog_rates/status/888554962724278272/photo/1,https://twitter.com/dog_rates/status/888554962724278272/photo/1,https://twitter.com/dog_rates/status/888554962724278272/photo/1,https://twitter.com/dog_rates/status/888554962724278272/photo/1  13                10                  Ralphus                4\n",
       "888804989199671297  0                      0                    2017-07-22 16:56:37  Twitter for iPhone  This is Zeke. He has a new stick. Very proud of it. Would like you to throw it for him without taking it. 13/10 would do my best https://t.co/HTQ77yNQ5K                https://twitter.com/dog_rates/status/888804989199671297/photo/1,https://twitter.com/dog_rates/status/888804989199671297/photo/1                                                                                                                                  13                10                  Zeke                   4\n",
       "888917238123831296  0                      0                    2017-07-23 00:22:39  Twitter for iPhone  This is Jim. He found a fren. Taught him how to sit like the good boys. 12/10 for both https://t.co/chxruIOUJN                                                          https://twitter.com/dog_rates/status/888917238123831296/photo/1                                                                                                                                                                                                  12                10                  Jim                    4\n",
       "889278841981685760  0                      0                    2017-07-24 00:19:32  Twitter for iPhone  This is Oliver. You're witnessing one of his many brutal attacks. Seems to be playing with his victim. 13/10 fr*ckin frightening #BarkWeek https://t.co/WpHvrQedPb      https://twitter.com/dog_rates/status/889278841981685760/video/1                                                                                                                                                                                                  13                10                  Oliver                 4\n",
       "889531135344209921  0                      0                    2017-07-24 17:02:04  Twitter for iPhone  This is Stuart. He's sporting his favorite fanny pack. Secretly filled with bones only. 13/10 puppared puppo #BarkWeek https://t.co/y70o6h3isq                          https://twitter.com/dog_rates/status/889531135344209921/photo/1                                                                                                                                                                                                  13                10                  Stuart                 3\n",
       "                                                                                                                                                                                                                                                                                                                                                                                                                                                                                                                                                                                                  puppo        1\n",
       "889638837579907072  0                      0                    2017-07-25 00:10:02  Twitter for iPhone  This is Ted. He does his best. Sometimes that's not enough. But it's ok. 12/10 would assist https://t.co/f8dEDcrKSR                                                     https://twitter.com/dog_rates/status/889638837579907072/photo/1,https://twitter.com/dog_rates/status/889638837579907072/photo/1                                                                                                                                  12                10                  Ted                    4\n",
       "889665388333682689  0                      0                    2017-07-25 01:55:32  Twitter for iPhone  Here's a puppo that seems to be on the fence about something haha no but seriously someone help her. 13/10 https://t.co/BxvuXk0UCm                                      https://twitter.com/dog_rates/status/889665388333682689/photo/1                                                                                                                                                                                                  13                10                  None                   3\n",
       "                                                                                                                                                                                                                                                                                                                                                                                                                                                                                                                                                                                                  puppo        1\n",
       "889880896479866881  0                      0                    2017-07-25 16:11:53  Twitter for iPhone  This is Bruno. He is a service shark. Only gets out of the water to assist you. 13/10 terrifyingly good boy https://t.co/u1XPQMl29g                                     https://twitter.com/dog_rates/status/889880896479866881/photo/1                                                                                                                                                                                                  13                10                  Bruno                  4\n",
       "890006608113172480  0                      0                    2017-07-26 00:31:25  Twitter for iPhone  This is Koda. He is a South Australian deckshark. Deceptively deadly. Frighteningly majestic. 13/10 would risk a petting #BarkWeek https://t.co/dVPW0B0Mme              https://twitter.com/dog_rates/status/890006608113172480/photo/1,https://twitter.com/dog_rates/status/890006608113172480/photo/1                                                                                                                                  13                10                  Koda                   4\n",
       "890240255349198849  0                      0                    2017-07-26 15:59:51  Twitter for iPhone  This is Cassie. She is a college pup. Studying international doggo communication and stick theory. 14/10 so elegant much sophisticate https://t.co/t1bfwz5S2A           https://twitter.com/dog_rates/status/890240255349198849/photo/1                                                                                                                                                                                                  14                10                  Cassie                 3\n",
       "                                                                                                                                                                                                                                                                                                                                                                                                                                                                                                                                                                                                  doggo        1\n",
       "890609185150312448  0                      0                    2017-07-27 16:25:51  Twitter for iPhone  This is Zoey. She doesn't want to be one of the scary sharks. Just wants to be a snuggly pettable boatpet. 13/10 #BarkWeek https://t.co/9TwLuAGH0b                      https://twitter.com/dog_rates/status/890609185150312448/photo/1                                                                                                                                                                                                  13                10                  Zoey                   4\n",
       "890729181411237888  0                      0                    2017-07-28 00:22:40  Twitter for iPhone  When you watch your owner call another dog a good boy but then they turn back to you and say you're a great boy. 13/10 https://t.co/v0nONBcwxq                          https://twitter.com/dog_rates/status/890729181411237888/photo/1,https://twitter.com/dog_rates/status/890729181411237888/photo/1                                                                                                                                  13                10                  None                   4\n",
       "890971913173991426  0                      0                    2017-07-28 16:27:12  Twitter for iPhone  Meet Jax. He enjoys ice cream so much he gets nervous around it. 13/10 help Jax enjoy more things by clicking below\\n\\nhttps://t.co/Zr4hWfAs1H https://t.co/tVJBRMnhxl  https://gofundme.com/ydvmve-surgery-for-jax,https://twitter.com/dog_rates/status/890971913173991426/photo/1                                                                                                                                                      13                10                  Jax                    4\n",
       "891087950875897856  0                      0                    2017-07-29 00:08:17  Twitter for iPhone  Here we have a majestic great white breaching off South Africa's coast. Absolutely h*ckin breathtaking. 13/10 (IG: tucker_marlo) #BarkWeek https://t.co/kQ04fDDRmh      https://twitter.com/dog_rates/status/891087950875897856/photo/1                                                                                                                                                                                                  13                10                  None                   4\n",
       "891327558926688256  0                      0                    2017-07-29 16:00:24  Twitter for iPhone  This is Franklin. He would like you to stop calling him \"cute.\" He is a very fierce shark and should be respected as such. 12/10 #BarkWeek https://t.co/AtUZn91f7f      https://twitter.com/dog_rates/status/891327558926688256/photo/1,https://twitter.com/dog_rates/status/891327558926688256/photo/1                                                                                                                                  12                10                  Franklin               4\n",
       "891689557279858688  0                      0                    2017-07-30 15:58:51  Twitter for iPhone  This is Darla. She commenced a snooze mid meal. 13/10 happens to the best of us https://t.co/tD36da7qLQ                                                                 https://twitter.com/dog_rates/status/891689557279858688/photo/1                                                                                                                                                                                                  13                10                  Darla                  4\n",
       "891815181378084864  0                      0                    2017-07-31 00:18:03  Twitter for iPhone  This is Archie. He is a rare Norwegian Pouncing Corgo. Lives in the tall grass. You never know when one may strike. 12/10 https://t.co/wUnZnhtVJB                       https://twitter.com/dog_rates/status/891815181378084864/photo/1                                                                                                                                                                                                  12                10                  Archie                 4\n",
       "892177421306343426  0                      0                    2017-08-01 00:17:27  Twitter for iPhone  This is Tilly. She's just checking pup on you. Hopes you're doing ok. If not, she's available for pats, snugs, boops, the whole bit. 13/10 https://t.co/0Xxu71qeIV      https://twitter.com/dog_rates/status/892177421306343426/photo/1                                                                                                                                                                                                  13                10                  Tilly                  4\n",
       "892420643555336193  0                      0                    2017-08-01 16:23:56  Twitter for iPhone  This is Phineas. He's a mystical boy. Only ever appears in the hole of a donut. 13/10 https://t.co/MgUWQ76dJU                                                           https://twitter.com/dog_rates/status/892420643555336193/photo/1                                                                                                                                                                                                  13                10                  Phineas                4\n",
       "Length: 2300, dtype: int64"
      ]
     },
     "execution_count": 61,
     "metadata": {},
     "output_type": "execute_result"
    }
   ],
   "source": [
    "df_arch_clean.groupby(df_arch_clean.columns.tolist(), as_index=False).size()"
   ]
  },
  {
   "cell_type": "code",
   "execution_count": 62,
   "metadata": {},
   "outputs": [],
   "source": [
    "df_arch_clean.drop_duplicates(subset=None, inplace=True)"
   ]
  },
  {
   "cell_type": "code",
   "execution_count": 63,
   "metadata": {},
   "outputs": [
    {
     "name": "stdout",
     "output_type": "stream",
     "text": [
      "<class 'pandas.core.frame.DataFrame'>\n",
      "Int64Index: 2300 entries, 0 to 6795\n",
      "Data columns (total 11 columns):\n",
      "tweet_id                 2300 non-null int64\n",
      "in_reply_to_status_id    2300 non-null int64\n",
      "in_reply_to_user_id      2300 non-null int64\n",
      "timestamp                2300 non-null datetime64[ns]\n",
      "source                   2300 non-null category\n",
      "text                     2300 non-null object\n",
      "expanded_urls            2300 non-null object\n",
      "rating_numerator         2300 non-null int64\n",
      "rating_denominator       2300 non-null int64\n",
      "name                     2300 non-null object\n",
      "dog_stage                2300 non-null object\n",
      "dtypes: category(1), datetime64[ns](1), int64(5), object(4)\n",
      "memory usage: 200.0+ KB\n"
     ]
    }
   ],
   "source": [
    "df_arch_clean.info()"
   ]
  },
  {
   "cell_type": "code",
   "execution_count": 65,
   "metadata": {
    "scrolled": true
   },
   "outputs": [
    {
     "data": {
      "text/plain": [
       "           1994\n",
       "pupper      203\n",
       "doggo        72\n",
       "puppo        23\n",
       "floofer       8\n",
       "Name: dog_stage, dtype: int64"
      ]
     },
     "execution_count": 65,
     "metadata": {},
     "output_type": "execute_result"
    }
   ],
   "source": [
    "pd.value_counts(df_arch_clean['dog_stage'])"
   ]
  },
  {
   "cell_type": "markdown",
   "metadata": {},
   "source": [
    "# Image Prediction"
   ]
  },
  {
   "cell_type": "markdown",
   "metadata": {},
   "source": [
    "#### Define"
   ]
  },
  {
   "cell_type": "code",
   "execution_count": 66,
   "metadata": {},
   "outputs": [
    {
     "data": {
      "text/html": [
       "<div>\n",
       "<style scoped>\n",
       "    .dataframe tbody tr th:only-of-type {\n",
       "        vertical-align: middle;\n",
       "    }\n",
       "\n",
       "    .dataframe tbody tr th {\n",
       "        vertical-align: top;\n",
       "    }\n",
       "\n",
       "    .dataframe thead th {\n",
       "        text-align: right;\n",
       "    }\n",
       "</style>\n",
       "<table border=\"1\" class=\"dataframe\">\n",
       "  <thead>\n",
       "    <tr style=\"text-align: right;\">\n",
       "      <th></th>\n",
       "      <th>tweet_id</th>\n",
       "      <th>jpg_url</th>\n",
       "      <th>img_num</th>\n",
       "      <th>p1</th>\n",
       "      <th>p1_conf</th>\n",
       "      <th>p1_dog</th>\n",
       "      <th>p2</th>\n",
       "      <th>p2_conf</th>\n",
       "      <th>p2_dog</th>\n",
       "      <th>p3</th>\n",
       "      <th>p3_conf</th>\n",
       "      <th>p3_dog</th>\n",
       "    </tr>\n",
       "  </thead>\n",
       "  <tbody>\n",
       "    <tr>\n",
       "      <th>0</th>\n",
       "      <td>666020888022790149</td>\n",
       "      <td>https://pbs.twimg.com/media/CT4udn0WwAA0aMy.jpg</td>\n",
       "      <td>1</td>\n",
       "      <td>Welsh_springer_spaniel</td>\n",
       "      <td>0.465074</td>\n",
       "      <td>True</td>\n",
       "      <td>collie</td>\n",
       "      <td>0.156665</td>\n",
       "      <td>True</td>\n",
       "      <td>Shetland_sheepdog</td>\n",
       "      <td>0.061428</td>\n",
       "      <td>True</td>\n",
       "    </tr>\n",
       "    <tr>\n",
       "      <th>1</th>\n",
       "      <td>666029285002620928</td>\n",
       "      <td>https://pbs.twimg.com/media/CT42GRgUYAA5iDo.jpg</td>\n",
       "      <td>1</td>\n",
       "      <td>redbone</td>\n",
       "      <td>0.506826</td>\n",
       "      <td>True</td>\n",
       "      <td>miniature_pinscher</td>\n",
       "      <td>0.074192</td>\n",
       "      <td>True</td>\n",
       "      <td>Rhodesian_ridgeback</td>\n",
       "      <td>0.072010</td>\n",
       "      <td>True</td>\n",
       "    </tr>\n",
       "    <tr>\n",
       "      <th>2</th>\n",
       "      <td>666033412701032449</td>\n",
       "      <td>https://pbs.twimg.com/media/CT4521TWwAEvMyu.jpg</td>\n",
       "      <td>1</td>\n",
       "      <td>German_shepherd</td>\n",
       "      <td>0.596461</td>\n",
       "      <td>True</td>\n",
       "      <td>malinois</td>\n",
       "      <td>0.138584</td>\n",
       "      <td>True</td>\n",
       "      <td>bloodhound</td>\n",
       "      <td>0.116197</td>\n",
       "      <td>True</td>\n",
       "    </tr>\n",
       "    <tr>\n",
       "      <th>3</th>\n",
       "      <td>666044226329800704</td>\n",
       "      <td>https://pbs.twimg.com/media/CT5Dr8HUEAA-lEu.jpg</td>\n",
       "      <td>1</td>\n",
       "      <td>Rhodesian_ridgeback</td>\n",
       "      <td>0.408143</td>\n",
       "      <td>True</td>\n",
       "      <td>redbone</td>\n",
       "      <td>0.360687</td>\n",
       "      <td>True</td>\n",
       "      <td>miniature_pinscher</td>\n",
       "      <td>0.222752</td>\n",
       "      <td>True</td>\n",
       "    </tr>\n",
       "    <tr>\n",
       "      <th>4</th>\n",
       "      <td>666049248165822465</td>\n",
       "      <td>https://pbs.twimg.com/media/CT5IQmsXIAAKY4A.jpg</td>\n",
       "      <td>1</td>\n",
       "      <td>miniature_pinscher</td>\n",
       "      <td>0.560311</td>\n",
       "      <td>True</td>\n",
       "      <td>Rottweiler</td>\n",
       "      <td>0.243682</td>\n",
       "      <td>True</td>\n",
       "      <td>Doberman</td>\n",
       "      <td>0.154629</td>\n",
       "      <td>True</td>\n",
       "    </tr>\n",
       "  </tbody>\n",
       "</table>\n",
       "</div>"
      ],
      "text/plain": [
       "             tweet_id                                          jpg_url  \\\n",
       "0  666020888022790149  https://pbs.twimg.com/media/CT4udn0WwAA0aMy.jpg   \n",
       "1  666029285002620928  https://pbs.twimg.com/media/CT42GRgUYAA5iDo.jpg   \n",
       "2  666033412701032449  https://pbs.twimg.com/media/CT4521TWwAEvMyu.jpg   \n",
       "3  666044226329800704  https://pbs.twimg.com/media/CT5Dr8HUEAA-lEu.jpg   \n",
       "4  666049248165822465  https://pbs.twimg.com/media/CT5IQmsXIAAKY4A.jpg   \n",
       "\n",
       "   img_num                      p1   p1_conf  p1_dog                  p2  \\\n",
       "0        1  Welsh_springer_spaniel  0.465074    True              collie   \n",
       "1        1                 redbone  0.506826    True  miniature_pinscher   \n",
       "2        1         German_shepherd  0.596461    True            malinois   \n",
       "3        1     Rhodesian_ridgeback  0.408143    True             redbone   \n",
       "4        1      miniature_pinscher  0.560311    True          Rottweiler   \n",
       "\n",
       "    p2_conf  p2_dog                   p3   p3_conf  p3_dog  \n",
       "0  0.156665    True    Shetland_sheepdog  0.061428    True  \n",
       "1  0.074192    True  Rhodesian_ridgeback  0.072010    True  \n",
       "2  0.138584    True           bloodhound  0.116197    True  \n",
       "3  0.360687    True   miniature_pinscher  0.222752    True  \n",
       "4  0.243682    True             Doberman  0.154629    True  "
      ]
     },
     "execution_count": 66,
     "metadata": {},
     "output_type": "execute_result"
    }
   ],
   "source": [
    "df_image.head()"
   ]
  },
  {
   "cell_type": "markdown",
   "metadata": {},
   "source": [
    "#### Capitalizing the first letters in p1, p2, p3 columns of the image prediction"
   ]
  },
  {
   "cell_type": "code",
   "execution_count": 67,
   "metadata": {},
   "outputs": [],
   "source": [
    "df_image.p1 = df_image.p1.str.capitalize()"
   ]
  },
  {
   "cell_type": "code",
   "execution_count": 68,
   "metadata": {},
   "outputs": [],
   "source": [
    "df_image.p2 = df_image.p2.str.capitalize()"
   ]
  },
  {
   "cell_type": "code",
   "execution_count": 69,
   "metadata": {},
   "outputs": [],
   "source": [
    "df_image.p3 = df_image.p3.str.capitalize()"
   ]
  },
  {
   "cell_type": "markdown",
   "metadata": {},
   "source": [
    "#### Test"
   ]
  },
  {
   "cell_type": "code",
   "execution_count": 70,
   "metadata": {},
   "outputs": [
    {
     "data": {
      "text/html": [
       "<div>\n",
       "<style scoped>\n",
       "    .dataframe tbody tr th:only-of-type {\n",
       "        vertical-align: middle;\n",
       "    }\n",
       "\n",
       "    .dataframe tbody tr th {\n",
       "        vertical-align: top;\n",
       "    }\n",
       "\n",
       "    .dataframe thead th {\n",
       "        text-align: right;\n",
       "    }\n",
       "</style>\n",
       "<table border=\"1\" class=\"dataframe\">\n",
       "  <thead>\n",
       "    <tr style=\"text-align: right;\">\n",
       "      <th></th>\n",
       "      <th>tweet_id</th>\n",
       "      <th>jpg_url</th>\n",
       "      <th>img_num</th>\n",
       "      <th>p1</th>\n",
       "      <th>p1_conf</th>\n",
       "      <th>p1_dog</th>\n",
       "      <th>p2</th>\n",
       "      <th>p2_conf</th>\n",
       "      <th>p2_dog</th>\n",
       "      <th>p3</th>\n",
       "      <th>p3_conf</th>\n",
       "      <th>p3_dog</th>\n",
       "    </tr>\n",
       "  </thead>\n",
       "  <tbody>\n",
       "    <tr>\n",
       "      <th>0</th>\n",
       "      <td>666020888022790149</td>\n",
       "      <td>https://pbs.twimg.com/media/CT4udn0WwAA0aMy.jpg</td>\n",
       "      <td>1</td>\n",
       "      <td>Welsh_springer_spaniel</td>\n",
       "      <td>0.465074</td>\n",
       "      <td>True</td>\n",
       "      <td>Collie</td>\n",
       "      <td>0.156665</td>\n",
       "      <td>True</td>\n",
       "      <td>Shetland_sheepdog</td>\n",
       "      <td>0.061428</td>\n",
       "      <td>True</td>\n",
       "    </tr>\n",
       "    <tr>\n",
       "      <th>1</th>\n",
       "      <td>666029285002620928</td>\n",
       "      <td>https://pbs.twimg.com/media/CT42GRgUYAA5iDo.jpg</td>\n",
       "      <td>1</td>\n",
       "      <td>Redbone</td>\n",
       "      <td>0.506826</td>\n",
       "      <td>True</td>\n",
       "      <td>Miniature_pinscher</td>\n",
       "      <td>0.074192</td>\n",
       "      <td>True</td>\n",
       "      <td>Rhodesian_ridgeback</td>\n",
       "      <td>0.072010</td>\n",
       "      <td>True</td>\n",
       "    </tr>\n",
       "    <tr>\n",
       "      <th>2</th>\n",
       "      <td>666033412701032449</td>\n",
       "      <td>https://pbs.twimg.com/media/CT4521TWwAEvMyu.jpg</td>\n",
       "      <td>1</td>\n",
       "      <td>German_shepherd</td>\n",
       "      <td>0.596461</td>\n",
       "      <td>True</td>\n",
       "      <td>Malinois</td>\n",
       "      <td>0.138584</td>\n",
       "      <td>True</td>\n",
       "      <td>Bloodhound</td>\n",
       "      <td>0.116197</td>\n",
       "      <td>True</td>\n",
       "    </tr>\n",
       "    <tr>\n",
       "      <th>3</th>\n",
       "      <td>666044226329800704</td>\n",
       "      <td>https://pbs.twimg.com/media/CT5Dr8HUEAA-lEu.jpg</td>\n",
       "      <td>1</td>\n",
       "      <td>Rhodesian_ridgeback</td>\n",
       "      <td>0.408143</td>\n",
       "      <td>True</td>\n",
       "      <td>Redbone</td>\n",
       "      <td>0.360687</td>\n",
       "      <td>True</td>\n",
       "      <td>Miniature_pinscher</td>\n",
       "      <td>0.222752</td>\n",
       "      <td>True</td>\n",
       "    </tr>\n",
       "    <tr>\n",
       "      <th>4</th>\n",
       "      <td>666049248165822465</td>\n",
       "      <td>https://pbs.twimg.com/media/CT5IQmsXIAAKY4A.jpg</td>\n",
       "      <td>1</td>\n",
       "      <td>Miniature_pinscher</td>\n",
       "      <td>0.560311</td>\n",
       "      <td>True</td>\n",
       "      <td>Rottweiler</td>\n",
       "      <td>0.243682</td>\n",
       "      <td>True</td>\n",
       "      <td>Doberman</td>\n",
       "      <td>0.154629</td>\n",
       "      <td>True</td>\n",
       "    </tr>\n",
       "  </tbody>\n",
       "</table>\n",
       "</div>"
      ],
      "text/plain": [
       "             tweet_id                                          jpg_url  \\\n",
       "0  666020888022790149  https://pbs.twimg.com/media/CT4udn0WwAA0aMy.jpg   \n",
       "1  666029285002620928  https://pbs.twimg.com/media/CT42GRgUYAA5iDo.jpg   \n",
       "2  666033412701032449  https://pbs.twimg.com/media/CT4521TWwAEvMyu.jpg   \n",
       "3  666044226329800704  https://pbs.twimg.com/media/CT5Dr8HUEAA-lEu.jpg   \n",
       "4  666049248165822465  https://pbs.twimg.com/media/CT5IQmsXIAAKY4A.jpg   \n",
       "\n",
       "   img_num                      p1   p1_conf  p1_dog                  p2  \\\n",
       "0        1  Welsh_springer_spaniel  0.465074    True              Collie   \n",
       "1        1                 Redbone  0.506826    True  Miniature_pinscher   \n",
       "2        1         German_shepherd  0.596461    True            Malinois   \n",
       "3        1     Rhodesian_ridgeback  0.408143    True             Redbone   \n",
       "4        1      Miniature_pinscher  0.560311    True          Rottweiler   \n",
       "\n",
       "    p2_conf  p2_dog                   p3   p3_conf  p3_dog  \n",
       "0  0.156665    True    Shetland_sheepdog  0.061428    True  \n",
       "1  0.074192    True  Rhodesian_ridgeback  0.072010    True  \n",
       "2  0.138584    True           Bloodhound  0.116197    True  \n",
       "3  0.360687    True   Miniature_pinscher  0.222752    True  \n",
       "4  0.243682    True             Doberman  0.154629    True  "
      ]
     },
     "execution_count": 70,
     "metadata": {},
     "output_type": "execute_result"
    }
   ],
   "source": [
    "df_image.head()"
   ]
  },
  {
   "cell_type": "markdown",
   "metadata": {},
   "source": [
    "### Tweeter api Tweet, Retweet and Favorite Counts"
   ]
  },
  {
   "cell_type": "markdown",
   "metadata": {},
   "source": [
    "#### Define"
   ]
  },
  {
   "cell_type": "code",
   "execution_count": 71,
   "metadata": {},
   "outputs": [
    {
     "data": {
      "text/html": [
       "<div>\n",
       "<style scoped>\n",
       "    .dataframe tbody tr th:only-of-type {\n",
       "        vertical-align: middle;\n",
       "    }\n",
       "\n",
       "    .dataframe tbody tr th {\n",
       "        vertical-align: top;\n",
       "    }\n",
       "\n",
       "    .dataframe thead th {\n",
       "        text-align: right;\n",
       "    }\n",
       "</style>\n",
       "<table border=\"1\" class=\"dataframe\">\n",
       "  <thead>\n",
       "    <tr style=\"text-align: right;\">\n",
       "      <th></th>\n",
       "      <th>tweet_id</th>\n",
       "      <th>retweet_count</th>\n",
       "      <th>favorite_count</th>\n",
       "    </tr>\n",
       "  </thead>\n",
       "  <tbody>\n",
       "    <tr>\n",
       "      <th>0</th>\n",
       "      <td>892420643555336193</td>\n",
       "      <td>8853</td>\n",
       "      <td>39467</td>\n",
       "    </tr>\n",
       "    <tr>\n",
       "      <th>1</th>\n",
       "      <td>892177421306343426</td>\n",
       "      <td>6514</td>\n",
       "      <td>33819</td>\n",
       "    </tr>\n",
       "    <tr>\n",
       "      <th>2</th>\n",
       "      <td>891815181378084864</td>\n",
       "      <td>4328</td>\n",
       "      <td>25461</td>\n",
       "    </tr>\n",
       "    <tr>\n",
       "      <th>3</th>\n",
       "      <td>891689557279858688</td>\n",
       "      <td>8964</td>\n",
       "      <td>42908</td>\n",
       "    </tr>\n",
       "    <tr>\n",
       "      <th>4</th>\n",
       "      <td>891327558926688256</td>\n",
       "      <td>9774</td>\n",
       "      <td>41048</td>\n",
       "    </tr>\n",
       "  </tbody>\n",
       "</table>\n",
       "</div>"
      ],
      "text/plain": [
       "             tweet_id  retweet_count  favorite_count\n",
       "0  892420643555336193           8853           39467\n",
       "1  892177421306343426           6514           33819\n",
       "2  891815181378084864           4328           25461\n",
       "3  891689557279858688           8964           42908\n",
       "4  891327558926688256           9774           41048"
      ]
     },
     "execution_count": 71,
     "metadata": {},
     "output_type": "execute_result"
    }
   ],
   "source": [
    "df_tweet_api.head()"
   ]
  },
  {
   "cell_type": "markdown",
   "metadata": {},
   "source": [
    "#### Changing the tweet_id of the three Dataframe from integer to string for easy merging  "
   ]
  },
  {
   "cell_type": "code",
   "execution_count": 72,
   "metadata": {},
   "outputs": [],
   "source": [
    "df_image.tweet_id = df_image.tweet_id.astype('str')\n",
    "df_tweet_api.tweet_id = df_tweet_api.tweet_id.astype('str')\n",
    "df_arch_clean.tweet_id = df_arch_clean.tweet_id.astype('str')"
   ]
  },
  {
   "cell_type": "markdown",
   "metadata": {},
   "source": [
    "### Test"
   ]
  },
  {
   "cell_type": "code",
   "execution_count": 73,
   "metadata": {},
   "outputs": [
    {
     "data": {
      "text/plain": [
       "str"
      ]
     },
     "execution_count": 73,
     "metadata": {},
     "output_type": "execute_result"
    }
   ],
   "source": [
    "# Testing if they all change\n",
    "type(df_image['tweet_id'].iloc[0])\n",
    "type(df_tweet_api['tweet_id'].iloc[0])\n",
    "type(df_arch_clean['tweet_id'].iloc[0])"
   ]
  },
  {
   "cell_type": "markdown",
   "metadata": {},
   "source": [
    "## Merging the DataSet"
   ]
  },
  {
   "cell_type": "markdown",
   "metadata": {},
   "source": [
    "#### Define\n",
    "Combining the three  Dataset together for further analysis"
   ]
  },
  {
   "cell_type": "markdown",
   "metadata": {},
   "source": [
    "#### Code"
   ]
  },
  {
   "cell_type": "code",
   "execution_count": 74,
   "metadata": {},
   "outputs": [],
   "source": [
    "merge_df = pd.merge(df_arch_clean,df_image, on=['tweet_id'], how = 'inner')\n",
    "merge_df = pd.merge(merge_df, df_tweet_api, on = ['tweet_id'], how = 'inner')"
   ]
  },
  {
   "cell_type": "code",
   "execution_count": 75,
   "metadata": {
    "scrolled": false
   },
   "outputs": [
    {
     "data": {
      "text/html": [
       "<div>\n",
       "<style scoped>\n",
       "    .dataframe tbody tr th:only-of-type {\n",
       "        vertical-align: middle;\n",
       "    }\n",
       "\n",
       "    .dataframe tbody tr th {\n",
       "        vertical-align: top;\n",
       "    }\n",
       "\n",
       "    .dataframe thead th {\n",
       "        text-align: right;\n",
       "    }\n",
       "</style>\n",
       "<table border=\"1\" class=\"dataframe\">\n",
       "  <thead>\n",
       "    <tr style=\"text-align: right;\">\n",
       "      <th></th>\n",
       "      <th>tweet_id</th>\n",
       "      <th>in_reply_to_status_id</th>\n",
       "      <th>in_reply_to_user_id</th>\n",
       "      <th>timestamp</th>\n",
       "      <th>source</th>\n",
       "      <th>text</th>\n",
       "      <th>expanded_urls</th>\n",
       "      <th>rating_numerator</th>\n",
       "      <th>rating_denominator</th>\n",
       "      <th>name</th>\n",
       "      <th>...</th>\n",
       "      <th>p1_conf</th>\n",
       "      <th>p1_dog</th>\n",
       "      <th>p2</th>\n",
       "      <th>p2_conf</th>\n",
       "      <th>p2_dog</th>\n",
       "      <th>p3</th>\n",
       "      <th>p3_conf</th>\n",
       "      <th>p3_dog</th>\n",
       "      <th>retweet_count</th>\n",
       "      <th>favorite_count</th>\n",
       "    </tr>\n",
       "  </thead>\n",
       "  <tbody>\n",
       "    <tr>\n",
       "      <th>439</th>\n",
       "      <td>813096984823349248</td>\n",
       "      <td>0</td>\n",
       "      <td>0</td>\n",
       "      <td>2016-12-25 19:00:02</td>\n",
       "      <td>Twitter for iPhone</td>\n",
       "      <td>This is Rocky. He got triple-doggo-dared. Stuc...</td>\n",
       "      <td>https://twitter.com/dog_rates/status/813096984...</td>\n",
       "      <td>11</td>\n",
       "      <td>10</td>\n",
       "      <td>Rocky</td>\n",
       "      <td>...</td>\n",
       "      <td>0.128056</td>\n",
       "      <td>True</td>\n",
       "      <td>Boston_bull</td>\n",
       "      <td>0.117003</td>\n",
       "      <td>True</td>\n",
       "      <td>Kelpie</td>\n",
       "      <td>0.086964</td>\n",
       "      <td>True</td>\n",
       "      <td>4207</td>\n",
       "      <td>11694</td>\n",
       "    </tr>\n",
       "    <tr>\n",
       "      <th>1081</th>\n",
       "      <td>718454725339934721</td>\n",
       "      <td>0</td>\n",
       "      <td>0</td>\n",
       "      <td>2016-04-08 15:05:29</td>\n",
       "      <td>Twitter for iPhone</td>\n",
       "      <td>This pic is old but I hadn't seen it until tod...</td>\n",
       "      <td>https://twitter.com/dog_rates/status/718454725...</td>\n",
       "      <td>13</td>\n",
       "      <td>10</td>\n",
       "      <td>None</td>\n",
       "      <td>...</td>\n",
       "      <td>0.169865</td>\n",
       "      <td>False</td>\n",
       "      <td>Hatchet</td>\n",
       "      <td>0.115744</td>\n",
       "      <td>False</td>\n",
       "      <td>Chime</td>\n",
       "      <td>0.068092</td>\n",
       "      <td>False</td>\n",
       "      <td>1685</td>\n",
       "      <td>5320</td>\n",
       "    </tr>\n",
       "  </tbody>\n",
       "</table>\n",
       "<p>2 rows × 24 columns</p>\n",
       "</div>"
      ],
      "text/plain": [
       "                tweet_id  in_reply_to_status_id  in_reply_to_user_id  \\\n",
       "439   813096984823349248                      0                    0   \n",
       "1081  718454725339934721                      0                    0   \n",
       "\n",
       "               timestamp              source  \\\n",
       "439  2016-12-25 19:00:02  Twitter for iPhone   \n",
       "1081 2016-04-08 15:05:29  Twitter for iPhone   \n",
       "\n",
       "                                                   text  \\\n",
       "439   This is Rocky. He got triple-doggo-dared. Stuc...   \n",
       "1081  This pic is old but I hadn't seen it until tod...   \n",
       "\n",
       "                                          expanded_urls  rating_numerator  \\\n",
       "439   https://twitter.com/dog_rates/status/813096984...                11   \n",
       "1081  https://twitter.com/dog_rates/status/718454725...                13   \n",
       "\n",
       "      rating_denominator   name      ...         p1_conf p1_dog           p2  \\\n",
       "439                   10  Rocky      ...        0.128056   True  Boston_bull   \n",
       "1081                  10   None      ...        0.169865  False      Hatchet   \n",
       "\n",
       "       p2_conf  p2_dog      p3   p3_conf  p3_dog  retweet_count favorite_count  \n",
       "439   0.117003    True  Kelpie  0.086964    True           4207          11694  \n",
       "1081  0.115744   False   Chime  0.068092   False           1685           5320  \n",
       "\n",
       "[2 rows x 24 columns]"
      ]
     },
     "execution_count": 75,
     "metadata": {},
     "output_type": "execute_result"
    }
   ],
   "source": [
    "merge_df.sample(2)"
   ]
  },
  {
   "cell_type": "markdown",
   "metadata": {},
   "source": [
    "## Storing Data\n",
    "Save gathered, assessed, and cleaned master dataset to a CSV file named \"twitter_archive_master.csv\"."
   ]
  },
  {
   "cell_type": "code",
   "execution_count": null,
   "metadata": {},
   "outputs": [],
   "source": [
    "merge_df.to_csv(\"twitter_archive_master.csv\")"
   ]
  },
  {
   "cell_type": "code",
   "execution_count": 3,
   "metadata": {},
   "outputs": [],
   "source": [
    "master_df = pd.read_csv(\"twitter_archive_master.csv\")"
   ]
  },
  {
   "cell_type": "code",
   "execution_count": 4,
   "metadata": {},
   "outputs": [
    {
     "data": {
      "text/html": [
       "<div>\n",
       "<style scoped>\n",
       "    .dataframe tbody tr th:only-of-type {\n",
       "        vertical-align: middle;\n",
       "    }\n",
       "\n",
       "    .dataframe tbody tr th {\n",
       "        vertical-align: top;\n",
       "    }\n",
       "\n",
       "    .dataframe thead th {\n",
       "        text-align: right;\n",
       "    }\n",
       "</style>\n",
       "<table border=\"1\" class=\"dataframe\">\n",
       "  <thead>\n",
       "    <tr style=\"text-align: right;\">\n",
       "      <th></th>\n",
       "      <th>Unnamed: 0</th>\n",
       "      <th>tweet_id</th>\n",
       "      <th>in_reply_to_status_id</th>\n",
       "      <th>in_reply_to_user_id</th>\n",
       "      <th>timestamp</th>\n",
       "      <th>source</th>\n",
       "      <th>text</th>\n",
       "      <th>expanded_urls</th>\n",
       "      <th>rating_numerator</th>\n",
       "      <th>rating_denominator</th>\n",
       "      <th>...</th>\n",
       "      <th>p1_conf</th>\n",
       "      <th>p1_dog</th>\n",
       "      <th>p2</th>\n",
       "      <th>p2_conf</th>\n",
       "      <th>p2_dog</th>\n",
       "      <th>p3</th>\n",
       "      <th>p3_conf</th>\n",
       "      <th>p3_dog</th>\n",
       "      <th>retweet_count</th>\n",
       "      <th>favorite_count</th>\n",
       "    </tr>\n",
       "  </thead>\n",
       "  <tbody>\n",
       "    <tr>\n",
       "      <th>0</th>\n",
       "      <td>0</td>\n",
       "      <td>892420643555336193</td>\n",
       "      <td>0</td>\n",
       "      <td>0</td>\n",
       "      <td>2017-08-01 16:23:56</td>\n",
       "      <td>Twitter for iPhone</td>\n",
       "      <td>This is Phineas. He's a mystical boy. Only eve...</td>\n",
       "      <td>https://twitter.com/dog_rates/status/892420643...</td>\n",
       "      <td>13</td>\n",
       "      <td>10</td>\n",
       "      <td>...</td>\n",
       "      <td>0.097049</td>\n",
       "      <td>False</td>\n",
       "      <td>Bagel</td>\n",
       "      <td>0.085851</td>\n",
       "      <td>False</td>\n",
       "      <td>Banana</td>\n",
       "      <td>0.076110</td>\n",
       "      <td>False</td>\n",
       "      <td>8853</td>\n",
       "      <td>39467</td>\n",
       "    </tr>\n",
       "    <tr>\n",
       "      <th>1</th>\n",
       "      <td>1</td>\n",
       "      <td>892177421306343426</td>\n",
       "      <td>0</td>\n",
       "      <td>0</td>\n",
       "      <td>2017-08-01 00:17:27</td>\n",
       "      <td>Twitter for iPhone</td>\n",
       "      <td>This is Tilly. She's just checking pup on you....</td>\n",
       "      <td>https://twitter.com/dog_rates/status/892177421...</td>\n",
       "      <td>13</td>\n",
       "      <td>10</td>\n",
       "      <td>...</td>\n",
       "      <td>0.323581</td>\n",
       "      <td>True</td>\n",
       "      <td>Pekinese</td>\n",
       "      <td>0.090647</td>\n",
       "      <td>True</td>\n",
       "      <td>Papillon</td>\n",
       "      <td>0.068957</td>\n",
       "      <td>True</td>\n",
       "      <td>6514</td>\n",
       "      <td>33819</td>\n",
       "    </tr>\n",
       "  </tbody>\n",
       "</table>\n",
       "<p>2 rows × 25 columns</p>\n",
       "</div>"
      ],
      "text/plain": [
       "   Unnamed: 0            tweet_id  in_reply_to_status_id  in_reply_to_user_id  \\\n",
       "0           0  892420643555336193                      0                    0   \n",
       "1           1  892177421306343426                      0                    0   \n",
       "\n",
       "             timestamp              source  \\\n",
       "0  2017-08-01 16:23:56  Twitter for iPhone   \n",
       "1  2017-08-01 00:17:27  Twitter for iPhone   \n",
       "\n",
       "                                                text  \\\n",
       "0  This is Phineas. He's a mystical boy. Only eve...   \n",
       "1  This is Tilly. She's just checking pup on you....   \n",
       "\n",
       "                                       expanded_urls  rating_numerator  \\\n",
       "0  https://twitter.com/dog_rates/status/892420643...                13   \n",
       "1  https://twitter.com/dog_rates/status/892177421...                13   \n",
       "\n",
       "   rating_denominator       ...         p1_conf p1_dog        p2   p2_conf  \\\n",
       "0                  10       ...        0.097049  False     Bagel  0.085851   \n",
       "1                  10       ...        0.323581   True  Pekinese  0.090647   \n",
       "\n",
       "  p2_dog        p3   p3_conf p3_dog  retweet_count  favorite_count  \n",
       "0  False    Banana  0.076110  False           8853           39467  \n",
       "1   True  Papillon  0.068957   True           6514           33819  \n",
       "\n",
       "[2 rows x 25 columns]"
      ]
     },
     "execution_count": 4,
     "metadata": {},
     "output_type": "execute_result"
    }
   ],
   "source": [
    "master_df.head(2)"
   ]
  },
  {
   "cell_type": "code",
   "execution_count": 5,
   "metadata": {},
   "outputs": [
    {
     "name": "stdout",
     "output_type": "stream",
     "text": [
      "<class 'pandas.core.frame.DataFrame'>\n",
      "RangeIndex: 2300 entries, 0 to 2299\n",
      "Data columns (total 25 columns):\n",
      "Unnamed: 0               2300 non-null int64\n",
      "tweet_id                 2300 non-null int64\n",
      "in_reply_to_status_id    2300 non-null int64\n",
      "in_reply_to_user_id      2300 non-null int64\n",
      "timestamp                2300 non-null object\n",
      "source                   2300 non-null object\n",
      "text                     2300 non-null object\n",
      "expanded_urls            2300 non-null object\n",
      "rating_numerator         2300 non-null int64\n",
      "rating_denominator       2300 non-null int64\n",
      "name                     2300 non-null object\n",
      "dog_stage                306 non-null object\n",
      "jpg_url                  2300 non-null object\n",
      "img_num                  2300 non-null int64\n",
      "p1                       2300 non-null object\n",
      "p1_conf                  2300 non-null float64\n",
      "p1_dog                   2300 non-null bool\n",
      "p2                       2300 non-null object\n",
      "p2_conf                  2300 non-null float64\n",
      "p2_dog                   2300 non-null bool\n",
      "p3                       2300 non-null object\n",
      "p3_conf                  2300 non-null float64\n",
      "p3_dog                   2300 non-null bool\n",
      "retweet_count            2300 non-null int64\n",
      "favorite_count           2300 non-null int64\n",
      "dtypes: bool(3), float64(3), int64(9), object(10)\n",
      "memory usage: 402.1+ KB\n"
     ]
    }
   ],
   "source": [
    "master_df.info()"
   ]
  },
  {
   "cell_type": "code",
   "execution_count": 9,
   "metadata": {},
   "outputs": [],
   "source": [
    "# changing the timestamp to datetime datatype\n",
    "master_df['timestamp'] = pd.to_datetime(master_df.timestamp)"
   ]
  },
  {
   "cell_type": "code",
   "execution_count": 10,
   "metadata": {},
   "outputs": [
    {
     "name": "stdout",
     "output_type": "stream",
     "text": [
      "<class 'pandas.core.frame.DataFrame'>\n",
      "RangeIndex: 2300 entries, 0 to 2299\n",
      "Data columns (total 25 columns):\n",
      "Unnamed: 0               2300 non-null int64\n",
      "tweet_id                 2300 non-null int64\n",
      "in_reply_to_status_id    2300 non-null int64\n",
      "in_reply_to_user_id      2300 non-null int64\n",
      "timestamp                2300 non-null datetime64[ns]\n",
      "source                   2300 non-null object\n",
      "text                     2300 non-null object\n",
      "expanded_urls            2300 non-null object\n",
      "rating_numerator         2300 non-null int64\n",
      "rating_denominator       2300 non-null int64\n",
      "name                     2300 non-null object\n",
      "dog_stage                306 non-null object\n",
      "jpg_url                  2300 non-null object\n",
      "img_num                  2300 non-null int64\n",
      "p1                       2300 non-null object\n",
      "p1_conf                  2300 non-null float64\n",
      "p1_dog                   2300 non-null bool\n",
      "p2                       2300 non-null object\n",
      "p2_conf                  2300 non-null float64\n",
      "p2_dog                   2300 non-null bool\n",
      "p3                       2300 non-null object\n",
      "p3_conf                  2300 non-null float64\n",
      "p3_dog                   2300 non-null bool\n",
      "retweet_count            2300 non-null int64\n",
      "favorite_count           2300 non-null int64\n",
      "dtypes: bool(3), datetime64[ns](1), float64(3), int64(9), object(9)\n",
      "memory usage: 402.1+ KB\n"
     ]
    }
   ],
   "source": [
    "master_df.info()"
   ]
  },
  {
   "cell_type": "markdown",
   "metadata": {},
   "source": []
  },
  {
   "cell_type": "markdown",
   "metadata": {},
   "source": [
    "## Analyzing and Visualizing Data\n",
    "In this section, analyze and visualize your wrangled data. You must produce at least **three (3) insights and one (1) visualization.**"
   ]
  },
  {
   "cell_type": "code",
   "execution_count": 11,
   "metadata": {},
   "outputs": [
    {
     "data": {
      "text/html": [
       "<div>\n",
       "<style scoped>\n",
       "    .dataframe tbody tr th:only-of-type {\n",
       "        vertical-align: middle;\n",
       "    }\n",
       "\n",
       "    .dataframe tbody tr th {\n",
       "        vertical-align: top;\n",
       "    }\n",
       "\n",
       "    .dataframe thead th {\n",
       "        text-align: right;\n",
       "    }\n",
       "</style>\n",
       "<table border=\"1\" class=\"dataframe\">\n",
       "  <thead>\n",
       "    <tr style=\"text-align: right;\">\n",
       "      <th></th>\n",
       "      <th>Unnamed: 0</th>\n",
       "      <th>tweet_id</th>\n",
       "      <th>in_reply_to_status_id</th>\n",
       "      <th>in_reply_to_user_id</th>\n",
       "      <th>timestamp</th>\n",
       "      <th>source</th>\n",
       "      <th>text</th>\n",
       "      <th>expanded_urls</th>\n",
       "      <th>rating_numerator</th>\n",
       "      <th>rating_denominator</th>\n",
       "      <th>...</th>\n",
       "      <th>p1_conf</th>\n",
       "      <th>p1_dog</th>\n",
       "      <th>p2</th>\n",
       "      <th>p2_conf</th>\n",
       "      <th>p2_dog</th>\n",
       "      <th>p3</th>\n",
       "      <th>p3_conf</th>\n",
       "      <th>p3_dog</th>\n",
       "      <th>retweet_count</th>\n",
       "      <th>favorite_count</th>\n",
       "    </tr>\n",
       "  </thead>\n",
       "  <tbody>\n",
       "    <tr>\n",
       "      <th>1031</th>\n",
       "      <td>1031</td>\n",
       "      <td>727286334147182592</td>\n",
       "      <td>0</td>\n",
       "      <td>0</td>\n",
       "      <td>2016-05-02 23:59:09</td>\n",
       "      <td>Twitter for iPhone</td>\n",
       "      <td>I swear to god if we get sent another Blue Mad...</td>\n",
       "      <td>https://twitter.com/dog_rates/status/727286334...</td>\n",
       "      <td>9</td>\n",
       "      <td>10</td>\n",
       "      <td>...</td>\n",
       "      <td>0.14644</td>\n",
       "      <td>False</td>\n",
       "      <td>Sock</td>\n",
       "      <td>0.083091</td>\n",
       "      <td>False</td>\n",
       "      <td>Chihuahua</td>\n",
       "      <td>0.070554</td>\n",
       "      <td>True</td>\n",
       "      <td>920</td>\n",
       "      <td>3324</td>\n",
       "    </tr>\n",
       "  </tbody>\n",
       "</table>\n",
       "<p>1 rows × 25 columns</p>\n",
       "</div>"
      ],
      "text/plain": [
       "      Unnamed: 0            tweet_id  in_reply_to_status_id  \\\n",
       "1031        1031  727286334147182592                      0   \n",
       "\n",
       "      in_reply_to_user_id           timestamp              source  \\\n",
       "1031                    0 2016-05-02 23:59:09  Twitter for iPhone   \n",
       "\n",
       "                                                   text  \\\n",
       "1031  I swear to god if we get sent another Blue Mad...   \n",
       "\n",
       "                                          expanded_urls  rating_numerator  \\\n",
       "1031  https://twitter.com/dog_rates/status/727286334...                 9   \n",
       "\n",
       "      rating_denominator       ...        p1_conf p1_dog    p2   p2_conf  \\\n",
       "1031                  10       ...        0.14644  False  Sock  0.083091   \n",
       "\n",
       "     p2_dog         p3   p3_conf p3_dog  retweet_count  favorite_count  \n",
       "1031  False  Chihuahua  0.070554   True            920            3324  \n",
       "\n",
       "[1 rows x 25 columns]"
      ]
     },
     "execution_count": 11,
     "metadata": {},
     "output_type": "execute_result"
    }
   ],
   "source": [
    "master_df.sample()"
   ]
  },
  {
   "cell_type": "code",
   "execution_count": 6,
   "metadata": {},
   "outputs": [
    {
     "data": {
      "text/html": [
       "<div>\n",
       "<style scoped>\n",
       "    .dataframe tbody tr th:only-of-type {\n",
       "        vertical-align: middle;\n",
       "    }\n",
       "\n",
       "    .dataframe tbody tr th {\n",
       "        vertical-align: top;\n",
       "    }\n",
       "\n",
       "    .dataframe thead th {\n",
       "        text-align: right;\n",
       "    }\n",
       "</style>\n",
       "<table border=\"1\" class=\"dataframe\">\n",
       "  <thead>\n",
       "    <tr style=\"text-align: right;\">\n",
       "      <th></th>\n",
       "      <th>Unnamed: 0</th>\n",
       "      <th>tweet_id</th>\n",
       "      <th>in_reply_to_status_id</th>\n",
       "      <th>in_reply_to_user_id</th>\n",
       "      <th>rating_numerator</th>\n",
       "      <th>rating_denominator</th>\n",
       "      <th>img_num</th>\n",
       "      <th>p1_conf</th>\n",
       "      <th>p2_conf</th>\n",
       "      <th>p3_conf</th>\n",
       "      <th>retweet_count</th>\n",
       "      <th>favorite_count</th>\n",
       "    </tr>\n",
       "  </thead>\n",
       "  <tbody>\n",
       "    <tr>\n",
       "      <th>count</th>\n",
       "      <td>2300.000000</td>\n",
       "      <td>2.300000e+03</td>\n",
       "      <td>2.300000e+03</td>\n",
       "      <td>2.300000e+03</td>\n",
       "      <td>2300.000000</td>\n",
       "      <td>2300.0</td>\n",
       "      <td>2300.000000</td>\n",
       "      <td>2300.000000</td>\n",
       "      <td>2.300000e+03</td>\n",
       "      <td>2.300000e+03</td>\n",
       "      <td>2300.000000</td>\n",
       "      <td>2300.000000</td>\n",
       "    </tr>\n",
       "    <tr>\n",
       "      <th>mean</th>\n",
       "      <td>1149.500000</td>\n",
       "      <td>7.370735e+17</td>\n",
       "      <td>7.894213e+15</td>\n",
       "      <td>4.744417e+07</td>\n",
       "      <td>12.123043</td>\n",
       "      <td>10.0</td>\n",
       "      <td>1.211304</td>\n",
       "      <td>0.596417</td>\n",
       "      <td>1.345902e-01</td>\n",
       "      <td>5.971083e-02</td>\n",
       "      <td>2905.313043</td>\n",
       "      <td>9201.621304</td>\n",
       "    </tr>\n",
       "    <tr>\n",
       "      <th>std</th>\n",
       "      <td>664.097131</td>\n",
       "      <td>6.718904e+16</td>\n",
       "      <td>7.397236e+16</td>\n",
       "      <td>4.437985e+08</td>\n",
       "      <td>38.646242</td>\n",
       "      <td>0.0</td>\n",
       "      <td>0.573181</td>\n",
       "      <td>0.271529</td>\n",
       "      <td>1.014731e-01</td>\n",
       "      <td>5.080269e-02</td>\n",
       "      <td>5145.616946</td>\n",
       "      <td>12891.976251</td>\n",
       "    </tr>\n",
       "    <tr>\n",
       "      <th>min</th>\n",
       "      <td>0.000000</td>\n",
       "      <td>6.660209e+17</td>\n",
       "      <td>0.000000e+00</td>\n",
       "      <td>0.000000e+00</td>\n",
       "      <td>0.000000</td>\n",
       "      <td>10.0</td>\n",
       "      <td>1.000000</td>\n",
       "      <td>0.044333</td>\n",
       "      <td>1.011300e-08</td>\n",
       "      <td>1.740170e-10</td>\n",
       "      <td>16.000000</td>\n",
       "      <td>81.000000</td>\n",
       "    </tr>\n",
       "    <tr>\n",
       "      <th>25%</th>\n",
       "      <td>574.750000</td>\n",
       "      <td>6.769458e+17</td>\n",
       "      <td>0.000000e+00</td>\n",
       "      <td>0.000000e+00</td>\n",
       "      <td>10.000000</td>\n",
       "      <td>10.0</td>\n",
       "      <td>1.000000</td>\n",
       "      <td>0.367913</td>\n",
       "      <td>5.321280e-02</td>\n",
       "      <td>1.595942e-02</td>\n",
       "      <td>664.750000</td>\n",
       "      <td>2146.000000</td>\n",
       "    </tr>\n",
       "    <tr>\n",
       "      <th>50%</th>\n",
       "      <td>1149.500000</td>\n",
       "      <td>7.101170e+17</td>\n",
       "      <td>0.000000e+00</td>\n",
       "      <td>0.000000e+00</td>\n",
       "      <td>11.000000</td>\n",
       "      <td>10.0</td>\n",
       "      <td>1.000000</td>\n",
       "      <td>0.596250</td>\n",
       "      <td>1.165320e-01</td>\n",
       "      <td>4.893965e-02</td>\n",
       "      <td>1406.000000</td>\n",
       "      <td>4236.500000</td>\n",
       "    </tr>\n",
       "    <tr>\n",
       "      <th>75%</th>\n",
       "      <td>1724.250000</td>\n",
       "      <td>7.895480e+17</td>\n",
       "      <td>0.000000e+00</td>\n",
       "      <td>0.000000e+00</td>\n",
       "      <td>12.000000</td>\n",
       "      <td>10.0</td>\n",
       "      <td>1.000000</td>\n",
       "      <td>0.845599</td>\n",
       "      <td>1.954050e-01</td>\n",
       "      <td>9.091715e-02</td>\n",
       "      <td>3265.000000</td>\n",
       "      <td>11506.000000</td>\n",
       "    </tr>\n",
       "    <tr>\n",
       "      <th>max</th>\n",
       "      <td>2299.000000</td>\n",
       "      <td>8.924206e+17</td>\n",
       "      <td>8.558181e+17</td>\n",
       "      <td>4.196984e+09</td>\n",
       "      <td>1776.000000</td>\n",
       "      <td>10.0</td>\n",
       "      <td>4.000000</td>\n",
       "      <td>1.000000</td>\n",
       "      <td>4.880140e-01</td>\n",
       "      <td>2.734190e-01</td>\n",
       "      <td>79515.000000</td>\n",
       "      <td>132810.000000</td>\n",
       "    </tr>\n",
       "  </tbody>\n",
       "</table>\n",
       "</div>"
      ],
      "text/plain": [
       "        Unnamed: 0      tweet_id  in_reply_to_status_id  in_reply_to_user_id  \\\n",
       "count  2300.000000  2.300000e+03           2.300000e+03         2.300000e+03   \n",
       "mean   1149.500000  7.370735e+17           7.894213e+15         4.744417e+07   \n",
       "std     664.097131  6.718904e+16           7.397236e+16         4.437985e+08   \n",
       "min       0.000000  6.660209e+17           0.000000e+00         0.000000e+00   \n",
       "25%     574.750000  6.769458e+17           0.000000e+00         0.000000e+00   \n",
       "50%    1149.500000  7.101170e+17           0.000000e+00         0.000000e+00   \n",
       "75%    1724.250000  7.895480e+17           0.000000e+00         0.000000e+00   \n",
       "max    2299.000000  8.924206e+17           8.558181e+17         4.196984e+09   \n",
       "\n",
       "       rating_numerator  rating_denominator      img_num      p1_conf  \\\n",
       "count       2300.000000              2300.0  2300.000000  2300.000000   \n",
       "mean          12.123043                10.0     1.211304     0.596417   \n",
       "std           38.646242                 0.0     0.573181     0.271529   \n",
       "min            0.000000                10.0     1.000000     0.044333   \n",
       "25%           10.000000                10.0     1.000000     0.367913   \n",
       "50%           11.000000                10.0     1.000000     0.596250   \n",
       "75%           12.000000                10.0     1.000000     0.845599   \n",
       "max         1776.000000                10.0     4.000000     1.000000   \n",
       "\n",
       "            p2_conf       p3_conf  retweet_count  favorite_count  \n",
       "count  2.300000e+03  2.300000e+03    2300.000000     2300.000000  \n",
       "mean   1.345902e-01  5.971083e-02    2905.313043     9201.621304  \n",
       "std    1.014731e-01  5.080269e-02    5145.616946    12891.976251  \n",
       "min    1.011300e-08  1.740170e-10      16.000000       81.000000  \n",
       "25%    5.321280e-02  1.595942e-02     664.750000     2146.000000  \n",
       "50%    1.165320e-01  4.893965e-02    1406.000000     4236.500000  \n",
       "75%    1.954050e-01  9.091715e-02    3265.000000    11506.000000  \n",
       "max    4.880140e-01  2.734190e-01   79515.000000   132810.000000  "
      ]
     },
     "execution_count": 6,
     "metadata": {},
     "output_type": "execute_result"
    }
   ],
   "source": [
    "master_df.describe()"
   ]
  },
  {
   "cell_type": "code",
   "execution_count": 7,
   "metadata": {},
   "outputs": [
    {
     "data": {
      "text/html": [
       "<div>\n",
       "<style scoped>\n",
       "    .dataframe tbody tr th:only-of-type {\n",
       "        vertical-align: middle;\n",
       "    }\n",
       "\n",
       "    .dataframe tbody tr th {\n",
       "        vertical-align: top;\n",
       "    }\n",
       "\n",
       "    .dataframe thead th {\n",
       "        text-align: right;\n",
       "    }\n",
       "</style>\n",
       "<table border=\"1\" class=\"dataframe\">\n",
       "  <thead>\n",
       "    <tr style=\"text-align: right;\">\n",
       "      <th></th>\n",
       "      <th>Unnamed: 0</th>\n",
       "      <th>tweet_id</th>\n",
       "      <th>in_reply_to_status_id</th>\n",
       "      <th>in_reply_to_user_id</th>\n",
       "      <th>rating_numerator</th>\n",
       "      <th>rating_denominator</th>\n",
       "      <th>img_num</th>\n",
       "      <th>p1_conf</th>\n",
       "      <th>p1_dog</th>\n",
       "      <th>p2_conf</th>\n",
       "      <th>p2_dog</th>\n",
       "      <th>p3_conf</th>\n",
       "      <th>p3_dog</th>\n",
       "      <th>retweet_count</th>\n",
       "      <th>favorite_count</th>\n",
       "    </tr>\n",
       "  </thead>\n",
       "  <tbody>\n",
       "    <tr>\n",
       "      <th>Unnamed: 0</th>\n",
       "      <td>1.000000</td>\n",
       "      <td>-0.954371</td>\n",
       "      <td>0.013088</td>\n",
       "      <td>0.016786</td>\n",
       "      <td>-0.032038</td>\n",
       "      <td>NaN</td>\n",
       "      <td>-0.229779</td>\n",
       "      <td>-0.104600</td>\n",
       "      <td>-0.135313</td>\n",
       "      <td>-0.004121</td>\n",
       "      <td>-0.131774</td>\n",
       "      <td>0.054152</td>\n",
       "      <td>-0.106289</td>\n",
       "      <td>-0.365673</td>\n",
       "      <td>-0.576821</td>\n",
       "    </tr>\n",
       "    <tr>\n",
       "      <th>tweet_id</th>\n",
       "      <td>-0.954371</td>\n",
       "      <td>1.000000</td>\n",
       "      <td>-0.021381</td>\n",
       "      <td>-0.025311</td>\n",
       "      <td>0.024880</td>\n",
       "      <td>NaN</td>\n",
       "      <td>0.212375</td>\n",
       "      <td>0.106152</td>\n",
       "      <td>0.129774</td>\n",
       "      <td>0.005913</td>\n",
       "      <td>0.128115</td>\n",
       "      <td>-0.053562</td>\n",
       "      <td>0.099230</td>\n",
       "      <td>0.378619</td>\n",
       "      <td>0.626102</td>\n",
       "    </tr>\n",
       "    <tr>\n",
       "      <th>in_reply_to_status_id</th>\n",
       "      <td>0.013088</td>\n",
       "      <td>-0.021381</td>\n",
       "      <td>1.000000</td>\n",
       "      <td>0.998257</td>\n",
       "      <td>0.011661</td>\n",
       "      <td>NaN</td>\n",
       "      <td>0.011284</td>\n",
       "      <td>-0.015305</td>\n",
       "      <td>-0.040212</td>\n",
       "      <td>-0.018732</td>\n",
       "      <td>-0.015966</td>\n",
       "      <td>0.020847</td>\n",
       "      <td>-0.015937</td>\n",
       "      <td>-0.035106</td>\n",
       "      <td>-0.040048</td>\n",
       "    </tr>\n",
       "    <tr>\n",
       "      <th>in_reply_to_user_id</th>\n",
       "      <td>0.016786</td>\n",
       "      <td>-0.025311</td>\n",
       "      <td>0.998257</td>\n",
       "      <td>1.000000</td>\n",
       "      <td>0.012007</td>\n",
       "      <td>NaN</td>\n",
       "      <td>0.010809</td>\n",
       "      <td>-0.017939</td>\n",
       "      <td>-0.040138</td>\n",
       "      <td>-0.017203</td>\n",
       "      <td>-0.014710</td>\n",
       "      <td>0.023030</td>\n",
       "      <td>-0.017208</td>\n",
       "      <td>-0.035402</td>\n",
       "      <td>-0.041170</td>\n",
       "    </tr>\n",
       "    <tr>\n",
       "      <th>rating_numerator</th>\n",
       "      <td>-0.032038</td>\n",
       "      <td>0.024880</td>\n",
       "      <td>0.011661</td>\n",
       "      <td>0.012007</td>\n",
       "      <td>1.000000</td>\n",
       "      <td>NaN</td>\n",
       "      <td>0.000338</td>\n",
       "      <td>-0.007501</td>\n",
       "      <td>-0.025511</td>\n",
       "      <td>-0.019232</td>\n",
       "      <td>-0.031146</td>\n",
       "      <td>-0.004207</td>\n",
       "      <td>-0.025607</td>\n",
       "      <td>0.013958</td>\n",
       "      <td>0.011455</td>\n",
       "    </tr>\n",
       "    <tr>\n",
       "      <th>rating_denominator</th>\n",
       "      <td>NaN</td>\n",
       "      <td>NaN</td>\n",
       "      <td>NaN</td>\n",
       "      <td>NaN</td>\n",
       "      <td>NaN</td>\n",
       "      <td>NaN</td>\n",
       "      <td>NaN</td>\n",
       "      <td>NaN</td>\n",
       "      <td>NaN</td>\n",
       "      <td>NaN</td>\n",
       "      <td>NaN</td>\n",
       "      <td>NaN</td>\n",
       "      <td>NaN</td>\n",
       "      <td>NaN</td>\n",
       "      <td>NaN</td>\n",
       "    </tr>\n",
       "    <tr>\n",
       "      <th>img_num</th>\n",
       "      <td>-0.229779</td>\n",
       "      <td>0.212375</td>\n",
       "      <td>0.011284</td>\n",
       "      <td>0.010809</td>\n",
       "      <td>0.000338</td>\n",
       "      <td>NaN</td>\n",
       "      <td>1.000000</td>\n",
       "      <td>0.207699</td>\n",
       "      <td>0.035909</td>\n",
       "      <td>-0.156854</td>\n",
       "      <td>0.062619</td>\n",
       "      <td>-0.142486</td>\n",
       "      <td>0.065183</td>\n",
       "      <td>0.102065</td>\n",
       "      <td>0.135565</td>\n",
       "    </tr>\n",
       "    <tr>\n",
       "      <th>p1_conf</th>\n",
       "      <td>-0.104600</td>\n",
       "      <td>0.106152</td>\n",
       "      <td>-0.015305</td>\n",
       "      <td>-0.017939</td>\n",
       "      <td>-0.007501</td>\n",
       "      <td>NaN</td>\n",
       "      <td>0.207699</td>\n",
       "      <td>1.000000</td>\n",
       "      <td>0.137884</td>\n",
       "      <td>-0.505853</td>\n",
       "      <td>0.149934</td>\n",
       "      <td>-0.707047</td>\n",
       "      <td>0.129306</td>\n",
       "      <td>0.047459</td>\n",
       "      <td>0.073036</td>\n",
       "    </tr>\n",
       "    <tr>\n",
       "      <th>p1_dog</th>\n",
       "      <td>-0.135313</td>\n",
       "      <td>0.129774</td>\n",
       "      <td>-0.040212</td>\n",
       "      <td>-0.040138</td>\n",
       "      <td>-0.025511</td>\n",
       "      <td>NaN</td>\n",
       "      <td>0.035909</td>\n",
       "      <td>0.137884</td>\n",
       "      <td>1.000000</td>\n",
       "      <td>0.108133</td>\n",
       "      <td>0.632665</td>\n",
       "      <td>0.033752</td>\n",
       "      <td>0.562442</td>\n",
       "      <td>0.022523</td>\n",
       "      <td>0.066351</td>\n",
       "    </tr>\n",
       "    <tr>\n",
       "      <th>p2_conf</th>\n",
       "      <td>-0.004121</td>\n",
       "      <td>0.005913</td>\n",
       "      <td>-0.018732</td>\n",
       "      <td>-0.017203</td>\n",
       "      <td>-0.019232</td>\n",
       "      <td>NaN</td>\n",
       "      <td>-0.156854</td>\n",
       "      <td>-0.505853</td>\n",
       "      <td>0.108133</td>\n",
       "      <td>1.000000</td>\n",
       "      <td>0.097538</td>\n",
       "      <td>0.477301</td>\n",
       "      <td>0.070013</td>\n",
       "      <td>-0.008980</td>\n",
       "      <td>-0.013297</td>\n",
       "    </tr>\n",
       "    <tr>\n",
       "      <th>p2_dog</th>\n",
       "      <td>-0.131774</td>\n",
       "      <td>0.128115</td>\n",
       "      <td>-0.015966</td>\n",
       "      <td>-0.014710</td>\n",
       "      <td>-0.031146</td>\n",
       "      <td>NaN</td>\n",
       "      <td>0.062619</td>\n",
       "      <td>0.149934</td>\n",
       "      <td>0.632665</td>\n",
       "      <td>0.097538</td>\n",
       "      <td>1.000000</td>\n",
       "      <td>0.020173</td>\n",
       "      <td>0.560182</td>\n",
       "      <td>0.009840</td>\n",
       "      <td>0.055922</td>\n",
       "    </tr>\n",
       "    <tr>\n",
       "      <th>p3_conf</th>\n",
       "      <td>0.054152</td>\n",
       "      <td>-0.053562</td>\n",
       "      <td>0.020847</td>\n",
       "      <td>0.023030</td>\n",
       "      <td>-0.004207</td>\n",
       "      <td>NaN</td>\n",
       "      <td>-0.142486</td>\n",
       "      <td>-0.707047</td>\n",
       "      <td>0.033752</td>\n",
       "      <td>0.477301</td>\n",
       "      <td>0.020173</td>\n",
       "      <td>1.000000</td>\n",
       "      <td>0.023624</td>\n",
       "      <td>-0.043784</td>\n",
       "      <td>-0.055244</td>\n",
       "    </tr>\n",
       "    <tr>\n",
       "      <th>p3_dog</th>\n",
       "      <td>-0.106289</td>\n",
       "      <td>0.099230</td>\n",
       "      <td>-0.015937</td>\n",
       "      <td>-0.017208</td>\n",
       "      <td>-0.025607</td>\n",
       "      <td>NaN</td>\n",
       "      <td>0.065183</td>\n",
       "      <td>0.129306</td>\n",
       "      <td>0.562442</td>\n",
       "      <td>0.070013</td>\n",
       "      <td>0.560182</td>\n",
       "      <td>0.023624</td>\n",
       "      <td>1.000000</td>\n",
       "      <td>0.016332</td>\n",
       "      <td>0.044259</td>\n",
       "    </tr>\n",
       "    <tr>\n",
       "      <th>retweet_count</th>\n",
       "      <td>-0.365673</td>\n",
       "      <td>0.378619</td>\n",
       "      <td>-0.035106</td>\n",
       "      <td>-0.035402</td>\n",
       "      <td>0.013958</td>\n",
       "      <td>NaN</td>\n",
       "      <td>0.102065</td>\n",
       "      <td>0.047459</td>\n",
       "      <td>0.022523</td>\n",
       "      <td>-0.008980</td>\n",
       "      <td>0.009840</td>\n",
       "      <td>-0.043784</td>\n",
       "      <td>0.016332</td>\n",
       "      <td>1.000000</td>\n",
       "      <td>0.915548</td>\n",
       "    </tr>\n",
       "    <tr>\n",
       "      <th>favorite_count</th>\n",
       "      <td>-0.576821</td>\n",
       "      <td>0.626102</td>\n",
       "      <td>-0.040048</td>\n",
       "      <td>-0.041170</td>\n",
       "      <td>0.011455</td>\n",
       "      <td>NaN</td>\n",
       "      <td>0.135565</td>\n",
       "      <td>0.073036</td>\n",
       "      <td>0.066351</td>\n",
       "      <td>-0.013297</td>\n",
       "      <td>0.055922</td>\n",
       "      <td>-0.055244</td>\n",
       "      <td>0.044259</td>\n",
       "      <td>0.915548</td>\n",
       "      <td>1.000000</td>\n",
       "    </tr>\n",
       "  </tbody>\n",
       "</table>\n",
       "</div>"
      ],
      "text/plain": [
       "                       Unnamed: 0  tweet_id  in_reply_to_status_id  \\\n",
       "Unnamed: 0               1.000000 -0.954371               0.013088   \n",
       "tweet_id                -0.954371  1.000000              -0.021381   \n",
       "in_reply_to_status_id    0.013088 -0.021381               1.000000   \n",
       "in_reply_to_user_id      0.016786 -0.025311               0.998257   \n",
       "rating_numerator        -0.032038  0.024880               0.011661   \n",
       "rating_denominator            NaN       NaN                    NaN   \n",
       "img_num                 -0.229779  0.212375               0.011284   \n",
       "p1_conf                 -0.104600  0.106152              -0.015305   \n",
       "p1_dog                  -0.135313  0.129774              -0.040212   \n",
       "p2_conf                 -0.004121  0.005913              -0.018732   \n",
       "p2_dog                  -0.131774  0.128115              -0.015966   \n",
       "p3_conf                  0.054152 -0.053562               0.020847   \n",
       "p3_dog                  -0.106289  0.099230              -0.015937   \n",
       "retweet_count           -0.365673  0.378619              -0.035106   \n",
       "favorite_count          -0.576821  0.626102              -0.040048   \n",
       "\n",
       "                       in_reply_to_user_id  rating_numerator  \\\n",
       "Unnamed: 0                        0.016786         -0.032038   \n",
       "tweet_id                         -0.025311          0.024880   \n",
       "in_reply_to_status_id             0.998257          0.011661   \n",
       "in_reply_to_user_id               1.000000          0.012007   \n",
       "rating_numerator                  0.012007          1.000000   \n",
       "rating_denominator                     NaN               NaN   \n",
       "img_num                           0.010809          0.000338   \n",
       "p1_conf                          -0.017939         -0.007501   \n",
       "p1_dog                           -0.040138         -0.025511   \n",
       "p2_conf                          -0.017203         -0.019232   \n",
       "p2_dog                           -0.014710         -0.031146   \n",
       "p3_conf                           0.023030         -0.004207   \n",
       "p3_dog                           -0.017208         -0.025607   \n",
       "retweet_count                    -0.035402          0.013958   \n",
       "favorite_count                   -0.041170          0.011455   \n",
       "\n",
       "                       rating_denominator   img_num   p1_conf    p1_dog  \\\n",
       "Unnamed: 0                            NaN -0.229779 -0.104600 -0.135313   \n",
       "tweet_id                              NaN  0.212375  0.106152  0.129774   \n",
       "in_reply_to_status_id                 NaN  0.011284 -0.015305 -0.040212   \n",
       "in_reply_to_user_id                   NaN  0.010809 -0.017939 -0.040138   \n",
       "rating_numerator                      NaN  0.000338 -0.007501 -0.025511   \n",
       "rating_denominator                    NaN       NaN       NaN       NaN   \n",
       "img_num                               NaN  1.000000  0.207699  0.035909   \n",
       "p1_conf                               NaN  0.207699  1.000000  0.137884   \n",
       "p1_dog                                NaN  0.035909  0.137884  1.000000   \n",
       "p2_conf                               NaN -0.156854 -0.505853  0.108133   \n",
       "p2_dog                                NaN  0.062619  0.149934  0.632665   \n",
       "p3_conf                               NaN -0.142486 -0.707047  0.033752   \n",
       "p3_dog                                NaN  0.065183  0.129306  0.562442   \n",
       "retweet_count                         NaN  0.102065  0.047459  0.022523   \n",
       "favorite_count                        NaN  0.135565  0.073036  0.066351   \n",
       "\n",
       "                        p2_conf    p2_dog   p3_conf    p3_dog  retweet_count  \\\n",
       "Unnamed: 0            -0.004121 -0.131774  0.054152 -0.106289      -0.365673   \n",
       "tweet_id               0.005913  0.128115 -0.053562  0.099230       0.378619   \n",
       "in_reply_to_status_id -0.018732 -0.015966  0.020847 -0.015937      -0.035106   \n",
       "in_reply_to_user_id   -0.017203 -0.014710  0.023030 -0.017208      -0.035402   \n",
       "rating_numerator      -0.019232 -0.031146 -0.004207 -0.025607       0.013958   \n",
       "rating_denominator          NaN       NaN       NaN       NaN            NaN   \n",
       "img_num               -0.156854  0.062619 -0.142486  0.065183       0.102065   \n",
       "p1_conf               -0.505853  0.149934 -0.707047  0.129306       0.047459   \n",
       "p1_dog                 0.108133  0.632665  0.033752  0.562442       0.022523   \n",
       "p2_conf                1.000000  0.097538  0.477301  0.070013      -0.008980   \n",
       "p2_dog                 0.097538  1.000000  0.020173  0.560182       0.009840   \n",
       "p3_conf                0.477301  0.020173  1.000000  0.023624      -0.043784   \n",
       "p3_dog                 0.070013  0.560182  0.023624  1.000000       0.016332   \n",
       "retweet_count         -0.008980  0.009840 -0.043784  0.016332       1.000000   \n",
       "favorite_count        -0.013297  0.055922 -0.055244  0.044259       0.915548   \n",
       "\n",
       "                       favorite_count  \n",
       "Unnamed: 0                  -0.576821  \n",
       "tweet_id                     0.626102  \n",
       "in_reply_to_status_id       -0.040048  \n",
       "in_reply_to_user_id         -0.041170  \n",
       "rating_numerator             0.011455  \n",
       "rating_denominator                NaN  \n",
       "img_num                      0.135565  \n",
       "p1_conf                      0.073036  \n",
       "p1_dog                       0.066351  \n",
       "p2_conf                     -0.013297  \n",
       "p2_dog                       0.055922  \n",
       "p3_conf                     -0.055244  \n",
       "p3_dog                       0.044259  \n",
       "retweet_count                0.915548  \n",
       "favorite_count               1.000000  "
      ]
     },
     "execution_count": 7,
     "metadata": {},
     "output_type": "execute_result"
    }
   ],
   "source": [
    "master_df.corr()"
   ]
  },
  {
   "cell_type": "code",
   "execution_count": 9,
   "metadata": {},
   "outputs": [
    {
     "data": {
      "text/html": [
       "<div>\n",
       "<style scoped>\n",
       "    .dataframe tbody tr th:only-of-type {\n",
       "        vertical-align: middle;\n",
       "    }\n",
       "\n",
       "    .dataframe tbody tr th {\n",
       "        vertical-align: top;\n",
       "    }\n",
       "\n",
       "    .dataframe thead th {\n",
       "        text-align: right;\n",
       "    }\n",
       "</style>\n",
       "<table border=\"1\" class=\"dataframe\">\n",
       "  <thead>\n",
       "    <tr style=\"text-align: right;\">\n",
       "      <th></th>\n",
       "      <th>Unnamed: 0</th>\n",
       "      <th>tweet_id</th>\n",
       "      <th>in_reply_to_status_id</th>\n",
       "      <th>in_reply_to_user_id</th>\n",
       "      <th>rating_numerator</th>\n",
       "      <th>rating_denominator</th>\n",
       "      <th>img_num</th>\n",
       "      <th>p1_conf</th>\n",
       "      <th>p1_dog</th>\n",
       "      <th>p2_conf</th>\n",
       "      <th>p2_dog</th>\n",
       "      <th>p3_conf</th>\n",
       "      <th>p3_dog</th>\n",
       "      <th>retweet_count</th>\n",
       "      <th>favorite_count</th>\n",
       "    </tr>\n",
       "  </thead>\n",
       "  <tbody>\n",
       "    <tr>\n",
       "      <th>Unnamed: 0</th>\n",
       "      <td>1.000000</td>\n",
       "      <td>-0.954371</td>\n",
       "      <td>0.013088</td>\n",
       "      <td>0.016786</td>\n",
       "      <td>-0.032038</td>\n",
       "      <td>NaN</td>\n",
       "      <td>-0.229779</td>\n",
       "      <td>-0.104600</td>\n",
       "      <td>-0.135313</td>\n",
       "      <td>-0.004121</td>\n",
       "      <td>-0.131774</td>\n",
       "      <td>0.054152</td>\n",
       "      <td>-0.106289</td>\n",
       "      <td>-0.365673</td>\n",
       "      <td>-0.576821</td>\n",
       "    </tr>\n",
       "    <tr>\n",
       "      <th>tweet_id</th>\n",
       "      <td>-0.954371</td>\n",
       "      <td>1.000000</td>\n",
       "      <td>-0.021381</td>\n",
       "      <td>-0.025311</td>\n",
       "      <td>0.024880</td>\n",
       "      <td>NaN</td>\n",
       "      <td>0.212375</td>\n",
       "      <td>0.106152</td>\n",
       "      <td>0.129774</td>\n",
       "      <td>0.005913</td>\n",
       "      <td>0.128115</td>\n",
       "      <td>-0.053562</td>\n",
       "      <td>0.099230</td>\n",
       "      <td>0.378619</td>\n",
       "      <td>0.626102</td>\n",
       "    </tr>\n",
       "    <tr>\n",
       "      <th>in_reply_to_status_id</th>\n",
       "      <td>0.013088</td>\n",
       "      <td>-0.021381</td>\n",
       "      <td>1.000000</td>\n",
       "      <td>0.998257</td>\n",
       "      <td>0.011661</td>\n",
       "      <td>NaN</td>\n",
       "      <td>0.011284</td>\n",
       "      <td>-0.015305</td>\n",
       "      <td>-0.040212</td>\n",
       "      <td>-0.018732</td>\n",
       "      <td>-0.015966</td>\n",
       "      <td>0.020847</td>\n",
       "      <td>-0.015937</td>\n",
       "      <td>-0.035106</td>\n",
       "      <td>-0.040048</td>\n",
       "    </tr>\n",
       "    <tr>\n",
       "      <th>in_reply_to_user_id</th>\n",
       "      <td>0.016786</td>\n",
       "      <td>-0.025311</td>\n",
       "      <td>0.998257</td>\n",
       "      <td>1.000000</td>\n",
       "      <td>0.012007</td>\n",
       "      <td>NaN</td>\n",
       "      <td>0.010809</td>\n",
       "      <td>-0.017939</td>\n",
       "      <td>-0.040138</td>\n",
       "      <td>-0.017203</td>\n",
       "      <td>-0.014710</td>\n",
       "      <td>0.023030</td>\n",
       "      <td>-0.017208</td>\n",
       "      <td>-0.035402</td>\n",
       "      <td>-0.041170</td>\n",
       "    </tr>\n",
       "    <tr>\n",
       "      <th>rating_numerator</th>\n",
       "      <td>-0.032038</td>\n",
       "      <td>0.024880</td>\n",
       "      <td>0.011661</td>\n",
       "      <td>0.012007</td>\n",
       "      <td>1.000000</td>\n",
       "      <td>NaN</td>\n",
       "      <td>0.000338</td>\n",
       "      <td>-0.007501</td>\n",
       "      <td>-0.025511</td>\n",
       "      <td>-0.019232</td>\n",
       "      <td>-0.031146</td>\n",
       "      <td>-0.004207</td>\n",
       "      <td>-0.025607</td>\n",
       "      <td>0.013958</td>\n",
       "      <td>0.011455</td>\n",
       "    </tr>\n",
       "    <tr>\n",
       "      <th>rating_denominator</th>\n",
       "      <td>NaN</td>\n",
       "      <td>NaN</td>\n",
       "      <td>NaN</td>\n",
       "      <td>NaN</td>\n",
       "      <td>NaN</td>\n",
       "      <td>NaN</td>\n",
       "      <td>NaN</td>\n",
       "      <td>NaN</td>\n",
       "      <td>NaN</td>\n",
       "      <td>NaN</td>\n",
       "      <td>NaN</td>\n",
       "      <td>NaN</td>\n",
       "      <td>NaN</td>\n",
       "      <td>NaN</td>\n",
       "      <td>NaN</td>\n",
       "    </tr>\n",
       "    <tr>\n",
       "      <th>img_num</th>\n",
       "      <td>-0.229779</td>\n",
       "      <td>0.212375</td>\n",
       "      <td>0.011284</td>\n",
       "      <td>0.010809</td>\n",
       "      <td>0.000338</td>\n",
       "      <td>NaN</td>\n",
       "      <td>1.000000</td>\n",
       "      <td>0.207699</td>\n",
       "      <td>0.035909</td>\n",
       "      <td>-0.156854</td>\n",
       "      <td>0.062619</td>\n",
       "      <td>-0.142486</td>\n",
       "      <td>0.065183</td>\n",
       "      <td>0.102065</td>\n",
       "      <td>0.135565</td>\n",
       "    </tr>\n",
       "    <tr>\n",
       "      <th>p1_conf</th>\n",
       "      <td>-0.104600</td>\n",
       "      <td>0.106152</td>\n",
       "      <td>-0.015305</td>\n",
       "      <td>-0.017939</td>\n",
       "      <td>-0.007501</td>\n",
       "      <td>NaN</td>\n",
       "      <td>0.207699</td>\n",
       "      <td>1.000000</td>\n",
       "      <td>0.137884</td>\n",
       "      <td>-0.505853</td>\n",
       "      <td>0.149934</td>\n",
       "      <td>-0.707047</td>\n",
       "      <td>0.129306</td>\n",
       "      <td>0.047459</td>\n",
       "      <td>0.073036</td>\n",
       "    </tr>\n",
       "    <tr>\n",
       "      <th>p1_dog</th>\n",
       "      <td>-0.135313</td>\n",
       "      <td>0.129774</td>\n",
       "      <td>-0.040212</td>\n",
       "      <td>-0.040138</td>\n",
       "      <td>-0.025511</td>\n",
       "      <td>NaN</td>\n",
       "      <td>0.035909</td>\n",
       "      <td>0.137884</td>\n",
       "      <td>1.000000</td>\n",
       "      <td>0.108133</td>\n",
       "      <td>0.632665</td>\n",
       "      <td>0.033752</td>\n",
       "      <td>0.562442</td>\n",
       "      <td>0.022523</td>\n",
       "      <td>0.066351</td>\n",
       "    </tr>\n",
       "    <tr>\n",
       "      <th>p2_conf</th>\n",
       "      <td>-0.004121</td>\n",
       "      <td>0.005913</td>\n",
       "      <td>-0.018732</td>\n",
       "      <td>-0.017203</td>\n",
       "      <td>-0.019232</td>\n",
       "      <td>NaN</td>\n",
       "      <td>-0.156854</td>\n",
       "      <td>-0.505853</td>\n",
       "      <td>0.108133</td>\n",
       "      <td>1.000000</td>\n",
       "      <td>0.097538</td>\n",
       "      <td>0.477301</td>\n",
       "      <td>0.070013</td>\n",
       "      <td>-0.008980</td>\n",
       "      <td>-0.013297</td>\n",
       "    </tr>\n",
       "    <tr>\n",
       "      <th>p2_dog</th>\n",
       "      <td>-0.131774</td>\n",
       "      <td>0.128115</td>\n",
       "      <td>-0.015966</td>\n",
       "      <td>-0.014710</td>\n",
       "      <td>-0.031146</td>\n",
       "      <td>NaN</td>\n",
       "      <td>0.062619</td>\n",
       "      <td>0.149934</td>\n",
       "      <td>0.632665</td>\n",
       "      <td>0.097538</td>\n",
       "      <td>1.000000</td>\n",
       "      <td>0.020173</td>\n",
       "      <td>0.560182</td>\n",
       "      <td>0.009840</td>\n",
       "      <td>0.055922</td>\n",
       "    </tr>\n",
       "    <tr>\n",
       "      <th>p3_conf</th>\n",
       "      <td>0.054152</td>\n",
       "      <td>-0.053562</td>\n",
       "      <td>0.020847</td>\n",
       "      <td>0.023030</td>\n",
       "      <td>-0.004207</td>\n",
       "      <td>NaN</td>\n",
       "      <td>-0.142486</td>\n",
       "      <td>-0.707047</td>\n",
       "      <td>0.033752</td>\n",
       "      <td>0.477301</td>\n",
       "      <td>0.020173</td>\n",
       "      <td>1.000000</td>\n",
       "      <td>0.023624</td>\n",
       "      <td>-0.043784</td>\n",
       "      <td>-0.055244</td>\n",
       "    </tr>\n",
       "    <tr>\n",
       "      <th>p3_dog</th>\n",
       "      <td>-0.106289</td>\n",
       "      <td>0.099230</td>\n",
       "      <td>-0.015937</td>\n",
       "      <td>-0.017208</td>\n",
       "      <td>-0.025607</td>\n",
       "      <td>NaN</td>\n",
       "      <td>0.065183</td>\n",
       "      <td>0.129306</td>\n",
       "      <td>0.562442</td>\n",
       "      <td>0.070013</td>\n",
       "      <td>0.560182</td>\n",
       "      <td>0.023624</td>\n",
       "      <td>1.000000</td>\n",
       "      <td>0.016332</td>\n",
       "      <td>0.044259</td>\n",
       "    </tr>\n",
       "    <tr>\n",
       "      <th>retweet_count</th>\n",
       "      <td>-0.365673</td>\n",
       "      <td>0.378619</td>\n",
       "      <td>-0.035106</td>\n",
       "      <td>-0.035402</td>\n",
       "      <td>0.013958</td>\n",
       "      <td>NaN</td>\n",
       "      <td>0.102065</td>\n",
       "      <td>0.047459</td>\n",
       "      <td>0.022523</td>\n",
       "      <td>-0.008980</td>\n",
       "      <td>0.009840</td>\n",
       "      <td>-0.043784</td>\n",
       "      <td>0.016332</td>\n",
       "      <td>1.000000</td>\n",
       "      <td>0.915548</td>\n",
       "    </tr>\n",
       "    <tr>\n",
       "      <th>favorite_count</th>\n",
       "      <td>-0.576821</td>\n",
       "      <td>0.626102</td>\n",
       "      <td>-0.040048</td>\n",
       "      <td>-0.041170</td>\n",
       "      <td>0.011455</td>\n",
       "      <td>NaN</td>\n",
       "      <td>0.135565</td>\n",
       "      <td>0.073036</td>\n",
       "      <td>0.066351</td>\n",
       "      <td>-0.013297</td>\n",
       "      <td>0.055922</td>\n",
       "      <td>-0.055244</td>\n",
       "      <td>0.044259</td>\n",
       "      <td>0.915548</td>\n",
       "      <td>1.000000</td>\n",
       "    </tr>\n",
       "  </tbody>\n",
       "</table>\n",
       "</div>"
      ],
      "text/plain": [
       "                       Unnamed: 0  tweet_id  in_reply_to_status_id  \\\n",
       "Unnamed: 0               1.000000 -0.954371               0.013088   \n",
       "tweet_id                -0.954371  1.000000              -0.021381   \n",
       "in_reply_to_status_id    0.013088 -0.021381               1.000000   \n",
       "in_reply_to_user_id      0.016786 -0.025311               0.998257   \n",
       "rating_numerator        -0.032038  0.024880               0.011661   \n",
       "rating_denominator            NaN       NaN                    NaN   \n",
       "img_num                 -0.229779  0.212375               0.011284   \n",
       "p1_conf                 -0.104600  0.106152              -0.015305   \n",
       "p1_dog                  -0.135313  0.129774              -0.040212   \n",
       "p2_conf                 -0.004121  0.005913              -0.018732   \n",
       "p2_dog                  -0.131774  0.128115              -0.015966   \n",
       "p3_conf                  0.054152 -0.053562               0.020847   \n",
       "p3_dog                  -0.106289  0.099230              -0.015937   \n",
       "retweet_count           -0.365673  0.378619              -0.035106   \n",
       "favorite_count          -0.576821  0.626102              -0.040048   \n",
       "\n",
       "                       in_reply_to_user_id  rating_numerator  \\\n",
       "Unnamed: 0                        0.016786         -0.032038   \n",
       "tweet_id                         -0.025311          0.024880   \n",
       "in_reply_to_status_id             0.998257          0.011661   \n",
       "in_reply_to_user_id               1.000000          0.012007   \n",
       "rating_numerator                  0.012007          1.000000   \n",
       "rating_denominator                     NaN               NaN   \n",
       "img_num                           0.010809          0.000338   \n",
       "p1_conf                          -0.017939         -0.007501   \n",
       "p1_dog                           -0.040138         -0.025511   \n",
       "p2_conf                          -0.017203         -0.019232   \n",
       "p2_dog                           -0.014710         -0.031146   \n",
       "p3_conf                           0.023030         -0.004207   \n",
       "p3_dog                           -0.017208         -0.025607   \n",
       "retweet_count                    -0.035402          0.013958   \n",
       "favorite_count                   -0.041170          0.011455   \n",
       "\n",
       "                       rating_denominator   img_num   p1_conf    p1_dog  \\\n",
       "Unnamed: 0                            NaN -0.229779 -0.104600 -0.135313   \n",
       "tweet_id                              NaN  0.212375  0.106152  0.129774   \n",
       "in_reply_to_status_id                 NaN  0.011284 -0.015305 -0.040212   \n",
       "in_reply_to_user_id                   NaN  0.010809 -0.017939 -0.040138   \n",
       "rating_numerator                      NaN  0.000338 -0.007501 -0.025511   \n",
       "rating_denominator                    NaN       NaN       NaN       NaN   \n",
       "img_num                               NaN  1.000000  0.207699  0.035909   \n",
       "p1_conf                               NaN  0.207699  1.000000  0.137884   \n",
       "p1_dog                                NaN  0.035909  0.137884  1.000000   \n",
       "p2_conf                               NaN -0.156854 -0.505853  0.108133   \n",
       "p2_dog                                NaN  0.062619  0.149934  0.632665   \n",
       "p3_conf                               NaN -0.142486 -0.707047  0.033752   \n",
       "p3_dog                                NaN  0.065183  0.129306  0.562442   \n",
       "retweet_count                         NaN  0.102065  0.047459  0.022523   \n",
       "favorite_count                        NaN  0.135565  0.073036  0.066351   \n",
       "\n",
       "                        p2_conf    p2_dog   p3_conf    p3_dog  retweet_count  \\\n",
       "Unnamed: 0            -0.004121 -0.131774  0.054152 -0.106289      -0.365673   \n",
       "tweet_id               0.005913  0.128115 -0.053562  0.099230       0.378619   \n",
       "in_reply_to_status_id -0.018732 -0.015966  0.020847 -0.015937      -0.035106   \n",
       "in_reply_to_user_id   -0.017203 -0.014710  0.023030 -0.017208      -0.035402   \n",
       "rating_numerator      -0.019232 -0.031146 -0.004207 -0.025607       0.013958   \n",
       "rating_denominator          NaN       NaN       NaN       NaN            NaN   \n",
       "img_num               -0.156854  0.062619 -0.142486  0.065183       0.102065   \n",
       "p1_conf               -0.505853  0.149934 -0.707047  0.129306       0.047459   \n",
       "p1_dog                 0.108133  0.632665  0.033752  0.562442       0.022523   \n",
       "p2_conf                1.000000  0.097538  0.477301  0.070013      -0.008980   \n",
       "p2_dog                 0.097538  1.000000  0.020173  0.560182       0.009840   \n",
       "p3_conf                0.477301  0.020173  1.000000  0.023624      -0.043784   \n",
       "p3_dog                 0.070013  0.560182  0.023624  1.000000       0.016332   \n",
       "retweet_count         -0.008980  0.009840 -0.043784  0.016332       1.000000   \n",
       "favorite_count        -0.013297  0.055922 -0.055244  0.044259       0.915548   \n",
       "\n",
       "                       favorite_count  \n",
       "Unnamed: 0                  -0.576821  \n",
       "tweet_id                     0.626102  \n",
       "in_reply_to_status_id       -0.040048  \n",
       "in_reply_to_user_id         -0.041170  \n",
       "rating_numerator             0.011455  \n",
       "rating_denominator                NaN  \n",
       "img_num                      0.135565  \n",
       "p1_conf                      0.073036  \n",
       "p1_dog                       0.066351  \n",
       "p2_conf                     -0.013297  \n",
       "p2_dog                       0.055922  \n",
       "p3_conf                     -0.055244  \n",
       "p3_dog                       0.044259  \n",
       "retweet_count                0.915548  \n",
       "favorite_count               1.000000  "
      ]
     },
     "execution_count": 9,
     "metadata": {},
     "output_type": "execute_result"
    }
   ],
   "source": [
    "master_df.corr(method='pearson')"
   ]
  },
  {
   "cell_type": "code",
   "execution_count": 11,
   "metadata": {},
   "outputs": [
    {
     "data": {
      "text/html": [
       "<div>\n",
       "<style scoped>\n",
       "    .dataframe tbody tr th:only-of-type {\n",
       "        vertical-align: middle;\n",
       "    }\n",
       "\n",
       "    .dataframe tbody tr th {\n",
       "        vertical-align: top;\n",
       "    }\n",
       "\n",
       "    .dataframe thead th {\n",
       "        text-align: right;\n",
       "    }\n",
       "</style>\n",
       "<table border=\"1\" class=\"dataframe\">\n",
       "  <thead>\n",
       "    <tr style=\"text-align: right;\">\n",
       "      <th></th>\n",
       "      <th>Unnamed: 0</th>\n",
       "      <th>tweet_id</th>\n",
       "      <th>in_reply_to_status_id</th>\n",
       "      <th>in_reply_to_user_id</th>\n",
       "      <th>rating_numerator</th>\n",
       "      <th>rating_denominator</th>\n",
       "      <th>img_num</th>\n",
       "      <th>p1_conf</th>\n",
       "      <th>p1_dog</th>\n",
       "      <th>p2_conf</th>\n",
       "      <th>p2_dog</th>\n",
       "      <th>p3_conf</th>\n",
       "      <th>p3_dog</th>\n",
       "      <th>retweet_count</th>\n",
       "      <th>favorite_count</th>\n",
       "    </tr>\n",
       "  </thead>\n",
       "  <tbody>\n",
       "    <tr>\n",
       "      <th>Unnamed: 0</th>\n",
       "      <td>1.000000</td>\n",
       "      <td>-0.999942</td>\n",
       "      <td>0.013225</td>\n",
       "      <td>0.013709</td>\n",
       "      <td>-0.454675</td>\n",
       "      <td>NaN</td>\n",
       "      <td>-0.192231</td>\n",
       "      <td>-0.067923</td>\n",
       "      <td>-0.110507</td>\n",
       "      <td>0.001652</td>\n",
       "      <td>-0.107616</td>\n",
       "      <td>0.038562</td>\n",
       "      <td>-0.086803</td>\n",
       "      <td>-0.578199</td>\n",
       "      <td>-0.706189</td>\n",
       "    </tr>\n",
       "    <tr>\n",
       "      <th>tweet_id</th>\n",
       "      <td>-0.999942</td>\n",
       "      <td>1.000000</td>\n",
       "      <td>-0.013226</td>\n",
       "      <td>-0.013710</td>\n",
       "      <td>0.454702</td>\n",
       "      <td>NaN</td>\n",
       "      <td>0.192242</td>\n",
       "      <td>0.067927</td>\n",
       "      <td>0.110513</td>\n",
       "      <td>-0.001652</td>\n",
       "      <td>0.107623</td>\n",
       "      <td>-0.038565</td>\n",
       "      <td>0.086808</td>\n",
       "      <td>0.578232</td>\n",
       "      <td>0.706230</td>\n",
       "    </tr>\n",
       "    <tr>\n",
       "      <th>in_reply_to_status_id</th>\n",
       "      <td>0.013225</td>\n",
       "      <td>-0.013226</td>\n",
       "      <td>1.000000</td>\n",
       "      <td>0.997296</td>\n",
       "      <td>0.053143</td>\n",
       "      <td>NaN</td>\n",
       "      <td>0.004520</td>\n",
       "      <td>-0.015027</td>\n",
       "      <td>-0.040098</td>\n",
       "      <td>-0.004104</td>\n",
       "      <td>-0.014968</td>\n",
       "      <td>0.022300</td>\n",
       "      <td>-0.016962</td>\n",
       "      <td>-0.040321</td>\n",
       "      <td>-0.033143</td>\n",
       "    </tr>\n",
       "    <tr>\n",
       "      <th>in_reply_to_user_id</th>\n",
       "      <td>0.013709</td>\n",
       "      <td>-0.013710</td>\n",
       "      <td>0.997296</td>\n",
       "      <td>1.000000</td>\n",
       "      <td>0.053329</td>\n",
       "      <td>NaN</td>\n",
       "      <td>0.004408</td>\n",
       "      <td>-0.015328</td>\n",
       "      <td>-0.040138</td>\n",
       "      <td>-0.003916</td>\n",
       "      <td>-0.014710</td>\n",
       "      <td>0.022601</td>\n",
       "      <td>-0.017208</td>\n",
       "      <td>-0.040529</td>\n",
       "      <td>-0.033433</td>\n",
       "    </tr>\n",
       "    <tr>\n",
       "      <th>rating_numerator</th>\n",
       "      <td>-0.454675</td>\n",
       "      <td>0.454702</td>\n",
       "      <td>0.053143</td>\n",
       "      <td>0.053329</td>\n",
       "      <td>1.000000</td>\n",
       "      <td>NaN</td>\n",
       "      <td>0.174578</td>\n",
       "      <td>0.078962</td>\n",
       "      <td>0.191865</td>\n",
       "      <td>-0.007481</td>\n",
       "      <td>0.147796</td>\n",
       "      <td>-0.038617</td>\n",
       "      <td>0.154538</td>\n",
       "      <td>0.400022</td>\n",
       "      <td>0.443558</td>\n",
       "    </tr>\n",
       "    <tr>\n",
       "      <th>rating_denominator</th>\n",
       "      <td>NaN</td>\n",
       "      <td>NaN</td>\n",
       "      <td>NaN</td>\n",
       "      <td>NaN</td>\n",
       "      <td>NaN</td>\n",
       "      <td>1.0</td>\n",
       "      <td>NaN</td>\n",
       "      <td>NaN</td>\n",
       "      <td>NaN</td>\n",
       "      <td>NaN</td>\n",
       "      <td>NaN</td>\n",
       "      <td>NaN</td>\n",
       "      <td>NaN</td>\n",
       "      <td>NaN</td>\n",
       "      <td>NaN</td>\n",
       "    </tr>\n",
       "    <tr>\n",
       "      <th>img_num</th>\n",
       "      <td>-0.192231</td>\n",
       "      <td>0.192242</td>\n",
       "      <td>0.004520</td>\n",
       "      <td>0.004408</td>\n",
       "      <td>0.174578</td>\n",
       "      <td>NaN</td>\n",
       "      <td>1.000000</td>\n",
       "      <td>0.164777</td>\n",
       "      <td>0.045640</td>\n",
       "      <td>-0.122295</td>\n",
       "      <td>0.078514</td>\n",
       "      <td>-0.111316</td>\n",
       "      <td>0.080718</td>\n",
       "      <td>0.179850</td>\n",
       "      <td>0.181950</td>\n",
       "    </tr>\n",
       "    <tr>\n",
       "      <th>p1_conf</th>\n",
       "      <td>-0.067923</td>\n",
       "      <td>0.067927</td>\n",
       "      <td>-0.015027</td>\n",
       "      <td>-0.015328</td>\n",
       "      <td>0.078962</td>\n",
       "      <td>NaN</td>\n",
       "      <td>0.164777</td>\n",
       "      <td>1.000000</td>\n",
       "      <td>0.105872</td>\n",
       "      <td>-0.433185</td>\n",
       "      <td>0.117995</td>\n",
       "      <td>-0.600807</td>\n",
       "      <td>0.099936</td>\n",
       "      <td>0.078027</td>\n",
       "      <td>0.081050</td>\n",
       "    </tr>\n",
       "    <tr>\n",
       "      <th>p1_dog</th>\n",
       "      <td>-0.110507</td>\n",
       "      <td>0.110513</td>\n",
       "      <td>-0.040098</td>\n",
       "      <td>-0.040138</td>\n",
       "      <td>0.191865</td>\n",
       "      <td>NaN</td>\n",
       "      <td>0.045640</td>\n",
       "      <td>0.105872</td>\n",
       "      <td>1.000000</td>\n",
       "      <td>0.089241</td>\n",
       "      <td>0.632665</td>\n",
       "      <td>0.015386</td>\n",
       "      <td>0.562442</td>\n",
       "      <td>0.044127</td>\n",
       "      <td>0.081242</td>\n",
       "    </tr>\n",
       "    <tr>\n",
       "      <th>p2_conf</th>\n",
       "      <td>0.001652</td>\n",
       "      <td>-0.001652</td>\n",
       "      <td>-0.004104</td>\n",
       "      <td>-0.003916</td>\n",
       "      <td>-0.007481</td>\n",
       "      <td>NaN</td>\n",
       "      <td>-0.122295</td>\n",
       "      <td>-0.433185</td>\n",
       "      <td>0.089241</td>\n",
       "      <td>1.000000</td>\n",
       "      <td>0.072439</td>\n",
       "      <td>0.471961</td>\n",
       "      <td>0.058986</td>\n",
       "      <td>-0.027128</td>\n",
       "      <td>-0.016035</td>\n",
       "    </tr>\n",
       "    <tr>\n",
       "      <th>p2_dog</th>\n",
       "      <td>-0.107616</td>\n",
       "      <td>0.107623</td>\n",
       "      <td>-0.014968</td>\n",
       "      <td>-0.014710</td>\n",
       "      <td>0.147796</td>\n",
       "      <td>NaN</td>\n",
       "      <td>0.078514</td>\n",
       "      <td>0.117995</td>\n",
       "      <td>0.632665</td>\n",
       "      <td>0.072439</td>\n",
       "      <td>1.000000</td>\n",
       "      <td>0.000061</td>\n",
       "      <td>0.560182</td>\n",
       "      <td>0.051240</td>\n",
       "      <td>0.082677</td>\n",
       "    </tr>\n",
       "    <tr>\n",
       "      <th>p3_conf</th>\n",
       "      <td>0.038562</td>\n",
       "      <td>-0.038565</td>\n",
       "      <td>0.022300</td>\n",
       "      <td>0.022601</td>\n",
       "      <td>-0.038617</td>\n",
       "      <td>NaN</td>\n",
       "      <td>-0.111316</td>\n",
       "      <td>-0.600807</td>\n",
       "      <td>0.015386</td>\n",
       "      <td>0.471961</td>\n",
       "      <td>0.000061</td>\n",
       "      <td>1.000000</td>\n",
       "      <td>0.012818</td>\n",
       "      <td>-0.064755</td>\n",
       "      <td>-0.058203</td>\n",
       "    </tr>\n",
       "    <tr>\n",
       "      <th>p3_dog</th>\n",
       "      <td>-0.086803</td>\n",
       "      <td>0.086808</td>\n",
       "      <td>-0.016962</td>\n",
       "      <td>-0.017208</td>\n",
       "      <td>0.154538</td>\n",
       "      <td>NaN</td>\n",
       "      <td>0.080718</td>\n",
       "      <td>0.099936</td>\n",
       "      <td>0.562442</td>\n",
       "      <td>0.058986</td>\n",
       "      <td>0.560182</td>\n",
       "      <td>0.012818</td>\n",
       "      <td>1.000000</td>\n",
       "      <td>0.015538</td>\n",
       "      <td>0.047540</td>\n",
       "    </tr>\n",
       "    <tr>\n",
       "      <th>retweet_count</th>\n",
       "      <td>-0.578199</td>\n",
       "      <td>0.578232</td>\n",
       "      <td>-0.040321</td>\n",
       "      <td>-0.040529</td>\n",
       "      <td>0.400022</td>\n",
       "      <td>NaN</td>\n",
       "      <td>0.179850</td>\n",
       "      <td>0.078027</td>\n",
       "      <td>0.044127</td>\n",
       "      <td>-0.027128</td>\n",
       "      <td>0.051240</td>\n",
       "      <td>-0.064755</td>\n",
       "      <td>0.015538</td>\n",
       "      <td>1.000000</td>\n",
       "      <td>0.845157</td>\n",
       "    </tr>\n",
       "    <tr>\n",
       "      <th>favorite_count</th>\n",
       "      <td>-0.706189</td>\n",
       "      <td>0.706230</td>\n",
       "      <td>-0.033143</td>\n",
       "      <td>-0.033433</td>\n",
       "      <td>0.443558</td>\n",
       "      <td>NaN</td>\n",
       "      <td>0.181950</td>\n",
       "      <td>0.081050</td>\n",
       "      <td>0.081242</td>\n",
       "      <td>-0.016035</td>\n",
       "      <td>0.082677</td>\n",
       "      <td>-0.058203</td>\n",
       "      <td>0.047540</td>\n",
       "      <td>0.845157</td>\n",
       "      <td>1.000000</td>\n",
       "    </tr>\n",
       "  </tbody>\n",
       "</table>\n",
       "</div>"
      ],
      "text/plain": [
       "                       Unnamed: 0  tweet_id  in_reply_to_status_id  \\\n",
       "Unnamed: 0               1.000000 -0.999942               0.013225   \n",
       "tweet_id                -0.999942  1.000000              -0.013226   \n",
       "in_reply_to_status_id    0.013225 -0.013226               1.000000   \n",
       "in_reply_to_user_id      0.013709 -0.013710               0.997296   \n",
       "rating_numerator        -0.454675  0.454702               0.053143   \n",
       "rating_denominator            NaN       NaN                    NaN   \n",
       "img_num                 -0.192231  0.192242               0.004520   \n",
       "p1_conf                 -0.067923  0.067927              -0.015027   \n",
       "p1_dog                  -0.110507  0.110513              -0.040098   \n",
       "p2_conf                  0.001652 -0.001652              -0.004104   \n",
       "p2_dog                  -0.107616  0.107623              -0.014968   \n",
       "p3_conf                  0.038562 -0.038565               0.022300   \n",
       "p3_dog                  -0.086803  0.086808              -0.016962   \n",
       "retweet_count           -0.578199  0.578232              -0.040321   \n",
       "favorite_count          -0.706189  0.706230              -0.033143   \n",
       "\n",
       "                       in_reply_to_user_id  rating_numerator  \\\n",
       "Unnamed: 0                        0.013709         -0.454675   \n",
       "tweet_id                         -0.013710          0.454702   \n",
       "in_reply_to_status_id             0.997296          0.053143   \n",
       "in_reply_to_user_id               1.000000          0.053329   \n",
       "rating_numerator                  0.053329          1.000000   \n",
       "rating_denominator                     NaN               NaN   \n",
       "img_num                           0.004408          0.174578   \n",
       "p1_conf                          -0.015328          0.078962   \n",
       "p1_dog                           -0.040138          0.191865   \n",
       "p2_conf                          -0.003916         -0.007481   \n",
       "p2_dog                           -0.014710          0.147796   \n",
       "p3_conf                           0.022601         -0.038617   \n",
       "p3_dog                           -0.017208          0.154538   \n",
       "retweet_count                    -0.040529          0.400022   \n",
       "favorite_count                   -0.033433          0.443558   \n",
       "\n",
       "                       rating_denominator   img_num   p1_conf    p1_dog  \\\n",
       "Unnamed: 0                            NaN -0.192231 -0.067923 -0.110507   \n",
       "tweet_id                              NaN  0.192242  0.067927  0.110513   \n",
       "in_reply_to_status_id                 NaN  0.004520 -0.015027 -0.040098   \n",
       "in_reply_to_user_id                   NaN  0.004408 -0.015328 -0.040138   \n",
       "rating_numerator                      NaN  0.174578  0.078962  0.191865   \n",
       "rating_denominator                    1.0       NaN       NaN       NaN   \n",
       "img_num                               NaN  1.000000  0.164777  0.045640   \n",
       "p1_conf                               NaN  0.164777  1.000000  0.105872   \n",
       "p1_dog                                NaN  0.045640  0.105872  1.000000   \n",
       "p2_conf                               NaN -0.122295 -0.433185  0.089241   \n",
       "p2_dog                                NaN  0.078514  0.117995  0.632665   \n",
       "p3_conf                               NaN -0.111316 -0.600807  0.015386   \n",
       "p3_dog                                NaN  0.080718  0.099936  0.562442   \n",
       "retweet_count                         NaN  0.179850  0.078027  0.044127   \n",
       "favorite_count                        NaN  0.181950  0.081050  0.081242   \n",
       "\n",
       "                        p2_conf    p2_dog   p3_conf    p3_dog  retweet_count  \\\n",
       "Unnamed: 0             0.001652 -0.107616  0.038562 -0.086803      -0.578199   \n",
       "tweet_id              -0.001652  0.107623 -0.038565  0.086808       0.578232   \n",
       "in_reply_to_status_id -0.004104 -0.014968  0.022300 -0.016962      -0.040321   \n",
       "in_reply_to_user_id   -0.003916 -0.014710  0.022601 -0.017208      -0.040529   \n",
       "rating_numerator      -0.007481  0.147796 -0.038617  0.154538       0.400022   \n",
       "rating_denominator          NaN       NaN       NaN       NaN            NaN   \n",
       "img_num               -0.122295  0.078514 -0.111316  0.080718       0.179850   \n",
       "p1_conf               -0.433185  0.117995 -0.600807  0.099936       0.078027   \n",
       "p1_dog                 0.089241  0.632665  0.015386  0.562442       0.044127   \n",
       "p2_conf                1.000000  0.072439  0.471961  0.058986      -0.027128   \n",
       "p2_dog                 0.072439  1.000000  0.000061  0.560182       0.051240   \n",
       "p3_conf                0.471961  0.000061  1.000000  0.012818      -0.064755   \n",
       "p3_dog                 0.058986  0.560182  0.012818  1.000000       0.015538   \n",
       "retweet_count         -0.027128  0.051240 -0.064755  0.015538       1.000000   \n",
       "favorite_count        -0.016035  0.082677 -0.058203  0.047540       0.845157   \n",
       "\n",
       "                       favorite_count  \n",
       "Unnamed: 0                  -0.706189  \n",
       "tweet_id                     0.706230  \n",
       "in_reply_to_status_id       -0.033143  \n",
       "in_reply_to_user_id         -0.033433  \n",
       "rating_numerator             0.443558  \n",
       "rating_denominator                NaN  \n",
       "img_num                      0.181950  \n",
       "p1_conf                      0.081050  \n",
       "p1_dog                       0.081242  \n",
       "p2_conf                     -0.016035  \n",
       "p2_dog                       0.082677  \n",
       "p3_conf                     -0.058203  \n",
       "p3_dog                       0.047540  \n",
       "retweet_count                0.845157  \n",
       "favorite_count               1.000000  "
      ]
     },
     "execution_count": 11,
     "metadata": {},
     "output_type": "execute_result"
    }
   ],
   "source": [
    "master_df.corr(method='kendall')"
   ]
  },
  {
   "cell_type": "markdown",
   "metadata": {},
   "source": []
  },
  {
   "cell_type": "markdown",
   "metadata": {},
   "source": [
    "### Insights:\n",
    "1. The most common dog name are Cooper, Charlie, Oliver and Lucy \n",
    "\n",
    "2. The most common dog breeds are Golden_retriever, Labrador_retriever and Pembrok\n",
    "\n",
    "3. The most used tweeter source is Twitter for iPhone\n",
    "\n",
    "4. December 2015 has the highest number of tweets\n",
    "\n",
    "5. The highest number of rating is on the scale of 12\n",
    "\n",
    "6. The retweet_count has a positive correlation with the favorite_count"
   ]
  },
  {
   "cell_type": "code",
   "execution_count": 13,
   "metadata": {},
   "outputs": [
    {
     "data": {
      "text/plain": [
       "12      522\n",
       "10      477\n",
       "11      467\n",
       "13      306\n",
       "9       168\n",
       "8       110\n",
       "7        60\n",
       "14       50\n",
       "5        35\n",
       "6        33\n",
       "3        20\n",
       "4        16\n",
       "2         9\n",
       "1         5\n",
       "0         2\n",
       "27        2\n",
       "60        1\n",
       "24        1\n",
       "26        1\n",
       "44        1\n",
       "50        1\n",
       "165       1\n",
       "80        1\n",
       "84        1\n",
       "88        1\n",
       "143       1\n",
       "204       1\n",
       "420       1\n",
       "1776      1\n",
       "45        1\n",
       "75        1\n",
       "99        1\n",
       "121       1\n",
       "144       1\n",
       "Name: rating_numerator, dtype: int64"
      ]
     },
     "execution_count": 13,
     "metadata": {},
     "output_type": "execute_result"
    }
   ],
   "source": [
    "master_df['rating_numerator'].value_counts()"
   ]
  },
  {
   "cell_type": "code",
   "execution_count": 14,
   "metadata": {},
   "outputs": [
    {
     "data": {
      "text/plain": [
       "1365"
      ]
     },
     "execution_count": 14,
     "metadata": {},
     "output_type": "execute_result"
    }
   ],
   "source": [
    "master_df['rating_numerator'][master_df['rating_numerator']> 10].value_counts().sum()"
   ]
  },
  {
   "cell_type": "markdown",
   "metadata": {},
   "source": [
    "##### Out of the 2300 rated dog by the WeRateDog. We can only found 1365 dogs which are reated above 10. Which amount to 59%. \n"
   ]
  },
  {
   "cell_type": "code",
   "execution_count": 15,
   "metadata": {
    "scrolled": true
   },
   "outputs": [
    {
     "data": {
      "text/plain": [
       "None        773\n",
       "Cooper       13\n",
       "Oliver       12\n",
       "Charlie      12\n",
       "Lucy         11\n",
       "Penny         9\n",
       "Winston       9\n",
       "Tucker        9\n",
       "Bo            8\n",
       "Sadie         8\n",
       "Daisy         7\n",
       "Lola          7\n",
       "Milo          7\n",
       "Toby          7\n",
       "Bella         7\n",
       "Jax           7\n",
       "Koda          6\n",
       "Gus           6\n",
       "Scout         6\n",
       "Stanley       6\n",
       "Sophie        5\n",
       "Finn          5\n",
       "Scooter       5\n",
       "Louis         5\n",
       "Leo           5\n",
       "Larry         5\n",
       "Phil          5\n",
       "Derek         5\n",
       "Bailey        5\n",
       "Clark         5\n",
       "           ... \n",
       "Marlee        1\n",
       "Milky         1\n",
       "Robin         1\n",
       "Quinn         1\n",
       "Obi           1\n",
       "Ruffles       1\n",
       "Pancake       1\n",
       "Tino          1\n",
       "Vinnie        1\n",
       "Brockly       1\n",
       "Grey          1\n",
       "Al            1\n",
       "Karll         1\n",
       "Timofy        1\n",
       "Keet          1\n",
       "Chevy         1\n",
       "Jordy         1\n",
       "Nugget        1\n",
       "Sunshine      1\n",
       "Halo          1\n",
       "Kobe          1\n",
       "Lambeau       1\n",
       "Biden         1\n",
       "Aubie         1\n",
       "Creg          1\n",
       "Rodney        1\n",
       "Pupcasso      1\n",
       "Ridley        1\n",
       "Cal           1\n",
       "Walker        1\n",
       "Name: name, Length: 914, dtype: int64"
      ]
     },
     "execution_count": 15,
     "metadata": {},
     "output_type": "execute_result"
    }
   ],
   "source": [
    "master_df.name.value_counts()"
   ]
  },
  {
   "cell_type": "code",
   "execution_count": 24,
   "metadata": {},
   "outputs": [
    {
     "data": {
      "text/plain": [
       "2015-11    296\n",
       "2015-12    430\n",
       "2016-01    210\n",
       "2016-02    131\n",
       "2016-03    132\n",
       "2016-04     65\n",
       "2016-05     71\n",
       "2016-06     95\n",
       "2016-07    112\n",
       "2016-08     63\n",
       "2016-09     75\n",
       "2016-10     72\n",
       "2016-11     66\n",
       "2016-12     63\n",
       "2017-01     82\n",
       "2017-02     79\n",
       "2017-03     54\n",
       "2017-04     45\n",
       "2017-05     48\n",
       "2017-06     52\n",
       "2017-07     57\n",
       "2017-08      2\n",
       "Name: timestamp, dtype: int64"
      ]
     },
     "execution_count": 24,
     "metadata": {},
     "output_type": "execute_result"
    }
   ],
   "source": [
    "# Number of tweets posted by WerateDogs from 2015 to 2017\n",
    "master_df['timestamp'].apply(lambda x: x.strftime('%Y-%m')).value_counts().sort_index()"
   ]
  },
  {
   "cell_type": "markdown",
   "metadata": {},
   "source": [
    "### Visualization"
   ]
  },
  {
   "cell_type": "code",
   "execution_count": 5,
   "metadata": {
    "scrolled": true
   },
   "outputs": [
    {
     "data": {
      "image/png": "[encoded data removed]",
      "text/plain": [
       "<matplotlib.figure.Figure at 0x7f5177bbe0f0>"
      ]
     },
     "metadata": {
      "needs_background": "light"
     },
     "output_type": "display_data"
    }
   ],
   "source": [
    "# The most common dog name \n",
    "master_df.name.value_counts()[0:10].plot('barh', figsize=(16,8), title='Most common dog name').set_xlabel(\"Number of dogs\");"
   ]
  },
  {
   "cell_type": "markdown",
   "metadata": {},
   "source": [
    "The most common dog name are Cooper, Charlie, Oliver and Lucy"
   ]
  },
  {
   "cell_type": "code",
   "execution_count": 7,
   "metadata": {
    "scrolled": true
   },
   "outputs": [
    {
     "data": {
      "image/png": "[encoded data removed]",
      "text/plain": [
       "<matplotlib.figure.Figure at 0x7f5175afaba8>"
      ]
     },
     "metadata": {
      "needs_background": "light"
     },
     "output_type": "display_data"
    }
   ],
   "source": [
    "# The most common dog breeds\n",
    "plt.figure(figsize=(16,9))\n",
    "ax = sns.barplot(x = master_df['p1'].value_counts()[0:10].index,\n",
    "                y = master_df['p1'].value_counts()[0:10],\n",
    "                data = master_df);\n",
    "plt.xlabel(\"Dog Breeds\",fontsize = 16);\n",
    "plt.ylabel(\"Prediction Count\",fontsize = 16);\n",
    "plt.title(\"Most common dog Breeds\",fontsize = 16);"
   ]
  },
  {
   "cell_type": "markdown",
   "metadata": {},
   "source": [
    "The most common dog breeds are Golden_retriever, Labrador_retriever and Pembrok"
   ]
  },
  {
   "cell_type": "code",
   "execution_count": 8,
   "metadata": {},
   "outputs": [
    {
     "data": {
      "image/png": "[encoded data removed]",
      "text/plain": [
       "<matplotlib.figure.Figure at 0x7f5175a3bef0>"
      ]
     },
     "metadata": {
      "needs_background": "light"
     },
     "output_type": "display_data"
    }
   ],
   "source": [
    "# The most used tweeter source\n",
    "master_df['source'].value_counts().plot('barh', figsize=(13,6), title='Most used Twitter source').set_xlabel(\"Number of Tweets\")\n",
    "plt.savefig('twitter_source')"
   ]
  },
  {
   "cell_type": "markdown",
   "metadata": {},
   "source": [
    "The most used tweeter source is Twitter for iPhone"
   ]
  },
  {
   "cell_type": "code",
   "execution_count": 34,
   "metadata": {
    "scrolled": true
   },
   "outputs": [
    {
     "data": {
      "image/png": "[encoded data removed]",
      "text/plain": [
       "<matplotlib.figure.Figure at 0x7f51752f34a8>"
      ]
     },
     "metadata": {
      "needs_background": "light"
     },
     "output_type": "display_data"
    }
   ],
   "source": [
    "plt.rcParams[\"figure.figsize\"] = [10, 7]\n",
    "data = master_df.tweet_id.groupby([master_df[\"timestamp\"].dt.year, master_df[\"timestamp\"].dt.month]).count()\n",
    "ax = data.plot('barh', title='WeRateDogs tweeting trend over time')\n",
    "ax.set_xlabel(\"Number of Tweets\")\n",
    "ax.set_ylabel(\"(Year, Month)\")\n",
    "plt.savefig('tweets_trend')"
   ]
  },
  {
   "cell_type": "markdown",
   "metadata": {},
   "source": [
    "December 2015 has the highest number of tweets "
   ]
  },
  {
   "cell_type": "code",
   "execution_count": 35,
   "metadata": {},
   "outputs": [
    {
     "data": {
      "image/png": "[encoded data removed]",
      "text/plain": [
       "<matplotlib.figure.Figure at 0x7f51751e1198>"
      ]
     },
     "metadata": {
      "needs_background": "light"
     },
     "output_type": "display_data"
    }
   ],
   "source": [
    "# Dogs rating distributions\n",
    "ax = master_df.rating_numerator.value_counts().sort_index().plot('bar', title = 'The Dogs Rating Distribution')\n",
    "ax.set_xlabel(\"Rating out of 10\")\n",
    "ax.set_ylabel(\"Number of Dogs\")\n",
    "ax.set_yticks([0, 100, 200, 300, 400, 500])\n",
    "plt.savefig('rating_num')"
   ]
  },
  {
   "cell_type": "markdown",
   "metadata": {},
   "source": [
    "The highest number of rating is on the scale of 12"
   ]
  },
  {
   "cell_type": "code",
   "execution_count": 12,
   "metadata": {},
   "outputs": [
    {
     "data": {
      "text/plain": [
       "Text(-15.075,0.5,'Favorite Count')"
      ]
     },
     "execution_count": 12,
     "metadata": {},
     "output_type": "execute_result"
    },
    {
     "data": {
      "image/png": "[encoded data removed]",
      "text/plain": [
       "<matplotlib.figure.Figure at 0x7f0c3ac48c18>"
      ]
     },
     "metadata": {
      "needs_background": "light"
     },
     "output_type": "display_data"
    }
   ],
   "source": [
    "#Scatterplot of retweets vs favorite count\n",
    "\n",
    "sns.lmplot(x=\"retweet_count\", \n",
    "           y=\"favorite_count\", \n",
    "           data=master_df,\n",
    "           size = 8,\n",
    "           aspect=1.4,\n",
    "           scatter_kws={'s': 1,'alpha':1/5});\n",
    "\n",
    "plt.title('Favorite Count vs. Retweet Count')\n",
    "plt.xlabel('Retweet Count')\n",
    "plt.ylabel('Favorite Count')"
   ]
  }
 ],
 "metadata": {
  "extensions": {
   "jupyter_dashboards": {
    "activeView": "report_default",
    "version": 1,
    "views": {
     "grid_default": {
      "cellMargin": 10,
      "defaultCellHeight": 20,
      "maxColumns": 12,
      "name": "grid",
      "type": "grid"
     },
     "report_default": {
      "name": "report",
      "type": "report"
     }
    }
   }
  },
  "kernelspec": {
   "display_name": "Python 3",
   "language": "python",
   "name": "python3"
  },
  "language_info": {
   "codemirror_mode": {
    "name": "ipython",
    "version": 3
   },
   "file_extension": ".py",
   "mimetype": "text/x-python",
   "name": "python",
   "nbconvert_exporter": "python",
   "pygments_lexer": "ipython3",
   "version": "3.6.3"
  }
 },
 "nbformat": 4,
 "nbformat_minor": 2
}
